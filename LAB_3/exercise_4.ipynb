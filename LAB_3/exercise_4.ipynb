{
 "cells": [
  {
   "cell_type": "markdown",
   "source": [
    "# Zadanie 6\n",
    "Stwórz model regresji SVR przy użyciu biblioteki scikit-learn. Chcemy przewidywać czas\n",
    "przeżycia pacjentów na podstawie różnych cech zdrowia, takich jak wiek pacjenta, BMI,\n",
    "ciśnienie krwi, poziom glukozy we krwi, Chlesterol oraz poziom kreatyniny we krwi. Dobierz odpowiednie wartości parametrów kernela i regularyzacji (C). Porównaj wyniki regresji z różnymi parametrami kernela i regularyzacji. Porównaj wyniki regresji SVR z innymi metodami regresji i zidentyfikuj, która daje najlepsze wyniki."
   ],
   "metadata": {
    "collapsed": false
   },
   "id": "c75f69b6ea914ce2"
  },
  {
   "cell_type": "markdown",
   "source": [
    "# Uwagi\n",
    "Niestety nie znalazłem prawdziwego datasetu który zawierałby wszystkie wymienione cechy zdrowia. Znalazłem jednak dataset który zawiera informacje o pacjentach z niewydolnością serca. Zamiast przewidywać czas przeżycia pacjentów, będę przewidywał czy pacjent umrze czy nie."
   ],
   "metadata": {
    "collapsed": false
   },
   "id": "9ddf9757ff67d7c3"
  },
  {
   "cell_type": "code",
   "execution_count": 8,
   "outputs": [],
   "source": [
    "import pandas as pd\n",
    "import numpy as np\n",
    "import matplotlib.pyplot as plt\n",
    "from sklearn.svm import SVR\n",
    "from sklearn.model_selection import train_test_split\n",
    "from sklearn.metrics import mean_squared_error\n",
    "from sklearn.linear_model import LogisticRegression"
   ],
   "metadata": {
    "collapsed": false,
    "ExecuteTime": {
     "end_time": "2024-03-16T11:36:16.273038600Z",
     "start_time": "2024-03-16T11:36:16.249293700Z"
    }
   },
   "id": "317f28676dd5d64b"
  },
  {
   "cell_type": "code",
   "execution_count": 2,
   "outputs": [
    {
     "data": {
      "text/plain": "    age  anaemia  creatinine_phosphokinase  diabetes  ejection_fraction  \\\n0  75.0        0                       582         0                 20   \n1  55.0        0                      7861         0                 38   \n2  65.0        0                       146         0                 20   \n3  50.0        1                       111         0                 20   \n4  65.0        1                       160         1                 20   \n\n   high_blood_pressure  platelets  serum_creatinine  serum_sodium  sex  \\\n0                    1  265000.00               1.9           130    1   \n1                    0  263358.03               1.1           136    1   \n2                    0  162000.00               1.3           129    1   \n3                    0  210000.00               1.9           137    1   \n4                    0  327000.00               2.7           116    0   \n\n   smoking  time  DEATH_EVENT  \n0        0     4            1  \n1        0     6            1  \n2        1     7            1  \n3        0     7            1  \n4        0     8            1  ",
      "text/html": "<div>\n<style scoped>\n    .dataframe tbody tr th:only-of-type {\n        vertical-align: middle;\n    }\n\n    .dataframe tbody tr th {\n        vertical-align: top;\n    }\n\n    .dataframe thead th {\n        text-align: right;\n    }\n</style>\n<table border=\"1\" class=\"dataframe\">\n  <thead>\n    <tr style=\"text-align: right;\">\n      <th></th>\n      <th>age</th>\n      <th>anaemia</th>\n      <th>creatinine_phosphokinase</th>\n      <th>diabetes</th>\n      <th>ejection_fraction</th>\n      <th>high_blood_pressure</th>\n      <th>platelets</th>\n      <th>serum_creatinine</th>\n      <th>serum_sodium</th>\n      <th>sex</th>\n      <th>smoking</th>\n      <th>time</th>\n      <th>DEATH_EVENT</th>\n    </tr>\n  </thead>\n  <tbody>\n    <tr>\n      <th>0</th>\n      <td>75.0</td>\n      <td>0</td>\n      <td>582</td>\n      <td>0</td>\n      <td>20</td>\n      <td>1</td>\n      <td>265000.00</td>\n      <td>1.9</td>\n      <td>130</td>\n      <td>1</td>\n      <td>0</td>\n      <td>4</td>\n      <td>1</td>\n    </tr>\n    <tr>\n      <th>1</th>\n      <td>55.0</td>\n      <td>0</td>\n      <td>7861</td>\n      <td>0</td>\n      <td>38</td>\n      <td>0</td>\n      <td>263358.03</td>\n      <td>1.1</td>\n      <td>136</td>\n      <td>1</td>\n      <td>0</td>\n      <td>6</td>\n      <td>1</td>\n    </tr>\n    <tr>\n      <th>2</th>\n      <td>65.0</td>\n      <td>0</td>\n      <td>146</td>\n      <td>0</td>\n      <td>20</td>\n      <td>0</td>\n      <td>162000.00</td>\n      <td>1.3</td>\n      <td>129</td>\n      <td>1</td>\n      <td>1</td>\n      <td>7</td>\n      <td>1</td>\n    </tr>\n    <tr>\n      <th>3</th>\n      <td>50.0</td>\n      <td>1</td>\n      <td>111</td>\n      <td>0</td>\n      <td>20</td>\n      <td>0</td>\n      <td>210000.00</td>\n      <td>1.9</td>\n      <td>137</td>\n      <td>1</td>\n      <td>0</td>\n      <td>7</td>\n      <td>1</td>\n    </tr>\n    <tr>\n      <th>4</th>\n      <td>65.0</td>\n      <td>1</td>\n      <td>160</td>\n      <td>1</td>\n      <td>20</td>\n      <td>0</td>\n      <td>327000.00</td>\n      <td>2.7</td>\n      <td>116</td>\n      <td>0</td>\n      <td>0</td>\n      <td>8</td>\n      <td>1</td>\n    </tr>\n  </tbody>\n</table>\n</div>"
     },
     "execution_count": 2,
     "metadata": {},
     "output_type": "execute_result"
    }
   ],
   "source": [
    "# Wczytanie danych\n",
    "data = pd.read_csv('data/heart_failure_clinical_records_dataset.csv')\n",
    "data.head()"
   ],
   "metadata": {
    "collapsed": false,
    "ExecuteTime": {
     "end_time": "2024-03-16T11:23:36.350073800Z",
     "start_time": "2024-03-16T11:23:36.272772800Z"
    }
   },
   "id": "18d543934f9522b"
  },
  {
   "cell_type": "code",
   "execution_count": 3,
   "outputs": [],
   "source": [
    "# Dane do modelu podział na treningowe i testowe\n",
    "X = data[['age', 'anaemia', 'creatinine_phosphokinase', 'diabetes', 'high_blood_pressure', 'platelets', 'serum_creatinine', 'serum_sodium', 'smoking', 'time', 'ejection_fraction', 'serum_creatinine', 'serum_sodium']]\n",
    "y = data['DEATH_EVENT']\n",
    "\n",
    "X_train, X_test, y_train, y_test = train_test_split(X, y, test_size=0.2, random_state=42)\n"
   ],
   "metadata": {
    "collapsed": false,
    "ExecuteTime": {
     "end_time": "2024-03-16T11:23:36.352273600Z",
     "start_time": "2024-03-16T11:23:36.328661700Z"
    }
   },
   "id": "d85b49943c1c80dc"
  },
  {
   "cell_type": "markdown",
   "source": [
    "# Model regresji SVR"
   ],
   "metadata": {
    "collapsed": false
   },
   "id": "ec13b022e36c7d8b"
  },
  {
   "cell_type": "code",
   "execution_count": 4,
   "outputs": [],
   "source": [
    "# Model regresji SVR\n",
    "svr = SVR(kernel='rbf', C=1.0)\n",
    "svr.fit(X_train, y_train)\n",
    "\n",
    "# Predykcje\n",
    "y_pred = svr.predict(X_test)"
   ],
   "metadata": {
    "collapsed": false,
    "ExecuteTime": {
     "end_time": "2024-03-16T11:23:36.405620300Z",
     "start_time": "2024-03-16T11:23:36.336798500Z"
    }
   },
   "id": "74b8b9a19684518f"
  },
  {
   "cell_type": "code",
   "execution_count": 5,
   "outputs": [
    {
     "data": {
      "text/plain": "0.3435787306748329"
     },
     "execution_count": 5,
     "metadata": {},
     "output_type": "execute_result"
    }
   ],
   "source": [
    "# Średni Błąd kwadratowy modelu\n",
    "mean_squared_error(y_test, y_pred)"
   ],
   "metadata": {
    "collapsed": false,
    "ExecuteTime": {
     "end_time": "2024-03-16T11:23:36.407618200Z",
     "start_time": "2024-03-16T11:23:36.372136Z"
    }
   },
   "id": "2996ada427145d65"
  },
  {
   "cell_type": "code",
   "execution_count": 6,
   "outputs": [
    {
     "data": {
      "text/plain": "Text(0.5, 0, 'age')"
     },
     "execution_count": 6,
     "metadata": {},
     "output_type": "execute_result"
    },
    {
     "data": {
      "text/plain": "<Figure size 640x480 with 1 Axes>",
      "image/png": "[encoded data removed]"
     },
     "metadata": {},
     "output_type": "display_data"
    }
   ],
   "source": [
    "# Zamień na wartości binarne przy warunku 0.5\n",
    "y_pred = np.where(y_pred >= 0.1, 1, 0)\n",
    "y_pred\n",
    "\n",
    "# Wizualizacja dla testowych danych\n",
    "plt.scatter(X_test['age'], y_test, color = 'red')\n",
    "plt.xlabel('age')"
   ],
   "metadata": {
    "collapsed": false,
    "ExecuteTime": {
     "end_time": "2024-03-16T11:23:36.756484800Z",
     "start_time": "2024-03-16T11:23:36.400387300Z"
    }
   },
   "id": "ae59b65d253928d2"
  },
  {
   "cell_type": "code",
   "execution_count": 7,
   "outputs": [
    {
     "data": {
      "text/plain": "Text(0.5, 0, 'age')"
     },
     "execution_count": 7,
     "metadata": {},
     "output_type": "execute_result"
    },
    {
     "data": {
      "text/plain": "<Figure size 640x480 with 1 Axes>",
      "image/png": "[encoded data removed]"
     },
     "metadata": {},
     "output_type": "display_data"
    }
   ],
   "source": [
    "# Wizualizacja dla testowych danych\n",
    "plt.scatter(X_test['age'], y_pred, color = 'blue')\n",
    "plt.xlabel('age')"
   ],
   "metadata": {
    "collapsed": false,
    "ExecuteTime": {
     "end_time": "2024-03-16T11:23:37.186076900Z",
     "start_time": "2024-03-16T11:23:36.646096200Z"
    }
   },
   "id": "a26a0d0763c0c17c"
  },
  {
   "cell_type": "markdown",
   "source": [
    "# Model Regresji Logistycznej\n",
    "Model SVR kompletnie nie nadaje się do naszego problemu. Zamiast tego użyjemy modelu regresji logistycznej, która powinna o wiele lepiej przewidzieć czy nasz pacjent umrze czy nie."
   ],
   "metadata": {
    "collapsed": false
   },
   "id": "bd5bab6f81c018fe"
  },
  {
   "cell_type": "code",
   "execution_count": 11,
   "outputs": [],
   "source": [
    "# Tworzenie modelu regresji logistycznej\n",
    "logistic = LogisticRegression()\n",
    "logistic.fit(X_train, y_train)\n",
    "\n",
    "# Predykcje\n",
    "y_pred = logistic.predict(X_test)\n"
   ],
   "metadata": {
    "collapsed": false,
    "ExecuteTime": {
     "end_time": "2024-03-16T11:36:48.551115200Z",
     "start_time": "2024-03-16T11:36:48.497496900Z"
    }
   },
   "id": "4e593278e4d7c392"
  },
  {
   "cell_type": "code",
   "execution_count": 12,
   "outputs": [
    {
     "data": {
      "text/plain": "0.18333333333333332"
     },
     "execution_count": 12,
     "metadata": {},
     "output_type": "execute_result"
    }
   ],
   "source": [
    "# Średni Błąd kwadratowy modelu\n",
    "mean_squared_error(y_test, y_pred)"
   ],
   "metadata": {
    "collapsed": false,
    "ExecuteTime": {
     "end_time": "2024-03-16T11:36:50.607560Z",
     "start_time": "2024-03-16T11:36:50.582707800Z"
    }
   },
   "id": "23f164221aaa52eb"
  },
  {
   "cell_type": "code",
   "execution_count": 13,
   "outputs": [
    {
     "data": {
      "text/plain": "array([0, 0, 0, 1, 0, 0, 1, 0, 1, 0, 0, 0, 0, 0, 0, 1, 0, 0, 0, 1, 0, 0,\n       0, 1, 1, 0, 0, 0, 0, 0, 1, 0, 1, 1, 0, 0, 0, 0, 0, 0, 1, 1, 0, 0,\n       0, 0, 0, 0, 0, 0, 1, 0, 1, 0, 0, 0, 0, 1, 0, 1], dtype=int64)"
     },
     "execution_count": 13,
     "metadata": {},
     "output_type": "execute_result"
    }
   ],
   "source": [
    "y_pred"
   ],
   "metadata": {
    "collapsed": false,
    "ExecuteTime": {
     "end_time": "2024-03-16T11:37:09.418845300Z",
     "start_time": "2024-03-16T11:37:09.368874300Z"
    }
   },
   "id": "327d4ecda07a1364"
  },
  {
   "cell_type": "code",
   "execution_count": 15,
   "outputs": [
    {
     "data": {
      "text/plain": "Text(0, 0.5, 'DEATH_EVENT')"
     },
     "execution_count": 15,
     "metadata": {},
     "output_type": "execute_result"
    },
    {
     "data": {
      "text/plain": "<Figure size 640x480 with 1 Axes>",
      "image/png": "[encoded data removed]"
     },
     "metadata": {},
     "output_type": "display_data"
    }
   ],
   "source": [
    "# Wizualizacja dla testowych danych\n",
    "plt.scatter(X_test['age'], y_test, color = 'red')\n",
    "plt.xlabel('age')\n",
    "plt.ylabel('DEATH_EVENT')"
   ],
   "metadata": {
    "collapsed": false,
    "ExecuteTime": {
     "end_time": "2024-03-16T11:37:37.136072200Z",
     "start_time": "2024-03-16T11:37:36.900236400Z"
    }
   },
   "id": "70d32c7e9fa3f51f"
  },
  {
   "cell_type": "code",
   "execution_count": 16,
   "outputs": [
    {
     "data": {
      "text/plain": "Text(0, 0.5, 'DEATH_EVENT')"
     },
     "execution_count": 16,
     "metadata": {},
     "output_type": "execute_result"
    },
    {
     "data": {
      "text/plain": "<Figure size 640x480 with 1 Axes>",
      "image/png": "[encoded data removed]"
     },
     "metadata": {},
     "output_type": "display_data"
    }
   ],
   "source": [
    "# Wizuazlizacja dla predykcji\n",
    "plt.scatter(X_test['age'], y_pred, color = 'blue')\n",
    "plt.xlabel('age')\n",
    "plt.ylabel('DEATH_EVENT')\n"
   ],
   "metadata": {
    "collapsed": false,
    "ExecuteTime": {
     "end_time": "2024-03-16T11:37:53.433619800Z",
     "start_time": "2024-03-16T11:37:53.246406700Z"
    }
   },
   "id": "6e1d5126d1ccdb20"
  },
  {
   "cell_type": "code",
   "execution_count": null,
   "outputs": [],
   "source": [],
   "metadata": {
    "collapsed": false
   },
   "id": "afb1775a7c530d6d"
  }
 ],
 "metadata": {
  "kernelspec": {
   "display_name": "Python 3",
   "language": "python",
   "name": "python3"
  },
  "language_info": {
   "codemirror_mode": {
    "name": "ipython",
    "version": 2
   },
   "file_extension": ".py",
   "mimetype": "text/x-python",
   "name": "python",
   "nbconvert_exporter": "python",
   "pygments_lexer": "ipython2",
   "version": "2.7.6"
  }
 },
 "nbformat": 4,
 "nbformat_minor": 5
}
