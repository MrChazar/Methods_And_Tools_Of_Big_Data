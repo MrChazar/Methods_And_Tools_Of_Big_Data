{
 "cells": [
  {
   "cell_type": "markdown",
   "source": [
    "# Zad 1, 2, 3\n",
    "Wczytaj zbiór danych Credit Card Default, który zawiera informacje o klientach bankowych,\n",
    "takie jak saldo, limit kredytowy, płeć, wiek itp. Następnie oczyść dane poprzez usuwanie brakujących wartości i kodowanie zmiennych kategorycznych\n",
    "\n",
    "Zastosuj algorytm K-means do zgrupowania klientów bankowych na podstawie ich zachowań\n",
    "finansowych. Podziel klientów na kilka klastrów i zbadaj, jak różnią się między sobą\n",
    "\n",
    "Wykorzystaj metodę Mean Shift do identyfikacji naturalnych grup w danych Credit Card Default. Porównaj wyniki z algorytmem K-means i przeanalizuj, czy różnią się od siebie."
   ],
   "metadata": {
    "collapsed": false
   },
   "id": "cd368af16ad98c2c"
  },
  {
   "cell_type": "code",
   "execution_count": null,
   "outputs": [],
   "source": [
    "import matplotlib.pyplot as plt\n",
    "import pandas as pd\n",
    "from sklearn.cluster import KMeans\n",
    "from sklearn.cluster import MeanShift\n",
    "import numpy as np "
   ],
   "metadata": {
    "collapsed": false,
    "ExecuteTime": {
     "start_time": "2024-05-07T14:16:58.734207500Z"
    }
   },
   "id": "59fe6acf921e1702"
  },
  {
   "cell_type": "code",
   "execution_count": null,
   "outputs": [],
   "source": [
    "# Wczytanie danych\n",
    "data = pd.read_csv(\"data/credit.csv\")\n",
    "target = data['default.payment.next.month']\n",
    "data.drop('default.payment.next.month', axis='columns')\n",
    "data"
   ],
   "metadata": {
    "collapsed": false,
    "ExecuteTime": {
     "start_time": "2024-05-07T14:16:58.740528200Z"
    }
   },
   "id": "fb16f86da3e923cd"
  },
  {
   "cell_type": "code",
   "execution_count": null,
   "outputs": [],
   "source": [
    "# Usuwanie brakujących wartości\n",
    "data.dropna(inplace=True)\n",
    "\n",
    "# Usunięcie duplikatów\n",
    "data.drop_duplicates(inplace=True)\n",
    "\n",
    "# Usunięcie niepotrzebnych kolumn\n",
    "data.drop(['ID'], axis=1, inplace=True)\n",
    "\n",
    "data['PAY'] = data['PAY_0'] + data['PAY_2'] + data['PAY_3'] + data['PAY_4'] + data['PAY_5'] + data['PAY_6']\n",
    "\n",
    "data['BILL'] = data['BILL_AMT1'] + data['BILL_AMT2'] + data['BILL_AMT3'] + data['BILL_AMT4'] + data['BILL_AMT6'] + data['BILL_AMT6']\n",
    "\n",
    "data['PAY_AMT'] = data['PAY_AMT1'] + data['PAY_AMT2'] + data['PAY_AMT3'] + data['PAY_AMT4'] + data['PAY_AMT6']\n",
    "\n",
    "data.drop(['PAY_0', 'PAY_2', 'PAY_3', 'PAY_4', 'PAY_5', 'PAY_6'], axis =1, inplace=True)\n",
    "data.drop(['BILL_AMT1', 'BILL_AMT2', 'BILL_AMT3', 'BILL_AMT4', 'BILL_AMT5', 'BILL_AMT6'], axis=1, inplace=True)\n",
    "data.drop(['PAY_AMT1', 'PAY_AMT2', 'PAY_AMT3', 'PAY_AMT3', 'PAY_AMT4', 'PAY_AMT5', 'PAY_AMT6'], axis=1, inplace=True)\n",
    "\n",
    "data"
   ],
   "metadata": {
    "collapsed": false,
    "ExecuteTime": {
     "start_time": "2024-05-07T14:16:58.740528200Z"
    }
   },
   "id": "e76277ca3a01a8cf"
  },
  {
   "cell_type": "code",
   "execution_count": null,
   "outputs": [],
   "source": [
    "# Inicjalizacja i dopasowanie modelu K-means\n",
    "k = 2\n",
    "X = data\n",
    "kmeans = KMeans(n_clusters=k, random_state=42)\n",
    "kmeans.fit(X)\n",
    "# Przewidywanie przynależności do klastrów dla każdej próbki\n",
    "labels = kmeans.labels_\n",
    "# Wyświetlenie wyników\n",
    "plt.figure(figsize=(10, 6))\n",
    "plt.scatter(X['AGE'], X['BILL'], c=labels, cmap='viridis', alpha=0.5)\n",
    "plt.xlabel(\"Wiek\")\n",
    "plt.ylabel(\"Bill\")\n",
    "#plt.scatter(kmeans.cluster_centers_[:, 0], kmeans.cluster_centers_[:, 1], marker='x', s=200, c='red')\n",
    "plt.show()"
   ],
   "metadata": {
    "collapsed": false,
    "ExecuteTime": {
     "start_time": "2024-05-07T14:16:58.744816500Z"
    }
   },
   "id": "b56fe32936ab5e2a"
  },
  {
   "cell_type": "code",
   "execution_count": null,
   "outputs": [],
   "source": [
    "# Implementacja Mean Shift\n",
    "ms = MeanShift()\n",
    "ms.fit(X)\n",
    "cluster_centers = ms.cluster_centers_\n",
    "# Zwizualizowanie wyników\n",
    "plt.figure(figsize=(10, 7))\n",
    "plt.scatter(X[:, 0], X[:, 1], c=ms.labels_, cmap='viridis')\n",
    "plt.scatter(cluster_centers[:, 0], cluster_centers[:, 1], marker='o', s=300,\n",
    " edgecolor='k', facecolor='none')\n",
    "plt.title('Metoda przesunięcia średniej (Mean Shift)')\n",
    "plt.xlabel('Cecha 1')\n",
    "plt.ylabel('Cecha 2')\n",
    "plt.show()\n"
   ],
   "metadata": {
    "collapsed": false,
    "ExecuteTime": {
     "start_time": "2024-05-07T14:16:58.749817600Z"
    }
   },
   "id": "37634817b3daadb0"
  },
  {
   "cell_type": "code",
   "execution_count": null,
   "outputs": [],
   "source": [],
   "metadata": {
    "collapsed": false,
    "ExecuteTime": {
     "start_time": "2024-05-07T14:16:58.753348600Z"
    }
   },
   "id": "6865fe23a4c20152"
  },
  {
   "cell_type": "code",
   "execution_count": null,
   "outputs": [],
   "source": [],
   "metadata": {
    "collapsed": false
   },
   "id": "6bdccc7b60f00830"
  }
 ],
 "metadata": {
  "kernelspec": {
   "display_name": "Python 3",
   "language": "python",
   "name": "python3"
  },
  "language_info": {
   "codemirror_mode": {
    "name": "ipython",
    "version": 2
   },
   "file_extension": ".py",
   "mimetype": "text/x-python",
   "name": "python",
   "nbconvert_exporter": "python",
   "pygments_lexer": "ipython2",
   "version": "2.7.6"
  }
 },
 "nbformat": 4,
 "nbformat_minor": 5
}
