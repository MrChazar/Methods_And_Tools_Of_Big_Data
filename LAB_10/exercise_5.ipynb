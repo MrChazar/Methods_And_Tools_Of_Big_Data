{
 "cells": [
  {
   "cell_type": "markdown",
   "source": [
    "# Zadanie 6\n",
    "Segmentacja obrazu na podstawie danych CamVid:\n",
    "• Zadanie polega na stworzeniu modelu głębokiej sieci neuronowej w Keras do segmentacji\n",
    "obrazu na podstawie danych z bazy danych CamVid.\n",
    "• Użyj bazy danych CamVid, która zawiera obrazy dróg z kamery samochodu oraz ich odpowiadające etykiety pikseli.\n",
    "• Zdefiniuj architekturę modelu, skompiluj go i przeprowadź proces trenowania.\n",
    "• Ocenić wydajność modelu za pomocą miary IoU (Intersection over Union) oraz zwizualizuj\n",
    "wyniki segmentacji dla wybranych obrazów z zestawu testowego."
   ],
   "metadata": {
    "collapsed": false
   },
   "id": "58d5452a6fd57fd1"
  },
  {
   "cell_type": "code",
   "execution_count": 26,
   "outputs": [],
   "source": [
    "import os\n",
    "import numpy as np\n",
    "import tensorflow as tf\n",
    "from tensorflow.keras.preprocessing.image import ImageDataGenerator\n",
    "from tensorflow.keras.utils import to_categorical\n",
    "from sklearn.model_selection import train_test_split\n",
    "import cv2\n",
    "import matplotlib.pyplot as plt"
   ],
   "metadata": {
    "collapsed": false,
    "ExecuteTime": {
     "end_time": "2024-05-26T13:43:48.279697800Z",
     "start_time": "2024-05-26T13:43:48.239920300Z"
    }
   },
   "id": "a25ae1fb5cc7b28d"
  },
  {
   "cell_type": "code",
   "execution_count": 94,
   "outputs": [
    {
     "name": "stdout",
     "output_type": "stream",
     "text": [
      "Maski przed zmianami [[[ 38  38  38 ...  38  38  38]\n",
      "  [ 38  38  38 ...  38  38  38]\n",
      "  [ 38  38  38 ...  38  38  38]\n",
      "  ...\n",
      "  [ 21  21  21 ...   0   0   0]\n",
      "  [ 21  21  21 ...   0   0   0]\n",
      "  [ 21  21  21 ...   0   0   0]]\n",
      "\n",
      " [[ 38  38  38 ...  38  38  38]\n",
      "  [ 38  38  38 ...  38  38  38]\n",
      "  [ 38  38  38 ...  38  38  38]\n",
      "  ...\n",
      "  [ 21  21  21 ...   0   0   0]\n",
      "  [ 21  21  21 ...   0   0   0]\n",
      "  [ 21  21  21 ...   0   0   0]]\n",
      "\n",
      " [[ 38  38  38 ...  38  38  38]\n",
      "  [ 38  38  38 ...  38  38  38]\n",
      "  [ 38  38  38 ...  38  38  38]\n",
      "  ...\n",
      "  [ 21  21  21 ...   0   0   0]\n",
      "  [ 21  21  21 ...   0   0   0]\n",
      "  [ 21  21  21 ...   0   0   0]]\n",
      "\n",
      " ...\n",
      "\n",
      " [[ 38  38  38 ... 128 128 128]\n",
      "  [ 38  38  38 ... 128 128 128]\n",
      "  [ 38  38  38 ... 128 128 128]\n",
      "  ...\n",
      "  [ 21  21  21 ...  90  90  90]\n",
      "  [ 21  21  21 ...  90  90  90]\n",
      "  [ 21  21  21 ...  90  90  90]]\n",
      "\n",
      " [[  0   0   0 ... 128 128 128]\n",
      "  [  0   0   0 ... 128 128 128]\n",
      "  [  0   0   0 ... 128 128 128]\n",
      "  ...\n",
      "  [ 21  21  21 ...  90  90  90]\n",
      "  [ 21  21  21 ...  90  90  90]\n",
      "  [ 21  21  21 ...  90  90  90]]\n",
      "\n",
      " [[ 38  38  38 ... 128 128 128]\n",
      "  [ 38  38  38 ... 128 128 128]\n",
      "  [ 38  38  38 ... 128 128 128]\n",
      "  ...\n",
      "  [ 21  21  21 ...  90  90  90]\n",
      "  [ 21  21  21 ...  90  90  90]\n",
      "  [ 21  21  21 ...  90  90  90]]]\n",
      "Klasy w tych maskach 75\n"
     ]
    }
   ],
   "source": [
    "import os\n",
    "import cv2\n",
    "import numpy as np\n",
    "from sklearn.model_selection import train_test_split\n",
    "\n",
    "# Funkcja do ładowania obrazów i masek\n",
    "def load_images_and_masks(image_dir, mask_dir):\n",
    "    images = []\n",
    "    masks = []\n",
    "\n",
    "    image_files = sorted(os.listdir(image_dir))\n",
    "    mask_files = sorted(os.listdir(mask_dir))\n",
    "\n",
    "    for img_file, mask_file in zip(image_files, mask_files):\n",
    "        img = cv2.imread(os.path.join(image_dir, img_file))\n",
    "        mask = cv2.imread(os.path.join(mask_dir, mask_file), cv2.IMREAD_GRAYSCALE)\n",
    "\n",
    "        images.append(img)\n",
    "        masks.append(mask)\n",
    "\n",
    "    return np.array(images), np.array(masks)\n",
    "\n",
    "# Ścieżki do katalogów z obrazami i maskami\n",
    "image_dir = 'data/Camvid/CamVid_RGB'\n",
    "mask_dir = 'data/Camvid/CamVid_Label'\n",
    "\n",
    "# Załadowanie danych\n",
    "images, masks = load_images_and_masks(image_dir, mask_dir)\n",
    "\n",
    "print(f\"Maski przed zmianami {masks}\")\n",
    "print(f\"Klasy w tych maskach {len(np.unique(masks))}\")\n",
    "\n",
    "# Podział danych - 80% na trening, 20% na testy\n",
    "images_train, images_test, masks_train, masks_test = train_test_split(images, masks, test_size=0.2, random_state=42)\n",
    "\n",
    "# Przetwarzanie danych\n",
    "def preprocess_data(images, masks, target_size):\n",
    "    images_prep = [cv2.resize(img, target_size) / 255.0 for img in images]\n",
    "    masks_prep = [cv2.resize(mask, target_size, interpolation=cv2.INTER_NEAREST) for mask in masks]\n",
    "    masks_prep = [np.expand_dims(mask, axis=-1) for mask in masks_prep]  # Dodanie wymiaru kanału\n",
    "\n",
    "    return np.array(images_prep), np.array(masks_prep)\n",
    "\n",
    "target_size = (32, 32)  \n",
    "images_train_prep, masks_train_prep = preprocess_data(images_train, masks_train, target_size)\n",
    "images_test_prep, masks_test_prep = preprocess_data(images_test, masks_test, target_size)"
   ],
   "metadata": {
    "collapsed": false,
    "ExecuteTime": {
     "end_time": "2024-05-26T16:33:28.302625200Z",
     "start_time": "2024-05-26T16:32:45.627675700Z"
    }
   },
   "id": "e2371c786904e6ed"
  },
  {
   "cell_type": "code",
   "execution_count": 89,
   "outputs": [
    {
     "data": {
      "text/plain": "array([  0,   7,  21,  26,  33,  38,  41,  44,  53,  56,  59,  60,  61,\n        64,  71,  72,  74,  78,  79,  82,  83,  90,  96,  97,  99, 101,\n       113, 116, 120, 122, 123, 128, 131, 135, 139, 146, 147, 151, 154,\n       170, 184, 186], dtype=uint8)"
     },
     "execution_count": 89,
     "metadata": {},
     "output_type": "execute_result"
    }
   ],
   "source": [
    "np.unique(masks_train_prep)"
   ],
   "metadata": {
    "collapsed": false,
    "ExecuteTime": {
     "end_time": "2024-05-26T16:29:18.836293Z",
     "start_time": "2024-05-26T16:29:18.830763300Z"
    }
   },
   "id": "625684032196b0a8"
  },
  {
   "cell_type": "code",
   "execution_count": 90,
   "outputs": [
    {
     "data": {
      "text/plain": "<Figure size 200x200 with 1 Axes>",
      "image/png": "[encoded data removed]"
     },
     "metadata": {},
     "output_type": "display_data"
    }
   ],
   "source": [
    "# Wyświetlenie przykładowego zdjęcia\n",
    "plt.figure(figsize=(2,2))  # Ustawienie rozmiaru figury\n",
    "plt.imshow(images_train_prep[3], cmap='BuPu')  # Wyświetlenie pierwszego zdjęcia w zbiorze treningowym\n",
    "plt.axis('off')  # Wyłączenie osi\n",
    "plt.show()"
   ],
   "metadata": {
    "collapsed": false,
    "ExecuteTime": {
     "end_time": "2024-05-26T16:29:19.495639200Z",
     "start_time": "2024-05-26T16:29:18.831771Z"
    }
   },
   "id": "cc3e31eebb23d63a"
  },
  {
   "cell_type": "code",
   "execution_count": 91,
   "outputs": [
    {
     "data": {
      "text/plain": "<Figure size 200x200 with 1 Axes>",
      "image/png": "[encoded data removed]"
     },
     "metadata": {},
     "output_type": "display_data"
    }
   ],
   "source": [
    "# Wyświetlenie labela tego zdjęcia\n",
    "plt.figure(figsize=(2,2))  # Ustawienie rozmiaru figury\n",
    "plt.imshow(masks_train_prep[3], cmap='BuPu')  # Wyświetlenie pierwszego zdjęcia w zbiorze treningowym\n",
    "plt.axis('off')  # Wyłączenie osi\n",
    "plt.show()"
   ],
   "metadata": {
    "collapsed": false,
    "ExecuteTime": {
     "end_time": "2024-05-26T16:29:19.902640100Z",
     "start_time": "2024-05-26T16:29:19.394590500Z"
    }
   },
   "id": "29b0cbf7e63516b3"
  },
  {
   "cell_type": "code",
   "execution_count": 76,
   "outputs": [],
   "source": [
    "def preprocess_masks(masks, num_classes):\n",
    "    masks_one_hot = np.zeros(masks.shape[:3] + (num_classes,), dtype=np.float32)\n",
    "    for i in range(num_classes):\n",
    "        masks_one_hot[..., i] = (masks[..., 0] == i).astype(np.float32)\n",
    "    return masks_one_hot\n",
    "\n",
    "num_classes = 32  # Liczba klas w zbiorze danych CamVid\n",
    "masks_train_one_hot = preprocess_masks(masks_train_prep, num_classes)\n",
    "masks_test_one_hot = preprocess_masks(masks_test_prep, num_classes)"
   ],
   "metadata": {
    "collapsed": false,
    "ExecuteTime": {
     "end_time": "2024-05-26T16:20:40.285003200Z",
     "start_time": "2024-05-26T16:20:40.027193100Z"
    }
   },
   "id": "a8994c0d8d92d1d2"
  },
  {
   "cell_type": "code",
   "execution_count": 96,
   "outputs": [
    {
     "name": "stdout",
     "output_type": "stream",
     "text": [
      "[[[[0. 0. 0. ... 0. 0. 0.]\n",
      "   [0. 0. 0. ... 0. 0. 0.]\n",
      "   [0. 0. 0. ... 0. 0. 0.]\n",
      "   ...\n",
      "   [0. 0. 0. ... 0. 0. 0.]\n",
      "   [0. 0. 0. ... 0. 0. 0.]\n",
      "   [0. 0. 0. ... 0. 0. 0.]]\n",
      "\n",
      "  [[0. 0. 0. ... 0. 0. 0.]\n",
      "   [0. 0. 0. ... 0. 0. 0.]\n",
      "   [0. 0. 0. ... 0. 0. 0.]\n",
      "   ...\n",
      "   [0. 0. 0. ... 0. 0. 0.]\n",
      "   [0. 0. 0. ... 0. 0. 0.]\n",
      "   [0. 0. 0. ... 0. 0. 0.]]\n",
      "\n",
      "  [[0. 0. 0. ... 0. 0. 0.]\n",
      "   [0. 0. 0. ... 0. 0. 0.]\n",
      "   [0. 0. 0. ... 0. 0. 0.]\n",
      "   ...\n",
      "   [0. 0. 0. ... 0. 0. 0.]\n",
      "   [0. 0. 0. ... 0. 0. 0.]\n",
      "   [0. 0. 0. ... 0. 0. 0.]]\n",
      "\n",
      "  ...\n",
      "\n",
      "  [[0. 0. 0. ... 0. 0. 0.]\n",
      "   [0. 0. 0. ... 0. 0. 0.]\n",
      "   [0. 0. 0. ... 0. 0. 0.]\n",
      "   ...\n",
      "   [0. 0. 0. ... 0. 0. 0.]\n",
      "   [0. 0. 0. ... 0. 0. 0.]\n",
      "   [0. 0. 0. ... 0. 0. 0.]]\n",
      "\n",
      "  [[0. 0. 0. ... 0. 0. 0.]\n",
      "   [0. 0. 0. ... 0. 0. 0.]\n",
      "   [0. 0. 0. ... 0. 0. 0.]\n",
      "   ...\n",
      "   [0. 0. 0. ... 0. 0. 0.]\n",
      "   [0. 0. 0. ... 0. 0. 0.]\n",
      "   [0. 0. 0. ... 0. 0. 0.]]\n",
      "\n",
      "  [[0. 0. 0. ... 0. 0. 0.]\n",
      "   [0. 0. 0. ... 0. 0. 0.]\n",
      "   [0. 0. 0. ... 0. 0. 0.]\n",
      "   ...\n",
      "   [0. 0. 0. ... 0. 0. 0.]\n",
      "   [0. 0. 0. ... 0. 0. 0.]\n",
      "   [0. 0. 0. ... 0. 0. 0.]]]\n",
      "\n",
      "\n",
      " [[[0. 0. 0. ... 0. 0. 0.]\n",
      "   [0. 0. 0. ... 0. 0. 0.]\n",
      "   [0. 0. 0. ... 0. 0. 0.]\n",
      "   ...\n",
      "   [0. 0. 0. ... 0. 0. 0.]\n",
      "   [0. 0. 0. ... 0. 0. 0.]\n",
      "   [0. 0. 0. ... 0. 0. 0.]]\n",
      "\n",
      "  [[0. 0. 0. ... 0. 0. 0.]\n",
      "   [0. 0. 0. ... 0. 0. 0.]\n",
      "   [0. 0. 0. ... 0. 0. 0.]\n",
      "   ...\n",
      "   [0. 0. 0. ... 0. 0. 0.]\n",
      "   [0. 0. 0. ... 0. 0. 0.]\n",
      "   [0. 0. 0. ... 0. 0. 0.]]\n",
      "\n",
      "  [[0. 0. 0. ... 0. 0. 0.]\n",
      "   [0. 0. 0. ... 0. 0. 0.]\n",
      "   [0. 0. 0. ... 0. 0. 0.]\n",
      "   ...\n",
      "   [0. 0. 0. ... 0. 0. 0.]\n",
      "   [0. 0. 0. ... 0. 0. 0.]\n",
      "   [0. 0. 0. ... 0. 0. 0.]]\n",
      "\n",
      "  ...\n",
      "\n",
      "  [[0. 0. 0. ... 0. 0. 0.]\n",
      "   [0. 0. 0. ... 0. 0. 0.]\n",
      "   [0. 0. 0. ... 0. 0. 0.]\n",
      "   ...\n",
      "   [0. 0. 0. ... 0. 0. 0.]\n",
      "   [0. 0. 0. ... 0. 0. 0.]\n",
      "   [0. 0. 0. ... 0. 0. 0.]]\n",
      "\n",
      "  [[0. 0. 0. ... 0. 0. 0.]\n",
      "   [0. 0. 0. ... 0. 0. 0.]\n",
      "   [0. 0. 0. ... 0. 0. 0.]\n",
      "   ...\n",
      "   [0. 0. 0. ... 0. 0. 0.]\n",
      "   [0. 0. 0. ... 0. 0. 0.]\n",
      "   [0. 0. 0. ... 0. 0. 0.]]\n",
      "\n",
      "  [[0. 0. 0. ... 0. 0. 0.]\n",
      "   [0. 0. 0. ... 0. 0. 0.]\n",
      "   [0. 0. 0. ... 0. 0. 0.]\n",
      "   ...\n",
      "   [0. 0. 0. ... 0. 0. 0.]\n",
      "   [0. 0. 0. ... 0. 0. 0.]\n",
      "   [0. 0. 0. ... 0. 0. 0.]]]\n",
      "\n",
      "\n",
      " [[[0. 0. 0. ... 0. 0. 0.]\n",
      "   [0. 0. 0. ... 0. 0. 0.]\n",
      "   [0. 0. 0. ... 0. 0. 0.]\n",
      "   ...\n",
      "   [0. 0. 0. ... 0. 0. 0.]\n",
      "   [0. 0. 0. ... 0. 0. 0.]\n",
      "   [0. 0. 0. ... 0. 0. 0.]]\n",
      "\n",
      "  [[0. 0. 0. ... 0. 0. 0.]\n",
      "   [0. 0. 0. ... 0. 0. 0.]\n",
      "   [0. 0. 0. ... 0. 0. 0.]\n",
      "   ...\n",
      "   [0. 0. 0. ... 0. 0. 0.]\n",
      "   [0. 0. 0. ... 0. 0. 0.]\n",
      "   [0. 0. 0. ... 0. 0. 0.]]\n",
      "\n",
      "  [[0. 0. 0. ... 0. 0. 0.]\n",
      "   [0. 0. 0. ... 0. 0. 0.]\n",
      "   [0. 0. 0. ... 0. 0. 0.]\n",
      "   ...\n",
      "   [0. 0. 0. ... 0. 0. 0.]\n",
      "   [0. 0. 0. ... 0. 0. 0.]\n",
      "   [0. 0. 0. ... 0. 0. 0.]]\n",
      "\n",
      "  ...\n",
      "\n",
      "  [[0. 0. 0. ... 0. 0. 0.]\n",
      "   [0. 0. 0. ... 0. 0. 0.]\n",
      "   [0. 0. 0. ... 0. 0. 0.]\n",
      "   ...\n",
      "   [0. 0. 0. ... 0. 0. 0.]\n",
      "   [0. 0. 0. ... 0. 0. 0.]\n",
      "   [0. 0. 0. ... 0. 0. 0.]]\n",
      "\n",
      "  [[0. 0. 0. ... 0. 0. 0.]\n",
      "   [0. 0. 0. ... 0. 0. 0.]\n",
      "   [0. 0. 0. ... 0. 0. 0.]\n",
      "   ...\n",
      "   [0. 0. 0. ... 0. 0. 0.]\n",
      "   [0. 0. 0. ... 0. 0. 0.]\n",
      "   [0. 0. 0. ... 0. 0. 0.]]\n",
      "\n",
      "  [[0. 0. 0. ... 0. 0. 0.]\n",
      "   [0. 0. 0. ... 0. 0. 0.]\n",
      "   [0. 0. 0. ... 0. 0. 0.]\n",
      "   ...\n",
      "   [0. 0. 0. ... 0. 0. 0.]\n",
      "   [0. 0. 0. ... 0. 0. 0.]\n",
      "   [0. 0. 0. ... 0. 0. 0.]]]\n",
      "\n",
      "\n",
      " ...\n",
      "\n",
      "\n",
      " [[[0. 0. 0. ... 0. 0. 0.]\n",
      "   [0. 0. 0. ... 0. 0. 0.]\n",
      "   [0. 0. 0. ... 0. 0. 0.]\n",
      "   ...\n",
      "   [0. 0. 0. ... 0. 0. 0.]\n",
      "   [0. 0. 0. ... 0. 0. 0.]\n",
      "   [0. 0. 0. ... 0. 0. 0.]]\n",
      "\n",
      "  [[0. 0. 0. ... 0. 0. 0.]\n",
      "   [0. 0. 0. ... 0. 0. 0.]\n",
      "   [0. 0. 0. ... 0. 0. 0.]\n",
      "   ...\n",
      "   [0. 0. 0. ... 0. 0. 0.]\n",
      "   [0. 0. 0. ... 0. 0. 0.]\n",
      "   [0. 0. 0. ... 0. 0. 0.]]\n",
      "\n",
      "  [[0. 0. 0. ... 0. 0. 0.]\n",
      "   [0. 0. 0. ... 0. 0. 0.]\n",
      "   [0. 0. 0. ... 0. 0. 0.]\n",
      "   ...\n",
      "   [0. 0. 0. ... 0. 0. 0.]\n",
      "   [0. 0. 0. ... 0. 0. 0.]\n",
      "   [0. 0. 0. ... 0. 0. 0.]]\n",
      "\n",
      "  ...\n",
      "\n",
      "  [[0. 0. 0. ... 0. 0. 0.]\n",
      "   [0. 0. 0. ... 0. 0. 0.]\n",
      "   [0. 0. 0. ... 0. 0. 0.]\n",
      "   ...\n",
      "   [0. 0. 0. ... 0. 0. 0.]\n",
      "   [0. 0. 0. ... 0. 0. 0.]\n",
      "   [0. 0. 0. ... 0. 0. 0.]]\n",
      "\n",
      "  [[0. 0. 0. ... 0. 0. 0.]\n",
      "   [0. 0. 0. ... 0. 0. 0.]\n",
      "   [0. 0. 0. ... 0. 0. 0.]\n",
      "   ...\n",
      "   [0. 0. 0. ... 0. 0. 0.]\n",
      "   [0. 0. 0. ... 0. 0. 0.]\n",
      "   [0. 0. 0. ... 0. 0. 0.]]\n",
      "\n",
      "  [[0. 0. 0. ... 0. 0. 0.]\n",
      "   [0. 0. 0. ... 0. 0. 0.]\n",
      "   [0. 0. 0. ... 0. 0. 0.]\n",
      "   ...\n",
      "   [0. 0. 0. ... 0. 0. 0.]\n",
      "   [0. 0. 0. ... 0. 0. 0.]\n",
      "   [0. 0. 0. ... 0. 0. 0.]]]\n",
      "\n",
      "\n",
      " [[[0. 0. 0. ... 0. 0. 0.]\n",
      "   [0. 0. 0. ... 0. 0. 0.]\n",
      "   [0. 0. 0. ... 0. 0. 0.]\n",
      "   ...\n",
      "   [0. 0. 0. ... 0. 0. 0.]\n",
      "   [0. 0. 0. ... 0. 0. 0.]\n",
      "   [0. 0. 0. ... 0. 0. 0.]]\n",
      "\n",
      "  [[0. 0. 0. ... 0. 0. 0.]\n",
      "   [0. 0. 0. ... 0. 0. 0.]\n",
      "   [0. 0. 0. ... 0. 0. 0.]\n",
      "   ...\n",
      "   [0. 0. 0. ... 0. 0. 0.]\n",
      "   [0. 0. 0. ... 0. 0. 0.]\n",
      "   [0. 0. 0. ... 0. 0. 0.]]\n",
      "\n",
      "  [[0. 0. 0. ... 0. 0. 0.]\n",
      "   [0. 0. 0. ... 0. 0. 0.]\n",
      "   [0. 0. 0. ... 0. 0. 0.]\n",
      "   ...\n",
      "   [0. 0. 0. ... 0. 0. 0.]\n",
      "   [0. 0. 0. ... 0. 0. 0.]\n",
      "   [0. 0. 0. ... 0. 0. 0.]]\n",
      "\n",
      "  ...\n",
      "\n",
      "  [[0. 0. 0. ... 0. 0. 0.]\n",
      "   [0. 0. 0. ... 0. 0. 0.]\n",
      "   [0. 0. 0. ... 0. 0. 0.]\n",
      "   ...\n",
      "   [0. 0. 0. ... 0. 0. 0.]\n",
      "   [0. 0. 0. ... 0. 0. 0.]\n",
      "   [0. 0. 0. ... 0. 0. 0.]]\n",
      "\n",
      "  [[0. 0. 0. ... 0. 0. 0.]\n",
      "   [0. 0. 0. ... 0. 0. 0.]\n",
      "   [0. 0. 0. ... 0. 0. 0.]\n",
      "   ...\n",
      "   [0. 0. 0. ... 0. 0. 0.]\n",
      "   [0. 0. 0. ... 0. 0. 0.]\n",
      "   [0. 0. 0. ... 0. 0. 0.]]\n",
      "\n",
      "  [[0. 0. 0. ... 0. 0. 0.]\n",
      "   [0. 0. 0. ... 0. 0. 0.]\n",
      "   [0. 0. 0. ... 0. 0. 0.]\n",
      "   ...\n",
      "   [0. 0. 0. ... 0. 0. 0.]\n",
      "   [0. 0. 0. ... 0. 0. 0.]\n",
      "   [0. 0. 0. ... 0. 0. 0.]]]\n",
      "\n",
      "\n",
      " [[[0. 0. 0. ... 0. 0. 0.]\n",
      "   [0. 0. 0. ... 0. 0. 0.]\n",
      "   [0. 0. 0. ... 0. 0. 0.]\n",
      "   ...\n",
      "   [0. 0. 0. ... 0. 0. 0.]\n",
      "   [0. 0. 0. ... 0. 0. 0.]\n",
      "   [0. 0. 0. ... 0. 0. 0.]]\n",
      "\n",
      "  [[0. 0. 0. ... 0. 0. 0.]\n",
      "   [0. 0. 0. ... 0. 0. 0.]\n",
      "   [0. 0. 0. ... 0. 0. 0.]\n",
      "   ...\n",
      "   [0. 0. 0. ... 0. 0. 0.]\n",
      "   [0. 0. 0. ... 0. 0. 0.]\n",
      "   [0. 0. 0. ... 0. 0. 0.]]\n",
      "\n",
      "  [[0. 0. 0. ... 0. 0. 0.]\n",
      "   [0. 0. 0. ... 0. 0. 0.]\n",
      "   [0. 0. 0. ... 0. 0. 0.]\n",
      "   ...\n",
      "   [0. 0. 0. ... 0. 0. 0.]\n",
      "   [0. 0. 0. ... 0. 0. 0.]\n",
      "   [0. 0. 0. ... 0. 0. 0.]]\n",
      "\n",
      "  ...\n",
      "\n",
      "  [[0. 0. 0. ... 0. 0. 0.]\n",
      "   [0. 0. 0. ... 0. 0. 0.]\n",
      "   [0. 0. 0. ... 0. 0. 0.]\n",
      "   ...\n",
      "   [0. 0. 0. ... 0. 0. 0.]\n",
      "   [0. 0. 0. ... 0. 0. 0.]\n",
      "   [1. 0. 0. ... 0. 0. 0.]]\n",
      "\n",
      "  [[0. 0. 0. ... 0. 0. 0.]\n",
      "   [0. 0. 0. ... 0. 0. 0.]\n",
      "   [0. 0. 0. ... 0. 0. 0.]\n",
      "   ...\n",
      "   [1. 0. 0. ... 0. 0. 0.]\n",
      "   [1. 0. 0. ... 0. 0. 0.]\n",
      "   [1. 0. 0. ... 0. 0. 0.]]\n",
      "\n",
      "  [[0. 0. 0. ... 0. 0. 0.]\n",
      "   [0. 0. 0. ... 0. 0. 0.]\n",
      "   [0. 0. 0. ... 0. 0. 0.]\n",
      "   ...\n",
      "   [1. 0. 0. ... 0. 0. 0.]\n",
      "   [1. 0. 0. ... 0. 0. 0.]\n",
      "   [1. 0. 0. ... 0. 0. 0.]]]]\n",
      "2\n"
     ]
    }
   ],
   "source": [
    "print(masks_train_one_hot)\n",
    "print(len(np.unique(masks_train_one_hot)))"
   ],
   "metadata": {
    "collapsed": false,
    "ExecuteTime": {
     "end_time": "2024-05-26T16:37:09.046804200Z",
     "start_time": "2024-05-26T16:37:08.786445400Z"
    }
   },
   "id": "8a64dfe580cd3417"
  },
  {
   "cell_type": "code",
   "execution_count": 82,
   "outputs": [
    {
     "name": "stdout",
     "output_type": "stream",
     "text": [
      "Model: \"model_12\"\n",
      "__________________________________________________________________________________________________\n",
      " Layer (type)                Output Shape                 Param #   Connected to                  \n",
      "==================================================================================================\n",
      " input_13 (InputLayer)       [(None, 32, 32, 3)]          0         []                            \n",
      "                                                                                                  \n",
      " conv2d_228 (Conv2D)         (None, 32, 32, 64)           1792      ['input_13[0][0]']            \n",
      "                                                                                                  \n",
      " conv2d_229 (Conv2D)         (None, 32, 32, 64)           36928     ['conv2d_228[0][0]']          \n",
      "                                                                                                  \n",
      " max_pooling2d_48 (MaxPooli  (None, 16, 16, 64)           0         ['conv2d_229[0][0]']          \n",
      " ng2D)                                                                                            \n",
      "                                                                                                  \n",
      " conv2d_230 (Conv2D)         (None, 16, 16, 128)          73856     ['max_pooling2d_48[0][0]']    \n",
      "                                                                                                  \n",
      " conv2d_231 (Conv2D)         (None, 16, 16, 128)          147584    ['conv2d_230[0][0]']          \n",
      "                                                                                                  \n",
      " max_pooling2d_49 (MaxPooli  (None, 8, 8, 128)            0         ['conv2d_231[0][0]']          \n",
      " ng2D)                                                                                            \n",
      "                                                                                                  \n",
      " conv2d_232 (Conv2D)         (None, 8, 8, 256)            295168    ['max_pooling2d_49[0][0]']    \n",
      "                                                                                                  \n",
      " conv2d_233 (Conv2D)         (None, 8, 8, 256)            590080    ['conv2d_232[0][0]']          \n",
      "                                                                                                  \n",
      " max_pooling2d_50 (MaxPooli  (None, 4, 4, 256)            0         ['conv2d_233[0][0]']          \n",
      " ng2D)                                                                                            \n",
      "                                                                                                  \n",
      " conv2d_234 (Conv2D)         (None, 4, 4, 512)            1180160   ['max_pooling2d_50[0][0]']    \n",
      "                                                                                                  \n",
      " conv2d_235 (Conv2D)         (None, 4, 4, 512)            2359808   ['conv2d_234[0][0]']          \n",
      "                                                                                                  \n",
      " max_pooling2d_51 (MaxPooli  (None, 2, 2, 512)            0         ['conv2d_235[0][0]']          \n",
      " ng2D)                                                                                            \n",
      "                                                                                                  \n",
      " conv2d_236 (Conv2D)         (None, 2, 2, 1024)           4719616   ['max_pooling2d_51[0][0]']    \n",
      "                                                                                                  \n",
      " conv2d_237 (Conv2D)         (None, 2, 2, 1024)           9438208   ['conv2d_236[0][0]']          \n",
      "                                                                                                  \n",
      " up_sampling2d_48 (UpSampli  (None, 4, 4, 1024)           0         ['conv2d_237[0][0]']          \n",
      " ng2D)                                                                                            \n",
      "                                                                                                  \n",
      " concatenate_48 (Concatenat  (None, 4, 4, 1536)           0         ['up_sampling2d_48[0][0]',    \n",
      " e)                                                                  'conv2d_235[0][0]']          \n",
      "                                                                                                  \n",
      " conv2d_238 (Conv2D)         (None, 4, 4, 512)            7078400   ['concatenate_48[0][0]']      \n",
      "                                                                                                  \n",
      " conv2d_239 (Conv2D)         (None, 4, 4, 512)            2359808   ['conv2d_238[0][0]']          \n",
      "                                                                                                  \n",
      " up_sampling2d_49 (UpSampli  (None, 8, 8, 512)            0         ['conv2d_239[0][0]']          \n",
      " ng2D)                                                                                            \n",
      "                                                                                                  \n",
      " concatenate_49 (Concatenat  (None, 8, 8, 768)            0         ['up_sampling2d_49[0][0]',    \n",
      " e)                                                                  'conv2d_233[0][0]']          \n",
      "                                                                                                  \n",
      " conv2d_240 (Conv2D)         (None, 8, 8, 256)            1769728   ['concatenate_49[0][0]']      \n",
      "                                                                                                  \n",
      " conv2d_241 (Conv2D)         (None, 8, 8, 256)            590080    ['conv2d_240[0][0]']          \n",
      "                                                                                                  \n",
      " up_sampling2d_50 (UpSampli  (None, 16, 16, 256)          0         ['conv2d_241[0][0]']          \n",
      " ng2D)                                                                                            \n",
      "                                                                                                  \n",
      " concatenate_50 (Concatenat  (None, 16, 16, 384)          0         ['up_sampling2d_50[0][0]',    \n",
      " e)                                                                  'conv2d_231[0][0]']          \n",
      "                                                                                                  \n",
      " conv2d_242 (Conv2D)         (None, 16, 16, 128)          442496    ['concatenate_50[0][0]']      \n",
      "                                                                                                  \n",
      " conv2d_243 (Conv2D)         (None, 16, 16, 128)          147584    ['conv2d_242[0][0]']          \n",
      "                                                                                                  \n",
      " up_sampling2d_51 (UpSampli  (None, 32, 32, 128)          0         ['conv2d_243[0][0]']          \n",
      " ng2D)                                                                                            \n",
      "                                                                                                  \n",
      " concatenate_51 (Concatenat  (None, 32, 32, 192)          0         ['up_sampling2d_51[0][0]',    \n",
      " e)                                                                  'conv2d_229[0][0]']          \n",
      "                                                                                                  \n",
      " conv2d_244 (Conv2D)         (None, 32, 32, 64)           110656    ['concatenate_51[0][0]']      \n",
      "                                                                                                  \n",
      " conv2d_245 (Conv2D)         (None, 32, 32, 64)           36928     ['conv2d_244[0][0]']          \n",
      "                                                                                                  \n",
      " conv2d_246 (Conv2D)         (None, 32, 32, 12)           780       ['conv2d_245[0][0]']          \n",
      "                                                                                                  \n",
      "==================================================================================================\n",
      "Total params: 31379660 (119.70 MB)\n",
      "Trainable params: 31379660 (119.70 MB)\n",
      "Non-trainable params: 0 (0.00 Byte)\n",
      "__________________________________________________________________________________________________\n"
     ]
    }
   ],
   "source": [
    "from tensorflow.keras.models import Model\n",
    "from tensorflow.keras.layers import Input, Conv2D, MaxPooling2D, UpSampling2D, concatenate\n",
    "\n",
    "# jeden z modeli który znalazłem w internecie\n",
    "def unet_model(input_shape, num_classes):\n",
    "    inputs = Input(input_shape)\n",
    "\n",
    "    c1 = Conv2D(64, (3, 3), activation='relu', padding='same')(inputs)\n",
    "    c1 = Conv2D(64, (3, 3), activation='relu', padding='same')(c1)\n",
    "    p1 = MaxPooling2D((2, 2))(c1)\n",
    "\n",
    "    c2 = Conv2D(128, (3, 3), activation='relu', padding='same')(p1)\n",
    "    c2 = Conv2D(128, (3, 3), activation='relu', padding='same')(c2)\n",
    "    p2 = MaxPooling2D((2, 2))(c2)\n",
    "\n",
    "    c3 = Conv2D(256, (3, 3), activation='relu', padding='same')(p2)\n",
    "    c3 = Conv2D(256, (3, 3), activation='relu', padding='same')(c3)\n",
    "    p3 = MaxPooling2D((2, 2))(c3)\n",
    "\n",
    "    c4 = Conv2D(512, (3, 3), activation='relu', padding='same')(p3)\n",
    "    c4 = Conv2D(512, (3, 3), activation='relu', padding='same')(c4)\n",
    "    p4 = MaxPooling2D((2, 2))(c4)\n",
    "\n",
    "    c5 = Conv2D(1024, (3, 3), activation='relu', padding='same')(p4)\n",
    "    c5 = Conv2D(1024, (3, 3), activation='relu', padding='same')(c5)\n",
    "\n",
    "    u6 = UpSampling2D((2, 2))(c5)\n",
    "    u6 = concatenate([u6, c4])\n",
    "    c6 = Conv2D(512, (3, 3), activation='relu', padding='same')(u6)\n",
    "    c6 = Conv2D(512, (3, 3), activation='relu', padding='same')(c6)\n",
    "\n",
    "    u7 = UpSampling2D((2, 2))(c6)\n",
    "    u7 = concatenate([u7, c3])\n",
    "    c7 = Conv2D(256, (3, 3), activation='relu', padding='same')(u7)\n",
    "    c7 = Conv2D(256, (3, 3), activation='relu', padding='same')(c7)\n",
    "\n",
    "    u8 = UpSampling2D((2, 2))(c7)\n",
    "    u8 = concatenate([u8, c2])\n",
    "    c8 = Conv2D(128, (3, 3), activation='relu', padding='same')(u8)\n",
    "    c8 = Conv2D(128, (3, 3), activation='relu', padding='same')(c8)\n",
    "\n",
    "    u9 = UpSampling2D((2, 2))(c8)\n",
    "    u9 = concatenate([u9, c1])\n",
    "    c9 = Conv2D(64, (3, 3), activation='relu', padding='same')(u9)\n",
    "    c9 = Conv2D(64, (3, 3), activation='relu', padding='same')(c9)\n",
    "\n",
    "    outputs = Conv2D(num_classes, (1, 1), activation='softmax')(c9)\n",
    "\n",
    "    model = Model(inputs=[inputs], outputs=[outputs])\n",
    "\n",
    "    return model\n",
    "\n",
    "input_shape = (32, 32, 3)\n",
    "model = unet_model(input_shape, num_classes)\n",
    "model.compile(optimizer='adam', loss='categorical_crossentropy', metrics=['accuracy'])\n",
    "\n",
    "model.summary()"
   ],
   "metadata": {
    "collapsed": false,
    "ExecuteTime": {
     "end_time": "2024-05-26T16:21:52.455066800Z",
     "start_time": "2024-05-26T16:21:51.206788700Z"
    }
   },
   "id": "f8ddae6ab07241a6"
  },
  {
   "cell_type": "code",
   "execution_count": 83,
   "outputs": [
    {
     "name": "stdout",
     "output_type": "stream",
     "text": [
      "Epoch 1/2\n",
      "63/63 [==============================] - 120s 2s/step - loss: nan - accuracy: 0.2530 - val_loss: nan - val_accuracy: 0.9999\n",
      "Epoch 2/2\n",
      "63/63 [==============================] - 81s 1s/step - loss: nan - accuracy: 1.0000 - val_loss: nan - val_accuracy: 0.9999\n"
     ]
    }
   ],
   "source": [
    "history = model.fit(images_train_prep, masks_train_one_hot, epochs=2, batch_size=8, validation_split=0.1)"
   ],
   "metadata": {
    "collapsed": false,
    "ExecuteTime": {
     "end_time": "2024-05-26T16:25:14.057235500Z",
     "start_time": "2024-05-26T16:21:52.413403700Z"
    }
   },
   "id": "9df891cd781ae798"
  },
  {
   "cell_type": "code",
   "execution_count": 84,
   "outputs": [
    {
     "data": {
      "text/plain": "<Figure size 640x480 with 1 Axes>",
      "image/png": "[encoded data removed]"
     },
     "metadata": {},
     "output_type": "display_data"
    },
    {
     "data": {
      "text/plain": "<Figure size 640x480 with 1 Axes>",
      "image/png": "[encoded data removed]"
     },
     "metadata": {},
     "output_type": "display_data"
    }
   ],
   "source": [
    "# Wizualizacja krzywych uczenia\n",
    "plt.plot(history.history['loss'], label='Funkcja straty (trening)')\n",
    "plt.plot(history.history['val_loss'], label='Funkcja straty (walidacja)')\n",
    "plt.xlabel('Liczba epok')\n",
    "plt.ylabel('Wartość funkcji straty')\n",
    "plt.legend()\n",
    "plt.title('Krzywa funkcji straty')\n",
    "plt.show()\n",
    "plt.plot(history.history['accuracy'], label='Dokładność (trening)')\n",
    "plt.plot(history.history['val_accuracy'], label='Dokładność (walidacja)')\n",
    "plt.xlabel('Liczba epok')\n",
    "plt.ylabel('Dokładność')\n",
    "plt.legend()\n",
    "plt.title('Krzywa dokładności')\n",
    "plt.show()"
   ],
   "metadata": {
    "collapsed": false,
    "ExecuteTime": {
     "end_time": "2024-05-26T16:25:30.917797200Z",
     "start_time": "2024-05-26T16:25:30.279495200Z"
    }
   },
   "id": "570f33ad4de60267"
  },
  {
   "cell_type": "code",
   "execution_count": 85,
   "outputs": [
    {
     "name": "stdout",
     "output_type": "stream",
     "text": [
      "5/5 [==============================] - 5s 717ms/step\n"
     ]
    }
   ],
   "source": [
    "# Tworzenie Predykcji\n",
    "masks_pred = model.predict(images_test_prep)"
   ],
   "metadata": {
    "collapsed": false,
    "ExecuteTime": {
     "end_time": "2024-05-26T16:25:39.523919400Z",
     "start_time": "2024-05-26T16:25:34.516929300Z"
    }
   },
   "id": "c16af1a81c385128"
  },
  {
   "cell_type": "code",
   "execution_count": 86,
   "outputs": [
    {
     "data": {
      "text/plain": "array([[[[nan, nan, nan, ..., nan, nan, nan],\n         [nan, nan, nan, ..., nan, nan, nan],\n         [nan, nan, nan, ..., nan, nan, nan],\n         ...,\n         [nan, nan, nan, ..., nan, nan, nan],\n         [nan, nan, nan, ..., nan, nan, nan],\n         [nan, nan, nan, ..., nan, nan, nan]],\n\n        [[nan, nan, nan, ..., nan, nan, nan],\n         [nan, nan, nan, ..., nan, nan, nan],\n         [nan, nan, nan, ..., nan, nan, nan],\n         ...,\n         [nan, nan, nan, ..., nan, nan, nan],\n         [nan, nan, nan, ..., nan, nan, nan],\n         [nan, nan, nan, ..., nan, nan, nan]],\n\n        [[nan, nan, nan, ..., nan, nan, nan],\n         [nan, nan, nan, ..., nan, nan, nan],\n         [nan, nan, nan, ..., nan, nan, nan],\n         ...,\n         [nan, nan, nan, ..., nan, nan, nan],\n         [nan, nan, nan, ..., nan, nan, nan],\n         [nan, nan, nan, ..., nan, nan, nan]],\n\n        ...,\n\n        [[nan, nan, nan, ..., nan, nan, nan],\n         [nan, nan, nan, ..., nan, nan, nan],\n         [nan, nan, nan, ..., nan, nan, nan],\n         ...,\n         [nan, nan, nan, ..., nan, nan, nan],\n         [nan, nan, nan, ..., nan, nan, nan],\n         [nan, nan, nan, ..., nan, nan, nan]],\n\n        [[nan, nan, nan, ..., nan, nan, nan],\n         [nan, nan, nan, ..., nan, nan, nan],\n         [nan, nan, nan, ..., nan, nan, nan],\n         ...,\n         [nan, nan, nan, ..., nan, nan, nan],\n         [nan, nan, nan, ..., nan, nan, nan],\n         [nan, nan, nan, ..., nan, nan, nan]],\n\n        [[nan, nan, nan, ..., nan, nan, nan],\n         [nan, nan, nan, ..., nan, nan, nan],\n         [nan, nan, nan, ..., nan, nan, nan],\n         ...,\n         [nan, nan, nan, ..., nan, nan, nan],\n         [nan, nan, nan, ..., nan, nan, nan],\n         [nan, nan, nan, ..., nan, nan, nan]]],\n\n\n       [[[nan, nan, nan, ..., nan, nan, nan],\n         [nan, nan, nan, ..., nan, nan, nan],\n         [nan, nan, nan, ..., nan, nan, nan],\n         ...,\n         [nan, nan, nan, ..., nan, nan, nan],\n         [nan, nan, nan, ..., nan, nan, nan],\n         [nan, nan, nan, ..., nan, nan, nan]],\n\n        [[nan, nan, nan, ..., nan, nan, nan],\n         [nan, nan, nan, ..., nan, nan, nan],\n         [nan, nan, nan, ..., nan, nan, nan],\n         ...,\n         [nan, nan, nan, ..., nan, nan, nan],\n         [nan, nan, nan, ..., nan, nan, nan],\n         [nan, nan, nan, ..., nan, nan, nan]],\n\n        [[nan, nan, nan, ..., nan, nan, nan],\n         [nan, nan, nan, ..., nan, nan, nan],\n         [nan, nan, nan, ..., nan, nan, nan],\n         ...,\n         [nan, nan, nan, ..., nan, nan, nan],\n         [nan, nan, nan, ..., nan, nan, nan],\n         [nan, nan, nan, ..., nan, nan, nan]],\n\n        ...,\n\n        [[nan, nan, nan, ..., nan, nan, nan],\n         [nan, nan, nan, ..., nan, nan, nan],\n         [nan, nan, nan, ..., nan, nan, nan],\n         ...,\n         [nan, nan, nan, ..., nan, nan, nan],\n         [nan, nan, nan, ..., nan, nan, nan],\n         [nan, nan, nan, ..., nan, nan, nan]],\n\n        [[nan, nan, nan, ..., nan, nan, nan],\n         [nan, nan, nan, ..., nan, nan, nan],\n         [nan, nan, nan, ..., nan, nan, nan],\n         ...,\n         [nan, nan, nan, ..., nan, nan, nan],\n         [nan, nan, nan, ..., nan, nan, nan],\n         [nan, nan, nan, ..., nan, nan, nan]],\n\n        [[nan, nan, nan, ..., nan, nan, nan],\n         [nan, nan, nan, ..., nan, nan, nan],\n         [nan, nan, nan, ..., nan, nan, nan],\n         ...,\n         [nan, nan, nan, ..., nan, nan, nan],\n         [nan, nan, nan, ..., nan, nan, nan],\n         [nan, nan, nan, ..., nan, nan, nan]]],\n\n\n       [[[nan, nan, nan, ..., nan, nan, nan],\n         [nan, nan, nan, ..., nan, nan, nan],\n         [nan, nan, nan, ..., nan, nan, nan],\n         ...,\n         [nan, nan, nan, ..., nan, nan, nan],\n         [nan, nan, nan, ..., nan, nan, nan],\n         [nan, nan, nan, ..., nan, nan, nan]],\n\n        [[nan, nan, nan, ..., nan, nan, nan],\n         [nan, nan, nan, ..., nan, nan, nan],\n         [nan, nan, nan, ..., nan, nan, nan],\n         ...,\n         [nan, nan, nan, ..., nan, nan, nan],\n         [nan, nan, nan, ..., nan, nan, nan],\n         [nan, nan, nan, ..., nan, nan, nan]],\n\n        [[nan, nan, nan, ..., nan, nan, nan],\n         [nan, nan, nan, ..., nan, nan, nan],\n         [nan, nan, nan, ..., nan, nan, nan],\n         ...,\n         [nan, nan, nan, ..., nan, nan, nan],\n         [nan, nan, nan, ..., nan, nan, nan],\n         [nan, nan, nan, ..., nan, nan, nan]],\n\n        ...,\n\n        [[nan, nan, nan, ..., nan, nan, nan],\n         [nan, nan, nan, ..., nan, nan, nan],\n         [nan, nan, nan, ..., nan, nan, nan],\n         ...,\n         [nan, nan, nan, ..., nan, nan, nan],\n         [nan, nan, nan, ..., nan, nan, nan],\n         [nan, nan, nan, ..., nan, nan, nan]],\n\n        [[nan, nan, nan, ..., nan, nan, nan],\n         [nan, nan, nan, ..., nan, nan, nan],\n         [nan, nan, nan, ..., nan, nan, nan],\n         ...,\n         [nan, nan, nan, ..., nan, nan, nan],\n         [nan, nan, nan, ..., nan, nan, nan],\n         [nan, nan, nan, ..., nan, nan, nan]],\n\n        [[nan, nan, nan, ..., nan, nan, nan],\n         [nan, nan, nan, ..., nan, nan, nan],\n         [nan, nan, nan, ..., nan, nan, nan],\n         ...,\n         [nan, nan, nan, ..., nan, nan, nan],\n         [nan, nan, nan, ..., nan, nan, nan],\n         [nan, nan, nan, ..., nan, nan, nan]]],\n\n\n       ...,\n\n\n       [[[nan, nan, nan, ..., nan, nan, nan],\n         [nan, nan, nan, ..., nan, nan, nan],\n         [nan, nan, nan, ..., nan, nan, nan],\n         ...,\n         [nan, nan, nan, ..., nan, nan, nan],\n         [nan, nan, nan, ..., nan, nan, nan],\n         [nan, nan, nan, ..., nan, nan, nan]],\n\n        [[nan, nan, nan, ..., nan, nan, nan],\n         [nan, nan, nan, ..., nan, nan, nan],\n         [nan, nan, nan, ..., nan, nan, nan],\n         ...,\n         [nan, nan, nan, ..., nan, nan, nan],\n         [nan, nan, nan, ..., nan, nan, nan],\n         [nan, nan, nan, ..., nan, nan, nan]],\n\n        [[nan, nan, nan, ..., nan, nan, nan],\n         [nan, nan, nan, ..., nan, nan, nan],\n         [nan, nan, nan, ..., nan, nan, nan],\n         ...,\n         [nan, nan, nan, ..., nan, nan, nan],\n         [nan, nan, nan, ..., nan, nan, nan],\n         [nan, nan, nan, ..., nan, nan, nan]],\n\n        ...,\n\n        [[nan, nan, nan, ..., nan, nan, nan],\n         [nan, nan, nan, ..., nan, nan, nan],\n         [nan, nan, nan, ..., nan, nan, nan],\n         ...,\n         [nan, nan, nan, ..., nan, nan, nan],\n         [nan, nan, nan, ..., nan, nan, nan],\n         [nan, nan, nan, ..., nan, nan, nan]],\n\n        [[nan, nan, nan, ..., nan, nan, nan],\n         [nan, nan, nan, ..., nan, nan, nan],\n         [nan, nan, nan, ..., nan, nan, nan],\n         ...,\n         [nan, nan, nan, ..., nan, nan, nan],\n         [nan, nan, nan, ..., nan, nan, nan],\n         [nan, nan, nan, ..., nan, nan, nan]],\n\n        [[nan, nan, nan, ..., nan, nan, nan],\n         [nan, nan, nan, ..., nan, nan, nan],\n         [nan, nan, nan, ..., nan, nan, nan],\n         ...,\n         [nan, nan, nan, ..., nan, nan, nan],\n         [nan, nan, nan, ..., nan, nan, nan],\n         [nan, nan, nan, ..., nan, nan, nan]]],\n\n\n       [[[nan, nan, nan, ..., nan, nan, nan],\n         [nan, nan, nan, ..., nan, nan, nan],\n         [nan, nan, nan, ..., nan, nan, nan],\n         ...,\n         [nan, nan, nan, ..., nan, nan, nan],\n         [nan, nan, nan, ..., nan, nan, nan],\n         [nan, nan, nan, ..., nan, nan, nan]],\n\n        [[nan, nan, nan, ..., nan, nan, nan],\n         [nan, nan, nan, ..., nan, nan, nan],\n         [nan, nan, nan, ..., nan, nan, nan],\n         ...,\n         [nan, nan, nan, ..., nan, nan, nan],\n         [nan, nan, nan, ..., nan, nan, nan],\n         [nan, nan, nan, ..., nan, nan, nan]],\n\n        [[nan, nan, nan, ..., nan, nan, nan],\n         [nan, nan, nan, ..., nan, nan, nan],\n         [nan, nan, nan, ..., nan, nan, nan],\n         ...,\n         [nan, nan, nan, ..., nan, nan, nan],\n         [nan, nan, nan, ..., nan, nan, nan],\n         [nan, nan, nan, ..., nan, nan, nan]],\n\n        ...,\n\n        [[nan, nan, nan, ..., nan, nan, nan],\n         [nan, nan, nan, ..., nan, nan, nan],\n         [nan, nan, nan, ..., nan, nan, nan],\n         ...,\n         [nan, nan, nan, ..., nan, nan, nan],\n         [nan, nan, nan, ..., nan, nan, nan],\n         [nan, nan, nan, ..., nan, nan, nan]],\n\n        [[nan, nan, nan, ..., nan, nan, nan],\n         [nan, nan, nan, ..., nan, nan, nan],\n         [nan, nan, nan, ..., nan, nan, nan],\n         ...,\n         [nan, nan, nan, ..., nan, nan, nan],\n         [nan, nan, nan, ..., nan, nan, nan],\n         [nan, nan, nan, ..., nan, nan, nan]],\n\n        [[nan, nan, nan, ..., nan, nan, nan],\n         [nan, nan, nan, ..., nan, nan, nan],\n         [nan, nan, nan, ..., nan, nan, nan],\n         ...,\n         [nan, nan, nan, ..., nan, nan, nan],\n         [nan, nan, nan, ..., nan, nan, nan],\n         [nan, nan, nan, ..., nan, nan, nan]]],\n\n\n       [[[nan, nan, nan, ..., nan, nan, nan],\n         [nan, nan, nan, ..., nan, nan, nan],\n         [nan, nan, nan, ..., nan, nan, nan],\n         ...,\n         [nan, nan, nan, ..., nan, nan, nan],\n         [nan, nan, nan, ..., nan, nan, nan],\n         [nan, nan, nan, ..., nan, nan, nan]],\n\n        [[nan, nan, nan, ..., nan, nan, nan],\n         [nan, nan, nan, ..., nan, nan, nan],\n         [nan, nan, nan, ..., nan, nan, nan],\n         ...,\n         [nan, nan, nan, ..., nan, nan, nan],\n         [nan, nan, nan, ..., nan, nan, nan],\n         [nan, nan, nan, ..., nan, nan, nan]],\n\n        [[nan, nan, nan, ..., nan, nan, nan],\n         [nan, nan, nan, ..., nan, nan, nan],\n         [nan, nan, nan, ..., nan, nan, nan],\n         ...,\n         [nan, nan, nan, ..., nan, nan, nan],\n         [nan, nan, nan, ..., nan, nan, nan],\n         [nan, nan, nan, ..., nan, nan, nan]],\n\n        ...,\n\n        [[nan, nan, nan, ..., nan, nan, nan],\n         [nan, nan, nan, ..., nan, nan, nan],\n         [nan, nan, nan, ..., nan, nan, nan],\n         ...,\n         [nan, nan, nan, ..., nan, nan, nan],\n         [nan, nan, nan, ..., nan, nan, nan],\n         [nan, nan, nan, ..., nan, nan, nan]],\n\n        [[nan, nan, nan, ..., nan, nan, nan],\n         [nan, nan, nan, ..., nan, nan, nan],\n         [nan, nan, nan, ..., nan, nan, nan],\n         ...,\n         [nan, nan, nan, ..., nan, nan, nan],\n         [nan, nan, nan, ..., nan, nan, nan],\n         [nan, nan, nan, ..., nan, nan, nan]],\n\n        [[nan, nan, nan, ..., nan, nan, nan],\n         [nan, nan, nan, ..., nan, nan, nan],\n         [nan, nan, nan, ..., nan, nan, nan],\n         ...,\n         [nan, nan, nan, ..., nan, nan, nan],\n         [nan, nan, nan, ..., nan, nan, nan],\n         [nan, nan, nan, ..., nan, nan, nan]]]], dtype=float32)"
     },
     "execution_count": 86,
     "metadata": {},
     "output_type": "execute_result"
    }
   ],
   "source": [
    "# Wartości predykcji przed zmianą na binarne\n",
    "masks_pred"
   ],
   "metadata": {
    "collapsed": false,
    "ExecuteTime": {
     "end_time": "2024-05-26T16:25:39.602895900Z",
     "start_time": "2024-05-26T16:25:39.531570800Z"
    }
   },
   "id": "8041fb955825bf3e"
  },
  {
   "cell_type": "code",
   "execution_count": 87,
   "outputs": [
    {
     "ename": "ValueError",
     "evalue": "unknown is not supported",
     "output_type": "error",
     "traceback": [
      "\u001B[1;31m---------------------------------------------------------------------------\u001B[0m",
      "\u001B[1;31mValueError\u001B[0m                                Traceback (most recent call last)",
      "Cell \u001B[1;32mIn[87], line 5\u001B[0m\n\u001B[0;32m      3\u001B[0m \u001B[38;5;28;01mfrom\u001B[39;00m \u001B[38;5;21;01msklearn\u001B[39;00m\u001B[38;5;21;01m.\u001B[39;00m\u001B[38;5;21;01mmetrics\u001B[39;00m \u001B[38;5;28;01mimport\u001B[39;00m recall_score\n\u001B[0;32m      4\u001B[0m \u001B[38;5;66;03m# Czułość modelu:\u001B[39;00m\n\u001B[1;32m----> 5\u001B[0m recall \u001B[38;5;241m=\u001B[39m \u001B[43mrecall_score\u001B[49m\u001B[43m(\u001B[49m\u001B[43mmasks_test\u001B[49m\u001B[43m,\u001B[49m\u001B[43m \u001B[49m\u001B[43mmasks_pred\u001B[49m\u001B[43m,\u001B[49m\u001B[43m \u001B[49m\u001B[43maverage\u001B[49m\u001B[38;5;241;43m=\u001B[39;49m\u001B[38;5;124;43m'\u001B[39;49m\u001B[38;5;124;43mmicro\u001B[39;49m\u001B[38;5;124;43m'\u001B[39;49m\u001B[43m)\u001B[49m\n\u001B[0;32m      6\u001B[0m \u001B[38;5;28mprint\u001B[39m(\u001B[38;5;124m\"\u001B[39m\u001B[38;5;124mCzułość modelu: \u001B[39m\u001B[38;5;132;01m{:.2f}\u001B[39;00m\u001B[38;5;124m%\u001B[39m\u001B[38;5;124m\"\u001B[39m\u001B[38;5;241m.\u001B[39mformat(recall \u001B[38;5;241m*\u001B[39m \u001B[38;5;241m100\u001B[39m))\n\u001B[0;32m      8\u001B[0m \u001B[38;5;66;03m# Obliczenie precyzji\u001B[39;00m\n",
      "File \u001B[1;32m~\\AppData\\Local\\Programs\\Python\\Python39\\lib\\site-packages\\sklearn\\utils\\_param_validation.py:214\u001B[0m, in \u001B[0;36mvalidate_params.<locals>.decorator.<locals>.wrapper\u001B[1;34m(*args, **kwargs)\u001B[0m\n\u001B[0;32m    208\u001B[0m \u001B[38;5;28;01mtry\u001B[39;00m:\n\u001B[0;32m    209\u001B[0m     \u001B[38;5;28;01mwith\u001B[39;00m config_context(\n\u001B[0;32m    210\u001B[0m         skip_parameter_validation\u001B[38;5;241m=\u001B[39m(\n\u001B[0;32m    211\u001B[0m             prefer_skip_nested_validation \u001B[38;5;129;01mor\u001B[39;00m global_skip_validation\n\u001B[0;32m    212\u001B[0m         )\n\u001B[0;32m    213\u001B[0m     ):\n\u001B[1;32m--> 214\u001B[0m         \u001B[38;5;28;01mreturn\u001B[39;00m func(\u001B[38;5;241m*\u001B[39margs, \u001B[38;5;241m*\u001B[39m\u001B[38;5;241m*\u001B[39mkwargs)\n\u001B[0;32m    215\u001B[0m \u001B[38;5;28;01mexcept\u001B[39;00m InvalidParameterError \u001B[38;5;28;01mas\u001B[39;00m e:\n\u001B[0;32m    216\u001B[0m     \u001B[38;5;66;03m# When the function is just a wrapper around an estimator, we allow\u001B[39;00m\n\u001B[0;32m    217\u001B[0m     \u001B[38;5;66;03m# the function to delegate validation to the estimator, but we replace\u001B[39;00m\n\u001B[0;32m    218\u001B[0m     \u001B[38;5;66;03m# the name of the estimator by the name of the function in the error\u001B[39;00m\n\u001B[0;32m    219\u001B[0m     \u001B[38;5;66;03m# message to avoid confusion.\u001B[39;00m\n\u001B[0;32m    220\u001B[0m     msg \u001B[38;5;241m=\u001B[39m re\u001B[38;5;241m.\u001B[39msub(\n\u001B[0;32m    221\u001B[0m         \u001B[38;5;124mr\u001B[39m\u001B[38;5;124m\"\u001B[39m\u001B[38;5;124mparameter of \u001B[39m\u001B[38;5;124m\\\u001B[39m\u001B[38;5;124mw+ must be\u001B[39m\u001B[38;5;124m\"\u001B[39m,\n\u001B[0;32m    222\u001B[0m         \u001B[38;5;124mf\u001B[39m\u001B[38;5;124m\"\u001B[39m\u001B[38;5;124mparameter of \u001B[39m\u001B[38;5;132;01m{\u001B[39;00mfunc\u001B[38;5;241m.\u001B[39m\u001B[38;5;18m__qualname__\u001B[39m\u001B[38;5;132;01m}\u001B[39;00m\u001B[38;5;124m must be\u001B[39m\u001B[38;5;124m\"\u001B[39m,\n\u001B[0;32m    223\u001B[0m         \u001B[38;5;28mstr\u001B[39m(e),\n\u001B[0;32m    224\u001B[0m     )\n",
      "File \u001B[1;32m~\\AppData\\Local\\Programs\\Python\\Python39\\lib\\site-packages\\sklearn\\metrics\\_classification.py:2304\u001B[0m, in \u001B[0;36mrecall_score\u001B[1;34m(y_true, y_pred, labels, pos_label, average, sample_weight, zero_division)\u001B[0m\n\u001B[0;32m   2144\u001B[0m \u001B[38;5;129m@validate_params\u001B[39m(\n\u001B[0;32m   2145\u001B[0m     {\n\u001B[0;32m   2146\u001B[0m         \u001B[38;5;124m\"\u001B[39m\u001B[38;5;124my_true\u001B[39m\u001B[38;5;124m\"\u001B[39m: [\u001B[38;5;124m\"\u001B[39m\u001B[38;5;124marray-like\u001B[39m\u001B[38;5;124m\"\u001B[39m, \u001B[38;5;124m\"\u001B[39m\u001B[38;5;124msparse matrix\u001B[39m\u001B[38;5;124m\"\u001B[39m],\n\u001B[1;32m   (...)\u001B[0m\n\u001B[0;32m   2171\u001B[0m     zero_division\u001B[38;5;241m=\u001B[39m\u001B[38;5;124m\"\u001B[39m\u001B[38;5;124mwarn\u001B[39m\u001B[38;5;124m\"\u001B[39m,\n\u001B[0;32m   2172\u001B[0m ):\n\u001B[0;32m   2173\u001B[0m \u001B[38;5;250m    \u001B[39m\u001B[38;5;124;03m\"\"\"Compute the recall.\u001B[39;00m\n\u001B[0;32m   2174\u001B[0m \n\u001B[0;32m   2175\u001B[0m \u001B[38;5;124;03m    The recall is the ratio ``tp / (tp + fn)`` where ``tp`` is the number of\u001B[39;00m\n\u001B[1;32m   (...)\u001B[0m\n\u001B[0;32m   2302\u001B[0m \u001B[38;5;124;03m    array([1. , 1. , 0.5])\u001B[39;00m\n\u001B[0;32m   2303\u001B[0m \u001B[38;5;124;03m    \"\"\"\u001B[39;00m\n\u001B[1;32m-> 2304\u001B[0m     _, r, _, _ \u001B[38;5;241m=\u001B[39m \u001B[43mprecision_recall_fscore_support\u001B[49m\u001B[43m(\u001B[49m\n\u001B[0;32m   2305\u001B[0m \u001B[43m        \u001B[49m\u001B[43my_true\u001B[49m\u001B[43m,\u001B[49m\n\u001B[0;32m   2306\u001B[0m \u001B[43m        \u001B[49m\u001B[43my_pred\u001B[49m\u001B[43m,\u001B[49m\n\u001B[0;32m   2307\u001B[0m \u001B[43m        \u001B[49m\u001B[43mlabels\u001B[49m\u001B[38;5;241;43m=\u001B[39;49m\u001B[43mlabels\u001B[49m\u001B[43m,\u001B[49m\n\u001B[0;32m   2308\u001B[0m \u001B[43m        \u001B[49m\u001B[43mpos_label\u001B[49m\u001B[38;5;241;43m=\u001B[39;49m\u001B[43mpos_label\u001B[49m\u001B[43m,\u001B[49m\n\u001B[0;32m   2309\u001B[0m \u001B[43m        \u001B[49m\u001B[43maverage\u001B[49m\u001B[38;5;241;43m=\u001B[39;49m\u001B[43maverage\u001B[49m\u001B[43m,\u001B[49m\n\u001B[0;32m   2310\u001B[0m \u001B[43m        \u001B[49m\u001B[43mwarn_for\u001B[49m\u001B[38;5;241;43m=\u001B[39;49m\u001B[43m(\u001B[49m\u001B[38;5;124;43m\"\u001B[39;49m\u001B[38;5;124;43mrecall\u001B[39;49m\u001B[38;5;124;43m\"\u001B[39;49m\u001B[43m,\u001B[49m\u001B[43m)\u001B[49m\u001B[43m,\u001B[49m\n\u001B[0;32m   2311\u001B[0m \u001B[43m        \u001B[49m\u001B[43msample_weight\u001B[49m\u001B[38;5;241;43m=\u001B[39;49m\u001B[43msample_weight\u001B[49m\u001B[43m,\u001B[49m\n\u001B[0;32m   2312\u001B[0m \u001B[43m        \u001B[49m\u001B[43mzero_division\u001B[49m\u001B[38;5;241;43m=\u001B[39;49m\u001B[43mzero_division\u001B[49m\u001B[43m,\u001B[49m\n\u001B[0;32m   2313\u001B[0m \u001B[43m    \u001B[49m\u001B[43m)\u001B[49m\n\u001B[0;32m   2314\u001B[0m     \u001B[38;5;28;01mreturn\u001B[39;00m r\n",
      "File \u001B[1;32m~\\AppData\\Local\\Programs\\Python\\Python39\\lib\\site-packages\\sklearn\\utils\\_param_validation.py:187\u001B[0m, in \u001B[0;36mvalidate_params.<locals>.decorator.<locals>.wrapper\u001B[1;34m(*args, **kwargs)\u001B[0m\n\u001B[0;32m    185\u001B[0m global_skip_validation \u001B[38;5;241m=\u001B[39m get_config()[\u001B[38;5;124m\"\u001B[39m\u001B[38;5;124mskip_parameter_validation\u001B[39m\u001B[38;5;124m\"\u001B[39m]\n\u001B[0;32m    186\u001B[0m \u001B[38;5;28;01mif\u001B[39;00m global_skip_validation:\n\u001B[1;32m--> 187\u001B[0m     \u001B[38;5;28;01mreturn\u001B[39;00m func(\u001B[38;5;241m*\u001B[39margs, \u001B[38;5;241m*\u001B[39m\u001B[38;5;241m*\u001B[39mkwargs)\n\u001B[0;32m    189\u001B[0m func_sig \u001B[38;5;241m=\u001B[39m signature(func)\n\u001B[0;32m    191\u001B[0m \u001B[38;5;66;03m# Map *args/**kwargs to the function signature\u001B[39;00m\n",
      "File \u001B[1;32m~\\AppData\\Local\\Programs\\Python\\Python39\\lib\\site-packages\\sklearn\\metrics\\_classification.py:1724\u001B[0m, in \u001B[0;36mprecision_recall_fscore_support\u001B[1;34m(y_true, y_pred, beta, labels, pos_label, average, warn_for, sample_weight, zero_division)\u001B[0m\n\u001B[0;32m   1566\u001B[0m \u001B[38;5;250m\u001B[39m\u001B[38;5;124;03m\"\"\"Compute precision, recall, F-measure and support for each class.\u001B[39;00m\n\u001B[0;32m   1567\u001B[0m \n\u001B[0;32m   1568\u001B[0m \u001B[38;5;124;03mThe precision is the ratio ``tp / (tp + fp)`` where ``tp`` is the number of\u001B[39;00m\n\u001B[1;32m   (...)\u001B[0m\n\u001B[0;32m   1721\u001B[0m \u001B[38;5;124;03m array([2, 2, 2]))\u001B[39;00m\n\u001B[0;32m   1722\u001B[0m \u001B[38;5;124;03m\"\"\"\u001B[39;00m\n\u001B[0;32m   1723\u001B[0m zero_division_value \u001B[38;5;241m=\u001B[39m _check_zero_division(zero_division)\n\u001B[1;32m-> 1724\u001B[0m labels \u001B[38;5;241m=\u001B[39m \u001B[43m_check_set_wise_labels\u001B[49m\u001B[43m(\u001B[49m\u001B[43my_true\u001B[49m\u001B[43m,\u001B[49m\u001B[43m \u001B[49m\u001B[43my_pred\u001B[49m\u001B[43m,\u001B[49m\u001B[43m \u001B[49m\u001B[43maverage\u001B[49m\u001B[43m,\u001B[49m\u001B[43m \u001B[49m\u001B[43mlabels\u001B[49m\u001B[43m,\u001B[49m\u001B[43m \u001B[49m\u001B[43mpos_label\u001B[49m\u001B[43m)\u001B[49m\n\u001B[0;32m   1726\u001B[0m \u001B[38;5;66;03m# Calculate tp_sum, pred_sum, true_sum ###\u001B[39;00m\n\u001B[0;32m   1727\u001B[0m samplewise \u001B[38;5;241m=\u001B[39m average \u001B[38;5;241m==\u001B[39m \u001B[38;5;124m\"\u001B[39m\u001B[38;5;124msamples\u001B[39m\u001B[38;5;124m\"\u001B[39m\n",
      "File \u001B[1;32m~\\AppData\\Local\\Programs\\Python\\Python39\\lib\\site-packages\\sklearn\\metrics\\_classification.py:1501\u001B[0m, in \u001B[0;36m_check_set_wise_labels\u001B[1;34m(y_true, y_pred, average, labels, pos_label)\u001B[0m\n\u001B[0;32m   1498\u001B[0m \u001B[38;5;28;01mif\u001B[39;00m average \u001B[38;5;129;01mnot\u001B[39;00m \u001B[38;5;129;01min\u001B[39;00m average_options \u001B[38;5;129;01mand\u001B[39;00m average \u001B[38;5;241m!=\u001B[39m \u001B[38;5;124m\"\u001B[39m\u001B[38;5;124mbinary\u001B[39m\u001B[38;5;124m\"\u001B[39m:\n\u001B[0;32m   1499\u001B[0m     \u001B[38;5;28;01mraise\u001B[39;00m \u001B[38;5;167;01mValueError\u001B[39;00m(\u001B[38;5;124m\"\u001B[39m\u001B[38;5;124maverage has to be one of \u001B[39m\u001B[38;5;124m\"\u001B[39m \u001B[38;5;241m+\u001B[39m \u001B[38;5;28mstr\u001B[39m(average_options))\n\u001B[1;32m-> 1501\u001B[0m y_type, y_true, y_pred \u001B[38;5;241m=\u001B[39m \u001B[43m_check_targets\u001B[49m\u001B[43m(\u001B[49m\u001B[43my_true\u001B[49m\u001B[43m,\u001B[49m\u001B[43m \u001B[49m\u001B[43my_pred\u001B[49m\u001B[43m)\u001B[49m\n\u001B[0;32m   1502\u001B[0m \u001B[38;5;66;03m# Convert to Python primitive type to avoid NumPy type / Python str\u001B[39;00m\n\u001B[0;32m   1503\u001B[0m \u001B[38;5;66;03m# comparison. See https://github.com/numpy/numpy/issues/6784\u001B[39;00m\n\u001B[0;32m   1504\u001B[0m present_labels \u001B[38;5;241m=\u001B[39m unique_labels(y_true, y_pred)\u001B[38;5;241m.\u001B[39mtolist()\n",
      "File \u001B[1;32m~\\AppData\\Local\\Programs\\Python\\Python39\\lib\\site-packages\\sklearn\\metrics\\_classification.py:104\u001B[0m, in \u001B[0;36m_check_targets\u001B[1;34m(y_true, y_pred)\u001B[0m\n\u001B[0;32m    102\u001B[0m \u001B[38;5;66;03m# No metrics support \"multiclass-multioutput\" format\u001B[39;00m\n\u001B[0;32m    103\u001B[0m \u001B[38;5;28;01mif\u001B[39;00m y_type \u001B[38;5;129;01mnot\u001B[39;00m \u001B[38;5;129;01min\u001B[39;00m [\u001B[38;5;124m\"\u001B[39m\u001B[38;5;124mbinary\u001B[39m\u001B[38;5;124m\"\u001B[39m, \u001B[38;5;124m\"\u001B[39m\u001B[38;5;124mmulticlass\u001B[39m\u001B[38;5;124m\"\u001B[39m, \u001B[38;5;124m\"\u001B[39m\u001B[38;5;124mmultilabel-indicator\u001B[39m\u001B[38;5;124m\"\u001B[39m]:\n\u001B[1;32m--> 104\u001B[0m     \u001B[38;5;28;01mraise\u001B[39;00m \u001B[38;5;167;01mValueError\u001B[39;00m(\u001B[38;5;124m\"\u001B[39m\u001B[38;5;132;01m{0}\u001B[39;00m\u001B[38;5;124m is not supported\u001B[39m\u001B[38;5;124m\"\u001B[39m\u001B[38;5;241m.\u001B[39mformat(y_type))\n\u001B[0;32m    106\u001B[0m \u001B[38;5;28;01mif\u001B[39;00m y_type \u001B[38;5;129;01min\u001B[39;00m [\u001B[38;5;124m\"\u001B[39m\u001B[38;5;124mbinary\u001B[39m\u001B[38;5;124m\"\u001B[39m, \u001B[38;5;124m\"\u001B[39m\u001B[38;5;124mmulticlass\u001B[39m\u001B[38;5;124m\"\u001B[39m]:\n\u001B[0;32m    107\u001B[0m     y_true \u001B[38;5;241m=\u001B[39m column_or_1d(y_true)\n",
      "\u001B[1;31mValueError\u001B[0m: unknown is not supported"
     ]
    }
   ],
   "source": [
    "from sklearn.metrics import accuracy_score\n",
    "from sklearn.metrics import precision_score\n",
    "from sklearn.metrics import recall_score\n",
    "# Czułość modelu:\n",
    "recall = recall_score(masks_test, masks_pred, average='micro')\n",
    "print(\"Czułość modelu: {:.2f}%\".format(recall * 100))\n",
    "\n",
    "# Obliczenie precyzji\n",
    "precision = precision_score(masks_test, masks_pred, average='micro')\n",
    "print(\"Precyzja modelu: {:.2f}%\".format(precision * 100))\n",
    "\n",
    "# Obliczenie dokładności modelu\n",
    "accuracy = accuracy_score(masks_test, masks_pred,)\n",
    "print(\"Dokładność modelu:\", accuracy)"
   ],
   "metadata": {
    "collapsed": false,
    "ExecuteTime": {
     "end_time": "2024-05-26T16:25:39.741066600Z",
     "start_time": "2024-05-26T16:25:39.567799500Z"
    }
   },
   "id": "697bea194e589894"
  },
  {
   "cell_type": "code",
   "execution_count": null,
   "outputs": [],
   "source": [],
   "metadata": {
    "collapsed": false
   },
   "id": "d7d27a194cfc1d05"
  }
 ],
 "metadata": {
  "kernelspec": {
   "display_name": "Python 3",
   "language": "python",
   "name": "python3"
  },
  "language_info": {
   "codemirror_mode": {
    "name": "ipython",
    "version": 2
   },
   "file_extension": ".py",
   "mimetype": "text/x-python",
   "name": "python",
   "nbconvert_exporter": "python",
   "pygments_lexer": "ipython2",
   "version": "2.7.6"
  }
 },
 "nbformat": 4,
 "nbformat_minor": 5
}
