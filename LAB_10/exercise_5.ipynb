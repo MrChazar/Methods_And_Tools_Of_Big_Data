{
 "cells": [
  {
   "cell_type": "markdown",
   "source": [
    "# Zadanie 6\n",
    "Segmentacja obrazu na podstawie danych CamVid:\n",
    "• Zadanie polega na stworzeniu modelu głębokiej sieci neuronowej w Keras do segmentacji\n",
    "obrazu na podstawie danych z bazy danych CamVid.\n",
    "• Użyj bazy danych CamVid, która zawiera obrazy dróg z kamery samochodu oraz ich odpowiadające etykiety pikseli.\n",
    "• Zdefiniuj architekturę modelu, skompiluj go i przeprowadź proces trenowania.\n",
    "• Ocenić wydajność modelu za pomocą miary IoU (Intersection over Union) oraz zwizualizuj\n",
    "wyniki segmentacji dla wybranych obrazów z zestawu testowego."
   ],
   "metadata": {
    "collapsed": false
   },
   "id": "58d5452a6fd57fd1"
  },
  {
   "cell_type": "code",
   "execution_count": null,
   "outputs": [],
   "source": [],
   "metadata": {
    "collapsed": false
   },
   "id": "a25ae1fb5cc7b28d"
  }
 ],
 "metadata": {
  "kernelspec": {
   "display_name": "Python 3",
   "language": "python",
   "name": "python3"
  },
  "language_info": {
   "codemirror_mode": {
    "name": "ipython",
    "version": 2
   },
   "file_extension": ".py",
   "mimetype": "text/x-python",
   "name": "python",
   "nbconvert_exporter": "python",
   "pygments_lexer": "ipython2",
   "version": "2.7.6"
  }
 },
 "nbformat": 4,
 "nbformat_minor": 5
}
