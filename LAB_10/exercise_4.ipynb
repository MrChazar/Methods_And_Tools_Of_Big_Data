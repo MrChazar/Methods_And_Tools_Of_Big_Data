{
 "cells": [
  {
   "cell_type": "markdown",
   "source": [
    "# Zadanie 5\n",
    "Klasyfikacja obiektów na podstawie danych COCO (Common Objects in Context):\n",
    "• Zadanie polega na stworzeniu modelu głębokiej sieci neuronowej w Keras do klasyfikacji\n",
    "obiektów na podstawie danych z bazy danych COCO.\n",
    "• Użyj bazy danych COCO, która zawiera ponad 200 tysięcy zdjęć obiektów w kontekście\n",
    "różnych scen.\n",
    "• Zdefiniuj architekturę modelu, skompiluj go i przeprowadź proces trenowania.\n",
    "• Ocenić wydajność modelu na zbiorze testowym oraz zwizualizuj wyniki za pomocą krzywej ROC."
   ],
   "metadata": {
    "collapsed": false
   },
   "id": "92c59a0620190a70"
  },
  {
   "cell_type": "code",
   "execution_count": 3,
   "outputs": [],
   "source": [
    "import torch\n",
    "import torch.nn as nn\n",
    "import torch.optim as optim\n",
    "import torchvision.transforms as transforms\n",
    "import torchvision.datasets as datasets\n",
    "from pycocotools.coco import COCO\n",
    "from torch.utils.data import DataLoader, Dataset\n",
    "from PIL import Image\n",
    "import os\n",
    "import fiftyone as fo\n",
    "import fiftyone.zoo as foz\n",
    "from sklearn.datasets import load_iris\n",
    "from sklearn.datasets import load_breast_cancer\n",
    "from sklearn.metrics import classification_report\n",
    "from keras.models import Sequential\n",
    "from keras.layers import Conv2D, MaxPooling2D, Flatten, Dense\n",
    "import pandas as pd\n",
    "from sklearn.model_selection import train_test_split\n",
    "import numpy as np\n",
    "import matplotlib.pyplot as plt\n",
    "from sklearn.metrics import confusion_matrix\n",
    "import seaborn as sea\n",
    "\n",
    "from sklearn.metrics import roc_curve, auc\n",
    "from keras.models import Sequential\n",
    "from keras.layers import Dense\n",
    "from keras.utils import to_categorical\n",
    "\n",
    "from sklearn.metrics import accuracy_score\n",
    "from sklearn.metrics import precision_score\n",
    "from sklearn.metrics import recall_score"
   ],
   "metadata": {
    "collapsed": false,
    "ExecuteTime": {
     "end_time": "2024-05-11T17:27:06.063020Z",
     "start_time": "2024-05-11T17:27:06.030734100Z"
    }
   },
   "id": "16fdcfa3118e878e"
  },
  {
   "cell_type": "code",
   "execution_count": null,
   "outputs": [],
   "source": [
    "# wczytanie danych\n",
    "dataset = foz.load_zoo_dataset(\"coco-2017\", split=\"validation\")"
   ],
   "metadata": {
    "collapsed": false
   },
   "id": "37bc843d9c4fef3f"
  }
 ],
 "metadata": {
  "kernelspec": {
   "display_name": "Python 3",
   "language": "python",
   "name": "python3"
  },
  "language_info": {
   "codemirror_mode": {
    "name": "ipython",
    "version": 2
   },
   "file_extension": ".py",
   "mimetype": "text/x-python",
   "name": "python",
   "nbconvert_exporter": "python",
   "pygments_lexer": "ipython2",
   "version": "2.7.6"
  }
 },
 "nbformat": 4,
 "nbformat_minor": 5
}
