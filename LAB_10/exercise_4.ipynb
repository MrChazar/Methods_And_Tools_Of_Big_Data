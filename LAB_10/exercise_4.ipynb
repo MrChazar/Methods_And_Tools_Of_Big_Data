{
 "cells": [
  {
   "cell_type": "markdown",
   "source": [
    "# Zadanie 5\n",
    "Klasyfikacja obiektów na podstawie danych COCO (Common Objects in Context):\n",
    "• Zadanie polega na stworzeniu modelu głębokiej sieci neuronowej w Keras do klasyfikacji\n",
    "obiektów na podstawie danych z bazy danych COCO.\n",
    "• Użyj bazy danych COCO, która zawiera ponad 200 tysięcy zdjęć obiektów w kontekście\n",
    "różnych scen.\n",
    "• Zdefiniuj architekturę modelu, skompiluj go i przeprowadź proces trenowania.\n",
    "• Ocenić wydajność modelu na zbiorze testowym oraz zwizualizuj wyniki za pomocą krzywej ROC."
   ],
   "metadata": {
    "collapsed": false
   },
   "id": "92c59a0620190a70"
  },
  {
   "cell_type": "code",
   "execution_count": 3,
   "outputs": [],
   "source": [
    "import torch\n",
    "import torch.nn as nn\n",
    "import torch.optim as optim\n",
    "import torchvision.transforms as transforms\n",
    "import torchvision.datasets as datasets\n",
    "from pycocotools.coco import COCO\n",
    "from torch.utils.data import DataLoader, Dataset\n",
    "from PIL import Image\n",
    "import os\n"
   ],
   "metadata": {
    "collapsed": false,
    "ExecuteTime": {
     "end_time": "2024-05-11T17:27:06.063020Z",
     "start_time": "2024-05-11T17:27:06.030734100Z"
    }
   },
   "id": "16fdcfa3118e878e"
  },
  {
   "cell_type": "code",
   "execution_count": 4,
   "outputs": [
    {
     "ename": "NameError",
     "evalue": "name 'Dataset' is not defined",
     "output_type": "error",
     "traceback": [
      "\u001B[1;31m---------------------------------------------------------------------------\u001B[0m",
      "\u001B[1;31mNameError\u001B[0m                                 Traceback (most recent call last)",
      "Cell \u001B[1;32mIn[4], line 2\u001B[0m\n\u001B[0;32m      1\u001B[0m \u001B[38;5;66;03m# Klasa custom dataset dla danych COCO\u001B[39;00m\n\u001B[1;32m----> 2\u001B[0m \u001B[38;5;28;01mclass\u001B[39;00m \u001B[38;5;21;01mCOCODataset\u001B[39;00m(\u001B[43mDataset\u001B[49m):\n\u001B[0;32m      3\u001B[0m     \u001B[38;5;28;01mdef\u001B[39;00m \u001B[38;5;21m__init__\u001B[39m(\u001B[38;5;28mself\u001B[39m, root, annFile, transform\u001B[38;5;241m=\u001B[39m\u001B[38;5;28;01mNone\u001B[39;00m):\n\u001B[0;32m      4\u001B[0m         \u001B[38;5;28mself\u001B[39m\u001B[38;5;241m.\u001B[39mroot \u001B[38;5;241m=\u001B[39m root\n",
      "\u001B[1;31mNameError\u001B[0m: name 'Dataset' is not defined"
     ]
    }
   ],
   "source": [
    "\n",
    "# Klasa custom dataset dla danych COCO\n",
    "class COCODataset(Dataset):\n",
    "    def __init__(self, root, annFile, transform=None):\n",
    "        self.root = root\n",
    "        self.coco = COCO(annFile)\n",
    "        self.ids = list(self.coco.imgToAnns.keys())\n",
    "        self.transform = transform\n",
    "\n",
    "    def __getitem__(self, index):\n",
    "        coco = self.coco\n",
    "        img_id = self.ids[index]\n",
    "        ann_ids = coco.getAnnIds(imgIds=img_id)\n",
    "        anns = coco.loadAnns(ann_ids)\n",
    "        labels = [ann['category_id'] for ann in anns]\n",
    "\n",
    "        img_info = coco.loadImgs(img_id)[0]\n",
    "        path = img_info['file_name']\n",
    "        img = Image.open(os.path.join(self.root, path)).convert('RGB')\n",
    "\n",
    "        if self.transform is not None:\n",
    "            img = self.transform(img)\n",
    "\n",
    "        return img, torch.tensor(labels)\n",
    "\n",
    "    def __len__(self):\n",
    "        return len(self.ids)"
   ],
   "metadata": {
    "collapsed": false,
    "ExecuteTime": {
     "end_time": "2024-05-23T15:57:55.207635400Z",
     "start_time": "2024-05-23T15:57:54.917285900Z"
    }
   },
   "id": "6c6c45b4c3334b95"
  },
  {
   "cell_type": "code",
   "execution_count": 5,
   "outputs": [],
   "source": [
    "# Ścieżki do danych COCO\n",
    "data_dir = 'path/to/coco/images/train2017'\n",
    "ann_file = 'path/to/coco/annotations/instances_train2017.json'"
   ],
   "metadata": {
    "collapsed": false,
    "ExecuteTime": {
     "end_time": "2024-05-23T15:58:14.769569300Z",
     "start_time": "2024-05-23T15:58:14.721462900Z"
    }
   },
   "id": "760c1b63f6518786"
  },
  {
   "cell_type": "code",
   "execution_count": 6,
   "outputs": [
    {
     "ename": "NameError",
     "evalue": "name 'transforms' is not defined",
     "output_type": "error",
     "traceback": [
      "\u001B[1;31m---------------------------------------------------------------------------\u001B[0m",
      "\u001B[1;31mNameError\u001B[0m                                 Traceback (most recent call last)",
      "Cell \u001B[1;32mIn[6], line 2\u001B[0m\n\u001B[0;32m      1\u001B[0m \u001B[38;5;66;03m# Transformacje danych\u001B[39;00m\n\u001B[1;32m----> 2\u001B[0m transform \u001B[38;5;241m=\u001B[39m \u001B[43mtransforms\u001B[49m\u001B[38;5;241m.\u001B[39mCompose([\n\u001B[0;32m      3\u001B[0m     transforms\u001B[38;5;241m.\u001B[39mResize((\u001B[38;5;241m224\u001B[39m, \u001B[38;5;241m224\u001B[39m)),\n\u001B[0;32m      4\u001B[0m     transforms\u001B[38;5;241m.\u001B[39mToTensor(),\n\u001B[0;32m      5\u001B[0m     transforms\u001B[38;5;241m.\u001B[39mNormalize(mean\u001B[38;5;241m=\u001B[39m[\u001B[38;5;241m0.485\u001B[39m, \u001B[38;5;241m0.456\u001B[39m, \u001B[38;5;241m0.406\u001B[39m], std\u001B[38;5;241m=\u001B[39m[\u001B[38;5;241m0.229\u001B[39m, \u001B[38;5;241m0.224\u001B[39m, \u001B[38;5;241m0.225\u001B[39m])\n\u001B[0;32m      6\u001B[0m ])\n",
      "\u001B[1;31mNameError\u001B[0m: name 'transforms' is not defined"
     ]
    }
   ],
   "source": [
    "# Transformacje danych\n",
    "transform = transforms.Compose([\n",
    "    transforms.Resize((224, 224)),\n",
    "    transforms.ToTensor(),\n",
    "    transforms.Normalize(mean=[0.485, 0.456, 0.406], std=[0.229, 0.224, 0.225])\n",
    "])"
   ],
   "metadata": {
    "collapsed": false,
    "ExecuteTime": {
     "end_time": "2024-05-23T15:58:28.469235700Z",
     "start_time": "2024-05-23T15:58:28.423020800Z"
    }
   },
   "id": "8a0bc1b6e8fddf1f"
  },
  {
   "cell_type": "code",
   "execution_count": 7,
   "outputs": [
    {
     "ename": "NameError",
     "evalue": "name 'COCODataset' is not defined",
     "output_type": "error",
     "traceback": [
      "\u001B[1;31m---------------------------------------------------------------------------\u001B[0m",
      "\u001B[1;31mNameError\u001B[0m                                 Traceback (most recent call last)",
      "Cell \u001B[1;32mIn[7], line 2\u001B[0m\n\u001B[0;32m      1\u001B[0m \u001B[38;5;66;03m# Tworzenie datasetu i loadera\u001B[39;00m\n\u001B[1;32m----> 2\u001B[0m coco_dataset \u001B[38;5;241m=\u001B[39m \u001B[43mCOCODataset\u001B[49m(root\u001B[38;5;241m=\u001B[39mdata_dir, annFile\u001B[38;5;241m=\u001B[39mann_file, transform\u001B[38;5;241m=\u001B[39mtransform)\n\u001B[0;32m      3\u001B[0m data_loader \u001B[38;5;241m=\u001B[39m DataLoader(coco_dataset, batch_size\u001B[38;5;241m=\u001B[39m\u001B[38;5;241m32\u001B[39m, shuffle\u001B[38;5;241m=\u001B[39m\u001B[38;5;28;01mTrue\u001B[39;00m, num_workers\u001B[38;5;241m=\u001B[39m\u001B[38;5;241m4\u001B[39m)\n",
      "\u001B[1;31mNameError\u001B[0m: name 'COCODataset' is not defined"
     ]
    }
   ],
   "source": [
    "# Tworzenie datasetu i loadera\n",
    "coco_dataset = COCODataset(root=data_dir, annFile=ann_file, transform=transform)\n",
    "data_loader = DataLoader(coco_dataset, batch_size=32, shuffle=True, num_workers=4)"
   ],
   "metadata": {
    "collapsed": false,
    "ExecuteTime": {
     "end_time": "2024-05-23T15:58:35.988233200Z",
     "start_time": "2024-05-23T15:58:35.932468500Z"
    }
   },
   "id": "1ae3322cc10ebe5f"
  },
  {
   "cell_type": "code",
   "execution_count": 8,
   "outputs": [
    {
     "ename": "SyntaxError",
     "evalue": "invalid syntax (4227395726.py, line 1)",
     "output_type": "error",
     "traceback": [
      "\u001B[1;36m  Cell \u001B[1;32mIn[8], line 1\u001B[1;36m\u001B[0m\n\u001B[1;33m    Definicja modelu (przykład prostego modelu CNN)\u001B[0m\n\u001B[1;37m              ^\u001B[0m\n\u001B[1;31mSyntaxError\u001B[0m\u001B[1;31m:\u001B[0m invalid syntax\n"
     ]
    }
   ],
   "source": [
    " Definicja modelu (przykład prostego modelu CNN)\n",
    "class SimpleCNN(nn.Module):\n",
    "    def __init__(self, num_classes):\n",
    "        super(SimpleCNN, self).__init__()\n",
    "        self.conv1 = nn.Conv2d(3, 16, kernel_size=3, padding=1)\n",
    "        self.pool = nn.MaxPool2d(kernel_size=2, stride=2, padding=0)\n",
    "        self.conv2 = nn.Conv2d(16, 32, kernel_size=3, padding=1)\n",
    "        self.fc1 = nn.Linear(32 * 56 * 56, 512)\n",
    "        self.fc2 = nn.Linear(512, num_classes)\n",
    "\n",
    "    def forward(self, x):\n",
    "        x = self.pool(F.relu(self.conv1(x)))\n",
    "        x = self.pool(F.relu(self.conv2(x)))\n",
    "        x = x.view(-1, 32 * 56 * 56)\n",
    "        x = F.relu(self.fc1(x))\n",
    "        x = self.fc2(x)\n",
    "        return x"
   ],
   "metadata": {
    "collapsed": false,
    "ExecuteTime": {
     "end_time": "2024-05-23T15:58:44.701022800Z",
     "start_time": "2024-05-23T15:58:44.594864Z"
    }
   },
   "id": "8f68f8a1868f21ad"
  },
  {
   "cell_type": "code",
   "execution_count": 9,
   "outputs": [
    {
     "ename": "NameError",
     "evalue": "name 'SimpleCNN' is not defined",
     "output_type": "error",
     "traceback": [
      "\u001B[1;31m---------------------------------------------------------------------------\u001B[0m",
      "\u001B[1;31mNameError\u001B[0m                                 Traceback (most recent call last)",
      "Cell \u001B[1;32mIn[9], line 3\u001B[0m\n\u001B[0;32m      1\u001B[0m \u001B[38;5;66;03m# Inicjalizacja modelu, funkcji straty i optymalizatora\u001B[39;00m\n\u001B[0;32m      2\u001B[0m num_classes \u001B[38;5;241m=\u001B[39m \u001B[38;5;241m80\u001B[39m  \u001B[38;5;66;03m# Liczba klas w COCO\u001B[39;00m\n\u001B[1;32m----> 3\u001B[0m model \u001B[38;5;241m=\u001B[39m \u001B[43mSimpleCNN\u001B[49m(num_classes)\n\u001B[0;32m      4\u001B[0m criterion \u001B[38;5;241m=\u001B[39m nn\u001B[38;5;241m.\u001B[39mCrossEntropyLoss()\n\u001B[0;32m      5\u001B[0m optimizer \u001B[38;5;241m=\u001B[39m optim\u001B[38;5;241m.\u001B[39mSGD(model\u001B[38;5;241m.\u001B[39mparameters(), lr\u001B[38;5;241m=\u001B[39m\u001B[38;5;241m0.01\u001B[39m)\n",
      "\u001B[1;31mNameError\u001B[0m: name 'SimpleCNN' is not defined"
     ]
    }
   ],
   "source": [
    "# Inicjalizacja modelu, funkcji straty i optymalizatora\n",
    "num_classes = 80  # Liczba klas w COCO\n",
    "model = SimpleCNN(num_classes)\n",
    "criterion = nn.CrossEntropyLoss()\n",
    "optimizer = optim.SGD(model.parameters(), lr=0.01)"
   ],
   "metadata": {
    "collapsed": false,
    "ExecuteTime": {
     "end_time": "2024-05-23T15:58:53.392857200Z",
     "start_time": "2024-05-23T15:58:53.331199700Z"
    }
   },
   "id": "2096118a841b8a0b"
  },
  {
   "cell_type": "code",
   "execution_count": 11,
   "outputs": [
    {
     "ename": "NameError",
     "evalue": "name 'model' is not defined",
     "output_type": "error",
     "traceback": [
      "\u001B[1;31m---------------------------------------------------------------------------\u001B[0m",
      "\u001B[1;31mNameError\u001B[0m                                 Traceback (most recent call last)",
      "Cell \u001B[1;32mIn[11], line 4\u001B[0m\n\u001B[0;32m      2\u001B[0m num_epochs \u001B[38;5;241m=\u001B[39m \u001B[38;5;241m10\u001B[39m\n\u001B[0;32m      3\u001B[0m \u001B[38;5;28;01mfor\u001B[39;00m epoch \u001B[38;5;129;01min\u001B[39;00m \u001B[38;5;28mrange\u001B[39m(num_epochs):\n\u001B[1;32m----> 4\u001B[0m     \u001B[43mmodel\u001B[49m\u001B[38;5;241m.\u001B[39mtrain()\n\u001B[0;32m      5\u001B[0m     running_loss \u001B[38;5;241m=\u001B[39m \u001B[38;5;241m0.0\u001B[39m\n\u001B[0;32m      6\u001B[0m     \u001B[38;5;28;01mfor\u001B[39;00m images, labels \u001B[38;5;129;01min\u001B[39;00m data_loader:\n",
      "\u001B[1;31mNameError\u001B[0m: name 'model' is not defined"
     ]
    }
   ],
   "source": [
    "# Trenowanie modelu\n",
    "num_epochs = 10\n",
    "for epoch in range(num_epochs):\n",
    "    model.train()\n",
    "    running_loss = 0.0\n",
    "    for images, labels in data_loader:\n",
    "        optimizer.zero_grad()\n",
    "        outputs = model(images)\n",
    "        loss = criterion(outputs, labels)\n",
    "        loss.backward()\n",
    "        optimizer.step()\n",
    "        running_loss += loss.item()\n",
    "\n",
    "    print(f'Epoch [{epoch+1}/{num_epochs}], Loss: {running_loss/len(data_loader):.4f}')"
   ],
   "metadata": {
    "collapsed": false,
    "ExecuteTime": {
     "end_time": "2024-05-23T15:59:05.465080200Z",
     "start_time": "2024-05-23T15:59:05.385077500Z"
    }
   },
   "id": "ced4fe8a9dbfca4f"
  },
  {
   "cell_type": "code",
   "execution_count": null,
   "outputs": [],
   "source": [],
   "metadata": {
    "collapsed": false
   },
   "id": "37bc843d9c4fef3f"
  }
 ],
 "metadata": {
  "kernelspec": {
   "display_name": "Python 3",
   "language": "python",
   "name": "python3"
  },
  "language_info": {
   "codemirror_mode": {
    "name": "ipython",
    "version": 2
   },
   "file_extension": ".py",
   "mimetype": "text/x-python",
   "name": "python",
   "nbconvert_exporter": "python",
   "pygments_lexer": "ipython2",
   "version": "2.7.6"
  }
 },
 "nbformat": 4,
 "nbformat_minor": 5
}
