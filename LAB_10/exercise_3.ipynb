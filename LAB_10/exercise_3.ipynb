{
 "cells": [
  {
   "cell_type": "markdown",
   "id": "a641fb6f1318d53",
   "metadata": {
    "collapsed": false
   },
   "source": [
    "# Zadanie 4\n",
    "Wykorzystanie techniki transferu w uczeniu z nadzorem na bazie danych VGGFace:\n",
    "• Zadanie polega na wykorzystaniu istniejącego modelu głębokiej sieci neuronowej, np.\n",
    "VGG16, w celu klasyfikacji twarzy na podstawie danych z bazy danych VGGFace.\n",
    "• Użyj bazy danych VGGFace, która zawiera miliony zdjęć twarzy różnych osób.\n",
    "• Wczytaj pre-trenowany model z Keras, a następnie dostosuj go do nowego zadania klasyfikacji za pomocą techniki transferu w uczeniu z nadzorem.\n",
    "Ocenić wydajność modelu na zbiorze testowym oraz zwizualizuj wyniki za pomocą macierzy pomyłek."
   ]
  },
  {
   "cell_type": "code",
   "execution_count": 113,
   "id": "f3d9305c96f7c1ec",
   "metadata": {
    "collapsed": false,
    "ExecuteTime": {
     "end_time": "2024-05-24T18:37:52.689872500Z",
     "start_time": "2024-05-24T18:37:52.657249200Z"
    }
   },
   "outputs": [],
   "source": [
    "from keras.models import Sequential\n",
    "from keras.layers import Conv2D, MaxPooling2D, Flatten, Dense\n",
    "import pandas as pd\n",
    "from sklearn.model_selection import train_test_split\n",
    "import numpy as np\n",
    "import matplotlib.pyplot as plt\n",
    "from sklearn.metrics import confusion_matrix\n",
    "import seaborn as sea\n",
    "\n",
    "from keras.models import Sequential\n",
    "from keras.layers import Dense\n",
    "\n",
    "from sklearn.metrics import accuracy_score\n",
    "from sklearn.metrics import precision_score\n",
    "from sklearn.metrics import recall_score\n",
    "\n",
    "from tensorflow.keras.applications.vgg16 import VGG16\n",
    "from tensorflow.keras.datasets import cifar10\n",
    "from tensorflow.keras.layers import GlobalAveragePooling2D\n",
    "from tensorflow.keras.models import Model\n",
    "from keras.optimizers import Adam\n",
    "from sklearn.metrics import roc_curve, auc"
   ]
  },
  {
   "cell_type": "code",
   "execution_count": 114,
   "outputs": [],
   "source": [
    "# Ładowanie danych które są zdjęciami z UTKFace gdzie labele zawierają w nazwie plików w formie age_gender_race_date.jpg\n",
    "import os\n",
    "import numpy as np\n",
    "from PIL import Image\n",
    "from keras.preprocessing.image import img_to_array\n",
    "import pickle\n",
    "\n",
    "def load_data(data_dir):\n",
    "    images = []\n",
    "    labels = []\n",
    "    \n",
    "    for file_name in os.listdir(data_dir):\n",
    "        if file_name.endswith(\".jpg\"):\n",
    "            # Parsowanie informacji z nazwy pliku\n",
    "            parts = file_name.split('_')\n",
    "            age = int(parts[0])\n",
    "            gender = int(parts[1])\n",
    "            race = int(parts[2])\n",
    "            \n",
    "            # Ścieżka do pliku\n",
    "            file_path = os.path.join(data_dir, file_name)\n",
    "            \n",
    "            # Wczytanie obrazu\n",
    "            img = Image.open(file_path)\n",
    "            img = img.resize((32, 32))  # Zmiana rozmiaru obrazu do 32x32 (mój laptop nie pociągnie większego uczenia)\n",
    "            img_array = img_to_array(img)  # Konwersja obrazu do tablicy numpy\n",
    "            \n",
    "            # Normalizacja obrazu\n",
    "            img_array = img_array / 255.0\n",
    "            \n",
    "            # Dodanie obrazu i etykiet do list\n",
    "            images.append(img_array)\n",
    "            labels.append([age, gender, race])\n",
    "    \n",
    "    # Konwersja list do tablic numpy\n",
    "    X = np.array(images)\n",
    "    Y = np.array(labels)\n",
    "    \n",
    "    return X, Y\n",
    "\n",
    "def save_data_to_pkl(data_dir, X, Y):\n",
    "    # Zapisywanie numpy array do pliku pickle\n",
    "    with open(data_dir+\"X.pkl\", 'wb') as f:\n",
    "        pickle.dump(X, f)\n",
    "    with open(data_dir+\"Y.pkl\", 'wb') as f:\n",
    "        pickle.dump(Y, f)\n",
    "    print(\"Zapisanie do formatu pkl\")\n",
    "\n",
    "def load_data_from_pk(data_dir):\n",
    "    # Wczytywanie numpy array z pliku pickle\n",
    "    with open(data_dir+\"X.pkl\", 'rb') as f:\n",
    "        X = pickle.load(f)\n",
    "    with open(data_dir+\"Y.pkl\", 'rb') as f:\n",
    "        Y = pickle.load(f)\n",
    "    return X,Y\n",
    "\n",
    "# Użycie funkcji wczytującej dane z plików za pierwszym razem ( potem nie warto powtarzać tego)\n",
    "\"\"\"\n",
    "\n",
    "\n",
    "\"\"\"\n",
    "data_dir = 'Data/UTKFace/'\n",
    "X, Y = load_data(data_dir)\n",
    "\n",
    "# z powodu słabego sprzętu ograniczymy się tylko do płci\n",
    "Y = Y[:, 1]"
   ],
   "metadata": {
    "collapsed": false,
    "ExecuteTime": {
     "end_time": "2024-05-24T18:38:02.862413200Z",
     "start_time": "2024-05-24T18:37:53.138322600Z"
    }
   },
   "id": "9f6d5e5fedec08ef"
  },
  {
   "cell_type": "code",
   "execution_count": 115,
   "outputs": [
    {
     "data": {
      "text/plain": "\"\\ndata_dir = 'Data/UTKFacePKL/'\\nsave_data_to_pkl(data_dir, X, Y)\\nX, Y = load_data(data_dir)\\n\\n# Przykładowe wyświetlenie kształtów macierzy\\n\\nX\\n\""
     },
     "execution_count": 115,
     "metadata": {},
     "output_type": "execute_result"
    }
   ],
   "source": [
    "# funkcje wczytujące z formatu pkl (jeszcze nie działa)\n",
    "\"\"\"\n",
    "data_dir = 'Data/UTKFacePKL/'\n",
    "save_data_to_pkl(data_dir, X, Y)\n",
    "X, Y = load_data(data_dir)\n",
    "\n",
    "# Przykładowe wyświetlenie kształtów macierzy\n",
    "\n",
    "X\n",
    "\"\"\""
   ],
   "metadata": {
    "collapsed": false,
    "ExecuteTime": {
     "end_time": "2024-05-24T18:38:02.949484500Z",
     "start_time": "2024-05-24T18:38:02.873575900Z"
    }
   },
   "id": "6e23e4f1525c5de6"
  },
  {
   "cell_type": "code",
   "execution_count": 147,
   "outputs": [
    {
     "name": "stdout",
     "output_type": "stream",
     "text": [
      "X shape: (7669, 32, 32, 3)\n",
      "Y shape: (7669,)\n"
     ]
    },
    {
     "data": {
      "text/plain": "array([[[[0.99215686, 0.8745098 , 0.30588236],\n         [0.9764706 , 0.85882354, 0.27450982],\n         [0.8       , 0.70980394, 0.24313726],\n         ...,\n         [0.2       , 0.15686275, 0.12156863],\n         [0.14509805, 0.1254902 , 0.11372549],\n         [0.12941177, 0.1254902 , 0.10588235]],\n\n        [[0.9882353 , 0.8745098 , 0.2901961 ],\n         [0.9882353 , 0.87058824, 0.27058825],\n         [0.8392157 , 0.7490196 , 0.2784314 ],\n         ...,\n         [0.21960784, 0.16470589, 0.12156863],\n         [0.15686275, 0.13333334, 0.10980392],\n         [0.13333334, 0.12941177, 0.10196079]],\n\n        [[0.9843137 , 0.8666667 , 0.27058825],\n         [0.9882353 , 0.8784314 , 0.27450982],\n         [0.85490197, 0.7647059 , 0.28627452],\n         ...,\n         [0.23921569, 0.18039216, 0.13725491],\n         [0.17254902, 0.15294118, 0.11764706],\n         [0.14117648, 0.14509805, 0.09803922]],\n\n        ...,\n\n        [[0.94509804, 0.9098039 , 0.8745098 ],\n         [0.95686275, 0.88235295, 0.7176471 ],\n         [0.9372549 , 0.8509804 , 0.40392157],\n         ...,\n         [0.39607844, 0.2784314 , 0.21960784],\n         [0.4862745 , 0.3254902 , 0.25490198],\n         [0.52156866, 0.34901962, 0.3137255 ]],\n\n        [[0.9411765 , 0.92156863, 0.83137256],\n         [0.94509804, 0.87058824, 0.6509804 ],\n         [0.9529412 , 0.8509804 , 0.3882353 ],\n         ...,\n         [0.42745098, 0.2901961 , 0.23137255],\n         [0.47843137, 0.31764707, 0.22352941],\n         [0.47058824, 0.3137255 , 0.21960784]],\n\n        [[0.93333334, 0.8784314 , 0.7529412 ],\n         [0.9254902 , 0.83137256, 0.50980395],\n         [0.972549  , 0.8509804 , 0.3137255 ],\n         ...,\n         [0.42745098, 0.28235295, 0.23137255],\n         [0.45490196, 0.3019608 , 0.22352941],\n         [0.40784314, 0.28235295, 0.19215687]]],\n\n\n       [[[0.14509805, 0.07058824, 0.05882353],\n         [0.14117648, 0.0627451 , 0.05490196],\n         [0.14117648, 0.0627451 , 0.05490196],\n         ...,\n         [0.24705882, 0.16078432, 0.14509805],\n         [0.2       , 0.11764706, 0.10980392],\n         [0.10588235, 0.04705882, 0.03137255]],\n\n        [[0.14509805, 0.05098039, 0.0627451 ],\n         [0.14901961, 0.05882353, 0.04705882],\n         [0.15294118, 0.07058824, 0.05098039],\n         ...,\n         [0.21568628, 0.11764706, 0.09803922],\n         [0.22745098, 0.13333334, 0.11764706],\n         [0.16078432, 0.07843138, 0.05882353]],\n\n        [[0.14509805, 0.04705882, 0.05490196],\n         [0.16078432, 0.06666667, 0.05098039],\n         [0.16862746, 0.08235294, 0.05882353],\n         ...,\n         [0.19215687, 0.09803922, 0.05882353],\n         [0.21960784, 0.10980392, 0.09411765],\n         [0.2       , 0.10196079, 0.08235294]],\n\n        ...,\n\n        [[0.22352941, 0.15294118, 0.10588235],\n         [0.22352941, 0.13725491, 0.09411765],\n         [0.24313726, 0.14117648, 0.10196079],\n         ...,\n         [0.8627451 , 0.63529414, 0.52156866],\n         [0.8352941 , 0.6156863 , 0.49411765],\n         [0.76862746, 0.5254902 , 0.39607844]],\n\n        [[0.20784314, 0.13725491, 0.09019608],\n         [0.21960784, 0.13333334, 0.09019608],\n         [0.22745098, 0.1254902 , 0.09019608],\n         ...,\n         [0.8627451 , 0.6509804 , 0.54509807],\n         [0.8392157 , 0.63529414, 0.5137255 ],\n         [0.8039216 , 0.5803922 , 0.45490196]],\n\n        [[0.19607843, 0.13725491, 0.08627451],\n         [0.21568628, 0.1254902 , 0.08627451],\n         [0.22352941, 0.12156863, 0.08235294],\n         ...,\n         [0.8627451 , 0.6666667 , 0.5568628 ],\n         [0.84705883, 0.64705884, 0.52156866],\n         [0.83137256, 0.61960787, 0.4862745 ]]],\n\n\n       [[[0.8784314 , 0.03529412, 0.05490196],\n         [0.88235295, 0.03921569, 0.05882353],\n         [0.8784314 , 0.03921569, 0.05490196],\n         ...,\n         [0.9137255 , 0.10588235, 0.11764706],\n         [0.9372549 , 0.11764706, 0.14901961],\n         [0.9411765 , 0.1254902 , 0.16862746]],\n\n        [[0.8745098 , 0.04313726, 0.05882353],\n         [0.8666667 , 0.03921569, 0.05490196],\n         [0.8745098 , 0.03529412, 0.04313726],\n         ...,\n         [0.9137255 , 0.07843138, 0.10980392],\n         [0.94509804, 0.12156863, 0.14901961],\n         [0.9411765 , 0.1254902 , 0.16862746]],\n\n        [[0.88235295, 0.03921569, 0.05490196],\n         [0.8862745 , 0.03137255, 0.04705882],\n         [0.8784314 , 0.02352941, 0.03921569],\n         ...,\n         [0.74509805, 0.03529412, 0.0627451 ],\n         [0.8627451 , 0.07450981, 0.10588235],\n         [0.91764706, 0.1254902 , 0.14509805]],\n\n        ...,\n\n        [[0.61960787, 0.4117647 , 0.40392157],\n         [0.68235296, 0.4862745 , 0.4862745 ],\n         [0.7137255 , 0.5411765 , 0.5411765 ],\n         ...,\n         [0.6745098 , 0.00392157, 0.        ],\n         [0.7058824 , 0.00784314, 0.01568628],\n         [0.7019608 , 0.01176471, 0.01568628]],\n\n        [[0.6862745 , 0.5137255 , 0.5019608 ],\n         [0.7372549 , 0.5882353 , 0.5764706 ],\n         [0.77254903, 0.6509804 , 0.64705884],\n         ...,\n         [0.7294118 , 0.00392157, 0.        ],\n         [0.72156864, 0.01960784, 0.01176471],\n         [0.73333335, 0.01176471, 0.01176471]],\n\n        [[0.6862745 , 0.5019608 , 0.49019608],\n         [0.7529412 , 0.61960787, 0.5882353 ],\n         [0.79607844, 0.6862745 , 0.69411767],\n         ...,\n         [0.7490196 , 0.00784314, 0.00392157],\n         [0.74509805, 0.02352941, 0.01568628],\n         [0.74509805, 0.01960784, 0.01960784]]],\n\n\n       ...,\n\n\n       [[[0.48235294, 0.44313726, 0.4392157 ],\n         [0.4862745 , 0.44313726, 0.4509804 ],\n         [0.48235294, 0.4392157 , 0.41960785],\n         ...,\n         [0.5176471 , 0.5294118 , 0.31764707],\n         [0.7490196 , 0.81960785, 0.49019608],\n         [0.6627451 , 0.7490196 , 0.49411765]],\n\n        [[0.5137255 , 0.45882353, 0.4627451 ],\n         [0.45490196, 0.4       , 0.41568628],\n         [0.4627451 , 0.40784314, 0.39215687],\n         ...,\n         [0.5176471 , 0.5176471 , 0.36862746],\n         [0.6039216 , 0.67058825, 0.38039216],\n         [0.5254902 , 0.6117647 , 0.36862746]],\n\n        [[0.49803922, 0.42352942, 0.42745098],\n         [0.40392157, 0.32941177, 0.3529412 ],\n         [0.41568628, 0.3647059 , 0.3529412 ],\n         ...,\n         [0.34117648, 0.32941177, 0.23529412],\n         [0.34901962, 0.41568628, 0.15686275],\n         [0.5921569 , 0.68235296, 0.44313726]],\n\n        ...,\n\n        [[0.91764706, 0.8784314 , 0.8745098 ],\n         [0.9019608 , 0.87058824, 0.84705883],\n         [0.88235295, 0.8156863 , 0.80784315],\n         ...,\n         [0.5019608 , 0.58431375, 0.42745098],\n         [0.45490196, 0.5137255 , 0.41960785],\n         [0.72156864, 0.74509805, 0.69803923]],\n\n        [[0.9254902 , 0.8784314 , 0.8745098 ],\n         [0.9019608 , 0.87058824, 0.85882354],\n         [0.89411765, 0.8392157 , 0.827451  ],\n         ...,\n         [0.6627451 , 0.7294118 , 0.58431375],\n         [0.6431373 , 0.7019608 , 0.6039216 ],\n         [0.30980393, 0.36078432, 0.28627452]],\n\n        [[0.92941177, 0.8862745 , 0.88235295],\n         [0.8980392 , 0.8509804 , 0.8627451 ],\n         [0.8745098 , 0.827451  , 0.8156863 ],\n         ...,\n         [0.8352941 , 0.85882354, 0.7921569 ],\n         [0.90588236, 0.92941177, 0.9098039 ],\n         [0.45490196, 0.49411765, 0.45882353]]],\n\n\n       [[[0.29411766, 0.21960784, 0.13725491],\n         [0.40784314, 0.3137255 , 0.22745098],\n         [0.4117647 , 0.33333334, 0.23529412],\n         ...,\n         [0.33333334, 0.24705882, 0.14509805],\n         [0.34509805, 0.27058825, 0.19215687],\n         [0.34509805, 0.28627452, 0.21960784]],\n\n        [[0.30980393, 0.22745098, 0.13725491],\n         [0.42745098, 0.32156864, 0.22745098],\n         [0.41568628, 0.3254902 , 0.21960784],\n         ...,\n         [0.3372549 , 0.23921569, 0.12941177],\n         [0.34117648, 0.25882354, 0.17254902],\n         [0.3137255 , 0.24313726, 0.18039216]],\n\n        [[0.32941177, 0.23921569, 0.13725491],\n         [0.44705883, 0.33333334, 0.23137255],\n         [0.4117647 , 0.3019608 , 0.2       ],\n         ...,\n         [0.37254903, 0.25882354, 0.14509805],\n         [0.3529412 , 0.25490198, 0.16078432],\n         [0.30588236, 0.23137255, 0.13725491]],\n\n        ...,\n\n        [[0.23529412, 0.12156863, 0.03529412],\n         [0.24705882, 0.14509805, 0.06666667],\n         [0.21960784, 0.12941177, 0.06666667],\n         ...,\n         [0.63529414, 0.45490196, 0.2901961 ],\n         [0.6627451 , 0.4745098 , 0.3137255 ],\n         [0.6784314 , 0.49411765, 0.32941177]],\n\n        [[0.21960784, 0.11372549, 0.03137255],\n         [0.20784314, 0.11372549, 0.03921569],\n         [0.22352941, 0.14509805, 0.07843138],\n         ...,\n         [0.65882355, 0.4862745 , 0.32941177],\n         [0.6901961 , 0.50980395, 0.35686275],\n         [0.70980394, 0.5294118 , 0.3647059 ]],\n\n        [[0.1764706 , 0.08235294, 0.00784314],\n         [0.18039216, 0.09803922, 0.03529412],\n         [0.2       , 0.1254902 , 0.06666667],\n         ...,\n         [0.6745098 , 0.50980395, 0.34509805],\n         [0.7058824 , 0.5372549 , 0.37254903],\n         [0.7176471 , 0.54901963, 0.38039216]]],\n\n\n       [[[0.5254902 , 0.30588236, 0.24313726],\n         [0.6117647 , 0.3764706 , 0.29411766],\n         [0.6862745 , 0.42352942, 0.3137255 ],\n         ...,\n         [0.18039216, 0.5176471 , 0.8666667 ],\n         [0.20392157, 0.5137255 , 0.84705883],\n         [0.19215687, 0.5137255 , 0.8784314 ]],\n\n        [[0.58431375, 0.35686275, 0.28235295],\n         [0.6627451 , 0.41568628, 0.32156864],\n         [0.7137255 , 0.44313726, 0.32941177],\n         ...,\n         [0.19607843, 0.5176471 , 0.88235295],\n         [0.21176471, 0.5137255 , 0.8627451 ],\n         [0.19215687, 0.5137255 , 0.8901961 ]],\n\n        [[0.6392157 , 0.40392157, 0.31764707],\n         [0.6784314 , 0.42352942, 0.32156864],\n         [0.7176471 , 0.4509804 , 0.3372549 ],\n         ...,\n         [0.20392157, 0.5137255 , 0.8980392 ],\n         [0.21960784, 0.5058824 , 0.8784314 ],\n         [0.20392157, 0.50980395, 0.90588236]],\n\n        ...,\n\n        [[0.59607846, 0.36078432, 0.28235295],\n         [0.4392157 , 0.23137255, 0.15294118],\n         [0.28235295, 0.09803922, 0.03137255],\n         ...,\n         [0.23137255, 0.5529412 , 0.96862745],\n         [0.21960784, 0.5529412 , 0.98039216],\n         [0.21960784, 0.5529412 , 0.9843137 ]],\n\n        [[0.7254902 , 0.49019608, 0.4       ],\n         [0.6784314 , 0.4627451 , 0.3764706 ],\n         [0.5019608 , 0.3137255 , 0.23529412],\n         ...,\n         [0.23137255, 0.5568628 , 0.96862745],\n         [0.22745098, 0.5568628 , 0.9764706 ],\n         [0.23529412, 0.5529412 , 0.9764706 ]],\n\n        [[0.73333335, 0.49019608, 0.4       ],\n         [0.7647059 , 0.53333336, 0.45490196],\n         [0.69803923, 0.4862745 , 0.41960785],\n         ...,\n         [0.22745098, 0.5568628 , 0.9647059 ],\n         [0.23921569, 0.5568628 , 0.9607843 ],\n         [0.24705882, 0.5568628 , 0.972549  ]]]], dtype=float32)"
     },
     "execution_count": 147,
     "metadata": {},
     "output_type": "execute_result"
    }
   ],
   "source": [
    "# Podział danych na zbiór treningowy i testowy\n",
    "print(\"X shape:\", X.shape)\n",
    "print(\"Y shape:\", Y.shape)\n",
    "x_train, x_test, y_train, y_test = train_test_split(X, Y, test_size=0.2, random_state=42)\n",
    "x_train"
   ],
   "metadata": {
    "collapsed": false,
    "ExecuteTime": {
     "end_time": "2024-05-24T19:01:50.702216900Z",
     "start_time": "2024-05-24T19:01:50.586314Z"
    }
   },
   "id": "f9c4c3804d086ce2"
  },
  {
   "cell_type": "code",
   "execution_count": 117,
   "outputs": [
    {
     "data": {
      "text/plain": "array([0, 1, 1, ..., 0, 1, 1])"
     },
     "execution_count": 117,
     "metadata": {},
     "output_type": "execute_result"
    }
   ],
   "source": [
    "y_train"
   ],
   "metadata": {
    "collapsed": false,
    "ExecuteTime": {
     "end_time": "2024-05-24T18:38:03.110962500Z",
     "start_time": "2024-05-24T18:38:03.063416300Z"
    }
   },
   "id": "2373da7188b4d26a"
  },
  {
   "cell_type": "code",
   "execution_count": 134,
   "id": "bdef22c8c44cfa7e",
   "metadata": {
    "collapsed": false,
    "ExecuteTime": {
     "end_time": "2024-05-24T18:46:43.978283300Z",
     "start_time": "2024-05-24T18:46:43.851589700Z"
    }
   },
   "outputs": [
    {
     "data": {
      "text/plain": "<Figure size 200x200 with 1 Axes>",
      "image/png": "[encoded data removed]"
     },
     "metadata": {},
     "output_type": "display_data"
    }
   ],
   "source": [
    "# Wyświetlenie przykładowego zdjęcia\n",
    "plt.figure(figsize=(2,2))  # Ustawienie rozmiaru figury\n",
    "plt.imshow(x_train[3], cmap='BuPu')  # Wyświetlenie pierwszego zdjęcia w zbiorze treningowym\n",
    "plt.title('Label: {}'.format(y_train[3]))  # Tytuł zawierający etykietę zdjęcia\n",
    "plt.axis('off')  # Wyłączenie osi\n",
    "plt.show()"
   ]
  },
  {
   "cell_type": "code",
   "execution_count": 135,
   "outputs": [],
   "source": [
    "# Stworzenie modelu vggface\n",
    "vggface_model = VGG16(include_top=False, input_shape=(32, 32, 3))"
   ],
   "metadata": {
    "collapsed": false,
    "ExecuteTime": {
     "end_time": "2024-05-24T18:46:50.396573800Z",
     "start_time": "2024-05-24T18:46:49.576122200Z"
    }
   },
   "id": "6f259c10538e5917"
  },
  {
   "cell_type": "code",
   "execution_count": 224,
   "outputs": [],
   "source": [
    "# Zdefiniowanie modelu\n",
    "model = Sequential()\n",
    "model.add(vggface_model)\n",
    "model.add(Flatten())\n",
    "model.add(Dense(128, activation='relu'))\n",
    "model.add(Dense(64, activation='relu'))  \n",
    "model.add(Dense(32, activation='relu'))  \n",
    "model.add(Dense(1, activation='sigmoid'))  "
   ],
   "metadata": {
    "collapsed": false,
    "ExecuteTime": {
     "end_time": "2024-05-24T19:56:30.970485700Z",
     "start_time": "2024-05-24T19:56:30.429049800Z"
    }
   },
   "id": "6f42904b8fc68466"
  },
  {
   "cell_type": "code",
   "execution_count": 225,
   "outputs": [],
   "source": [
    "# Kompilowanie modelu\n",
    "model.compile(optimizer=Adam(), loss='binary_crossentropy', metrics=['accuracy'])"
   ],
   "metadata": {
    "collapsed": false,
    "ExecuteTime": {
     "end_time": "2024-05-24T19:56:31.119616800Z",
     "start_time": "2024-05-24T19:56:30.974485Z"
    }
   },
   "id": "7fb642927ed134c2"
  },
  {
   "cell_type": "code",
   "execution_count": 226,
   "outputs": [
    {
     "name": "stdout",
     "output_type": "stream",
     "text": [
      "192/192 [==============================] - 420s 2s/step - loss: 0.4650 - accuracy: 0.7698 - val_loss: 0.3785 - val_accuracy: 0.8214\n"
     ]
    }
   ],
   "source": [
    "# Trenowanie modelu mała liczba epok spowodowana słabym sprzętem\n",
    "history = model.fit(x_train, y_train, epochs=1, validation_data=(x_test, y_test))"
   ],
   "metadata": {
    "collapsed": false,
    "ExecuteTime": {
     "end_time": "2024-05-24T20:03:32.064683100Z",
     "start_time": "2024-05-24T19:56:31.423593100Z"
    }
   },
   "id": "d8792aeb63e50404"
  },
  {
   "cell_type": "code",
   "execution_count": 238,
   "outputs": [
    {
     "data": {
      "text/plain": "<Figure size 640x480 with 1 Axes>",
      "image/png": "[encoded data removed]"
     },
     "metadata": {},
     "output_type": "display_data"
    },
    {
     "data": {
      "text/plain": "<Figure size 640x480 with 1 Axes>",
      "image/png": "[encoded data removed]"
     },
     "metadata": {},
     "output_type": "display_data"
    }
   ],
   "source": [
    "# Wizualizacja krzywych uczenia\n",
    "plt.plot(history.history['loss'], label='Funkcja straty (trening)')\n",
    "plt.plot(history.history['val_loss'], label='Funkcja straty (walidacja)')\n",
    "plt.xlabel('Liczba epok')\n",
    "plt.ylabel('Wartość funkcji straty')\n",
    "plt.legend()\n",
    "plt.title('Krzywa funkcji straty')\n",
    "plt.show()\n",
    "plt.plot(history.history['accuracy'], label='Dokładność (trening)')\n",
    "plt.plot(history.history['val_accuracy'], label='Dokładność (walidacja)')\n",
    "plt.xlabel('Liczba epok')\n",
    "plt.ylabel('Dokładność')\n",
    "plt.legend()\n",
    "plt.title('Krzywa dokładności')\n",
    "plt.show()"
   ],
   "metadata": {
    "collapsed": false,
    "ExecuteTime": {
     "end_time": "2024-05-24T20:04:39.756455500Z",
     "start_time": "2024-05-24T20:04:38.966595Z"
    }
   },
   "id": "864e7d3887ef428b"
  },
  {
   "cell_type": "code",
   "execution_count": 239,
   "outputs": [
    {
     "name": "stdout",
     "output_type": "stream",
     "text": [
      "48/48 [==============================] - 11s 220ms/step - loss: 0.3785 - accuracy: 0.8214\n",
      "Dokładność klasyfikacji: 0.8213819861412048\n"
     ]
    }
   ],
   "source": [
    "# Ocena modelu\n",
    "test_loss, test_acc = model.evaluate(x_test, y_test)\n",
    "print('Dokładność klasyfikacji:', test_acc)"
   ],
   "metadata": {
    "collapsed": false,
    "ExecuteTime": {
     "end_time": "2024-05-24T20:05:03.807619Z",
     "start_time": "2024-05-24T20:04:53.150733500Z"
    }
   },
   "id": "2ce6ff5dfd2bc601"
  },
  {
   "cell_type": "code",
   "execution_count": 247,
   "outputs": [
    {
     "name": "stdout",
     "output_type": "stream",
     "text": [
      "48/48 [==============================] - 10s 200ms/step\n"
     ]
    }
   ],
   "source": [
    "# Tworzenie Predykcji\n",
    "y_pred = model.predict(x_test)"
   ],
   "metadata": {
    "collapsed": false,
    "ExecuteTime": {
     "end_time": "2024-05-24T20:06:24.554558500Z",
     "start_time": "2024-05-24T20:06:14.797672300Z"
    }
   },
   "id": "8a03875680eabf95"
  },
  {
   "cell_type": "code",
   "execution_count": 248,
   "outputs": [
    {
     "data": {
      "text/plain": "array([[0.9981916 ],\n       [0.90396416],\n       [0.5113479 ],\n       ...,\n       [0.99331987],\n       [0.7962728 ],\n       [0.8696161 ]], dtype=float32)"
     },
     "execution_count": 248,
     "metadata": {},
     "output_type": "execute_result"
    }
   ],
   "source": [
    "# Wartości predykcji przed zmianą na binarne\n",
    "y_pred"
   ],
   "metadata": {
    "collapsed": false,
    "ExecuteTime": {
     "end_time": "2024-05-24T20:06:26.270753900Z",
     "start_time": "2024-05-24T20:06:26.231244100Z"
    }
   },
   "id": "1babdf3d79a4210c"
  },
  {
   "cell_type": "code",
   "execution_count": 249,
   "outputs": [
    {
     "data": {
      "text/plain": "array([[1],\n       [1],\n       [1],\n       ...,\n       [1],\n       [1],\n       [1]])"
     },
     "execution_count": 249,
     "metadata": {},
     "output_type": "execute_result"
    }
   ],
   "source": [
    "y_pred = (y_pred > 0.5).astype(int)\n",
    "y_pred"
   ],
   "metadata": {
    "collapsed": false,
    "ExecuteTime": {
     "end_time": "2024-05-24T20:07:49.992196200Z",
     "start_time": "2024-05-24T20:07:49.368918400Z"
    }
   },
   "id": "c7e39abc976c288"
  },
  {
   "cell_type": "code",
   "execution_count": 250,
   "outputs": [
    {
     "name": "stdout",
     "output_type": "stream",
     "text": [
      "[538 722]\n"
     ]
    },
    {
     "data": {
      "text/plain": "<Figure size 1000x700 with 2 Axes>",
      "image/png": "[encoded data removed]"
     },
     "metadata": {},
     "output_type": "display_data"
    }
   ],
   "source": [
    "# Obliczenie confusion matrix\n",
    "cm = confusion_matrix(y_test, y_pred)\n",
    "\n",
    "print(cm.diagonal())\n",
    "\n",
    "# Tworzenie DataFrame z confusion matrix\n",
    "df_cm = pd.DataFrame(cm, index = [i for i in range(2)], columns = [i for i in range(2)])\n",
    "\n",
    "# Tworzenie heatmapy confusion matrix\n",
    "plt.figure(figsize = (10,7))\n",
    "sea.heatmap(df_cm, annot=True, fmt='d')\n",
    "plt.xlabel('Predicted')\n",
    "plt.ylabel('True')\n",
    "plt.show()"
   ],
   "metadata": {
    "collapsed": false,
    "ExecuteTime": {
     "end_time": "2024-05-24T20:07:53.456822500Z",
     "start_time": "2024-05-24T20:07:53.049444900Z"
    }
   },
   "id": "b5caaa60371ddbd9"
  },
  {
   "cell_type": "code",
   "execution_count": 251,
   "outputs": [
    {
     "name": "stdout",
     "output_type": "stream",
     "text": [
      "Czułość modelu: 82.14%\n",
      "Precyzja modelu: 82.14%\n",
      "Dokładność modelu: 0.8213820078226858\n"
     ]
    }
   ],
   "source": [
    "# Czułość modelu:\n",
    "recall = recall_score(y_test, y_pred, average='micro')\n",
    "print(\"Czułość modelu: {:.2f}%\".format(recall * 100))\n",
    "\n",
    "# Obliczenie precyzji\n",
    "precision = precision_score(y_test, y_pred, average='micro')\n",
    "print(\"Precyzja modelu: {:.2f}%\".format(precision * 100))\n",
    "\n",
    "# Obliczenie dokładności modelu\n",
    "accuracy = accuracy_score(y_test, y_pred)\n",
    "print(\"Dokładność modelu:\", accuracy)"
   ],
   "metadata": {
    "collapsed": false,
    "ExecuteTime": {
     "end_time": "2024-05-24T20:07:58.877614800Z",
     "start_time": "2024-05-24T20:07:58.837114600Z"
    }
   },
   "id": "9f35340c037c09de"
  },
  {
   "cell_type": "code",
   "execution_count": 252,
   "outputs": [],
   "source": [
    "# Wczytanie własnej twarzy do testu\n",
    "x_m, y_m = load_data(\"data/my_face\")"
   ],
   "metadata": {
    "collapsed": false,
    "ExecuteTime": {
     "end_time": "2024-05-24T20:08:01.405791600Z",
     "start_time": "2024-05-24T20:08:01.375445900Z"
    }
   },
   "id": "b940822cd36b4d1a"
  },
  {
   "cell_type": "code",
   "execution_count": 253,
   "outputs": [
    {
     "name": "stdout",
     "output_type": "stream",
     "text": [
      "1/1 [==============================] - 0s 126ms/step\n"
     ]
    },
    {
     "data": {
      "text/plain": "array([[0.14555143]], dtype=float32)"
     },
     "execution_count": 253,
     "metadata": {},
     "output_type": "execute_result"
    }
   ],
   "source": [
    "y_m = model.predict(x_m)\n",
    "y_m"
   ],
   "metadata": {
    "collapsed": false,
    "ExecuteTime": {
     "end_time": "2024-05-24T20:08:03.796202900Z",
     "start_time": "2024-05-24T20:08:03.595419400Z"
    }
   },
   "id": "356b51be77496eab"
  },
  {
   "cell_type": "markdown",
   "source": [
    "Możemy zauważyć że jestem bardzo męski "
   ],
   "metadata": {
    "collapsed": false
   },
   "id": "3774e06b3e350fcc"
  },
  {
   "cell_type": "code",
   "execution_count": 255,
   "outputs": [
    {
     "data": {
      "text/plain": "array([[0]])"
     },
     "execution_count": 255,
     "metadata": {},
     "output_type": "execute_result"
    }
   ],
   "source": [
    "y_m = (y_m > 0.5).astype(int)\n",
    "y_m"
   ],
   "metadata": {
    "collapsed": false,
    "ExecuteTime": {
     "end_time": "2024-05-24T20:10:02.591028900Z",
     "start_time": "2024-05-24T20:10:02.526090200Z"
    }
   },
   "id": "628ed41ac09047a"
  },
  {
   "cell_type": "code",
   "execution_count": 256,
   "outputs": [
    {
     "data": {
      "text/plain": "<Figure size 200x200 with 1 Axes>",
      "image/png": "[encoded data removed]"
     },
     "metadata": {},
     "output_type": "display_data"
    }
   ],
   "source": [
    "# Wyświetlenie przykładowego zdjęcia\n",
    "plt.figure(figsize=(2,2))  # Ustawienie rozmiaru figury\n",
    "plt.imshow(x_m[0], cmap='BuPu')  # Wyświetlenie pierwszego zdjęcia w zbiorze treningowym\n",
    "plt.title('Label: {}'.format(y_m[0]))  # Tytuł zawierający etykietę zdjęcia\n",
    "plt.axis('off')  # Wyłączenie osi\n",
    "plt.show()"
   ],
   "metadata": {
    "collapsed": false,
    "ExecuteTime": {
     "end_time": "2024-05-24T20:10:04.842410700Z",
     "start_time": "2024-05-24T20:10:04.638168600Z"
    }
   },
   "id": "68b7f1235ddea776"
  },
  {
   "cell_type": "markdown",
   "source": [
    "# Wnioski\n",
    "Model w formie prymitywnej względem początkowych zamiarów ( na starcie miałem przewidywać wiek,płeć, oraz rasę) poprawnie wykrył moją płeć co można uznać za minimalny sukces."
   ],
   "metadata": {
    "collapsed": false
   },
   "id": "b81733a044192d39"
  },
  {
   "cell_type": "code",
   "execution_count": null,
   "outputs": [],
   "source": [],
   "metadata": {
    "collapsed": false
   },
   "id": "531f711b4a15bb72"
  }
 ],
 "metadata": {
  "kernelspec": {
   "display_name": "Python 3 (ipykernel)",
   "language": "python",
   "name": "python3"
  },
  "language_info": {
   "codemirror_mode": {
    "name": "ipython",
    "version": 3
   },
   "file_extension": ".py",
   "mimetype": "text/x-python",
   "name": "python",
   "nbconvert_exporter": "python",
   "pygments_lexer": "ipython3",
   "version": "3.9.0"
  }
 },
 "nbformat": 4,
 "nbformat_minor": 5
}
