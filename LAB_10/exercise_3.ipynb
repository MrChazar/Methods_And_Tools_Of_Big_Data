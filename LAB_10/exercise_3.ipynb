{
 "cells": [
  {
   "cell_type": "markdown",
   "source": [
    "# Zadanie 4\n",
    "Wykorzystanie techniki transferu w uczeniu z nadzorem na bazie danych VGGFace:\n",
    "• Zadanie polega na wykorzystaniu istniejącego modelu głębokiej sieci neuronowej, np.\n",
    "VGG16, w celu klasyfikacji twarzy na podstawie danych z bazy danych VGGFace.\n",
    "• Użyj bazy danych VGGFace, która zawiera miliony zdjęć twarzy różnych osób.\n",
    "• Wczytaj pre-trenowany model z Keras, a następnie dostosuj go do nowego zadania klasyfikacji za pomocą techniki transferu w uczeniu z nadzorem.\n",
    "Ocenić wydajność modelu na zbiorze testowym oraz zwizualizuj wyniki za pomocą macierzy pomyłek."
   ],
   "metadata": {
    "collapsed": false
   },
   "id": "a641fb6f1318d53"
  },
  {
   "cell_type": "code",
   "execution_count": null,
   "outputs": [],
   "source": [],
   "metadata": {
    "collapsed": false
   },
   "id": "f3d9305c96f7c1ec"
  }
 ],
 "metadata": {
  "kernelspec": {
   "display_name": "Python 3",
   "language": "python",
   "name": "python3"
  },
  "language_info": {
   "codemirror_mode": {
    "name": "ipython",
    "version": 2
   },
   "file_extension": ".py",
   "mimetype": "text/x-python",
   "name": "python",
   "nbconvert_exporter": "python",
   "pygments_lexer": "ipython2",
   "version": "2.7.6"
  }
 },
 "nbformat": 4,
 "nbformat_minor": 5
}
