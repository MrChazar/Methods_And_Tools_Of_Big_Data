{
 "cells": [
  {
   "cell_type": "markdown",
   "source": [
    "# Zadanie 1\n",
    "Redukcja wymiarowości na zbiorze Diabetes za pomocą LDA\n",
    "Wykorzystując zbiór danych Diabetes, wykonaj redukcję wymiarowości za pomocą analizy\n",
    "dyskryminacyjnej (LDA). Kroki:\n",
    "• Wczytanie danych:\n",
    "o Załaduj zbiór danych Diabetes.\n",
    "• Przygotowanie danych:\n",
    "o Przeprowadź standaryzację cech.\n",
    "• Redukcja wymiarowości:\n",
    "o Użyj LDA, aby przekształcić dane do przestrzeni o jednym wymiarze.\n",
    "• Wizualizacja:\n",
    "o Przedstaw wyniki na wykresie, pokazując rozkład danych dla dwóch klas"
   ],
   "metadata": {
    "collapsed": false
   },
   "id": "378d94c52c8e9fec"
  },
  {
   "cell_type": "code",
   "execution_count": 14,
   "outputs": [],
   "source": [
    "# Biblioteki z których skorzystamy\n",
    "import matplotlib.pyplot as plt\n",
    "import pandas as pd\n",
    "import numpy as np\n",
    "from scipy.cluster.hierarchy import dendrogram, linkage\n",
    "from sklearn.datasets import load_diabetes\n",
    "from sklearn.mixture import GaussianMixture\n",
    "from sklearn.preprocessing import StandardScaler\n",
    "from sklearn.discriminant_analysis import LinearDiscriminantAnalysis"
   ],
   "metadata": {
    "collapsed": false,
    "ExecuteTime": {
     "end_time": "2024-06-10T20:46:46.896803Z",
     "start_time": "2024-06-10T20:46:46.818235200Z"
    }
   },
   "id": "985a002372e49c16"
  },
  {
   "cell_type": "code",
   "execution_count": 12,
   "outputs": [
    {
     "data": {
      "text/plain": "array([[ 0.03807591,  0.05068012,  0.06169621, ..., -0.00259226,\n         0.01990749, -0.01764613],\n       [-0.00188202, -0.04464164, -0.05147406, ..., -0.03949338,\n        -0.06833155, -0.09220405],\n       [ 0.08529891,  0.05068012,  0.04445121, ..., -0.00259226,\n         0.00286131, -0.02593034],\n       ...,\n       [ 0.04170844,  0.05068012, -0.01590626, ..., -0.01107952,\n        -0.04688253,  0.01549073],\n       [-0.04547248, -0.04464164,  0.03906215, ...,  0.02655962,\n         0.04452873, -0.02593034],\n       [-0.04547248, -0.04464164, -0.0730303 , ..., -0.03949338,\n        -0.00422151,  0.00306441]])"
     },
     "execution_count": 12,
     "metadata": {},
     "output_type": "execute_result"
    }
   ],
   "source": [
    "# Wczytanie danych diabetes\n",
    "data = load_diabetes()\n",
    "X = data.data\n",
    "y = data.target\n",
    "y = (y > np.median(y)).astype(int)\n",
    "X"
   ],
   "metadata": {
    "collapsed": false,
    "ExecuteTime": {
     "end_time": "2024-06-10T20:46:03.427929800Z",
     "start_time": "2024-06-10T20:46:03.365032900Z"
    }
   },
   "id": "2c1662842abe2f4d"
  },
  {
   "cell_type": "code",
   "execution_count": 15,
   "outputs": [
    {
     "data": {
      "text/plain": "array([[ 0.80050009,  1.06548848,  1.29708846, ..., -0.05449919,\n         0.41853093, -0.37098854],\n       [-0.03956713, -0.93853666, -1.08218016, ..., -0.83030083,\n        -1.43658851, -1.93847913],\n       [ 1.79330681,  1.06548848,  0.93453324, ..., -0.05449919,\n         0.06015558, -0.54515416],\n       ...,\n       [ 0.87686984,  1.06548848, -0.33441002, ..., -0.23293356,\n        -0.98564884,  0.32567395],\n       [-0.9560041 , -0.93853666,  0.82123474, ...,  0.55838411,\n         0.93616291, -0.54515416],\n       [-0.9560041 , -0.93853666, -1.53537419, ..., -0.83030083,\n        -0.08875225,  0.06442552]])"
     },
     "execution_count": 15,
     "metadata": {},
     "output_type": "execute_result"
    }
   ],
   "source": [
    "# Standaryzacja cech\n",
    "scaler = StandardScaler()\n",
    "X = scaler.fit_transform(X)\n",
    "X"
   ],
   "metadata": {
    "collapsed": false,
    "ExecuteTime": {
     "end_time": "2024-06-10T20:47:06.210139Z",
     "start_time": "2024-06-10T20:47:06.131985400Z"
    }
   },
   "id": "707413ae61e33daa"
  },
  {
   "cell_type": "code",
   "execution_count": 17,
   "outputs": [],
   "source": [
    "# Redukcja wymiarów za pomocą LDA\n",
    "lda = LinearDiscriminantAnalysis(n_components=1)  \n",
    "X_lda = lda.fit_transform(X,y)"
   ],
   "metadata": {
    "collapsed": false,
    "ExecuteTime": {
     "end_time": "2024-06-10T20:47:34.949805800Z",
     "start_time": "2024-06-10T20:47:34.873774100Z"
    }
   },
   "id": "59633c33229563a5"
  },
  {
   "cell_type": "code",
   "execution_count": 18,
   "outputs": [
    {
     "data": {
      "text/plain": "(array([ 2.,  1.,  2.,  2.,  0.,  3.,  6., 10.,  7.,  5., 12., 16., 11.,\n        11., 19., 11., 16.,  5., 16., 15.,  8., 11.,  8., 10.,  3.,  6.,\n         1.,  0.,  2.,  2.]),\n array([-1.86839806e+00, -1.69876774e+00, -1.52913742e+00, -1.35950710e+00,\n        -1.18987678e+00, -1.02024645e+00, -8.50616134e-01, -6.80985814e-01,\n        -5.11355493e-01, -3.41725173e-01, -1.72094852e-01, -2.46453154e-03,\n         1.67165789e-01,  3.36796109e-01,  5.06426430e-01,  6.76056751e-01,\n         8.45687071e-01,  1.01531739e+00,  1.18494771e+00,  1.35457803e+00,\n         1.52420835e+00,  1.69383867e+00,  1.86346899e+00,  2.03309931e+00,\n         2.20272964e+00,  2.37235996e+00,  2.54199028e+00,  2.71162060e+00,\n         2.88125092e+00,  3.05088124e+00,  3.22051156e+00]),\n <BarContainer object of 30 artists>)"
     },
     "execution_count": 18,
     "metadata": {},
     "output_type": "execute_result"
    },
    {
     "data": {
      "text/plain": "<Figure size 640x480 with 1 Axes>",
      "image/png": "[encoded data removed]"
     },
     "metadata": {},
     "output_type": "display_data"
    }
   ],
   "source": [
    "plt.hist(X_lda[y == 0], alpha=0.5, label='Klasa 0', bins=30)\n",
    "plt.hist(X_lda[y == 1], alpha=0.5, label='Klasa 1', bins=30)"
   ],
   "metadata": {
    "collapsed": false,
    "ExecuteTime": {
     "end_time": "2024-06-10T20:47:45.740545200Z",
     "start_time": "2024-06-10T20:47:45.401347100Z"
    }
   },
   "id": "7a9e6c7bf073596a"
  },
  {
   "cell_type": "code",
   "execution_count": null,
   "outputs": [],
   "source": [],
   "metadata": {
    "collapsed": false
   },
   "id": "b4b849180f1ed9db"
  }
 ],
 "metadata": {
  "kernelspec": {
   "display_name": "Python 3",
   "language": "python",
   "name": "python3"
  },
  "language_info": {
   "codemirror_mode": {
    "name": "ipython",
    "version": 2
   },
   "file_extension": ".py",
   "mimetype": "text/x-python",
   "name": "python",
   "nbconvert_exporter": "python",
   "pygments_lexer": "ipython2",
   "version": "2.7.6"
  }
 },
 "nbformat": 4,
 "nbformat_minor": 5
}
