{
 "cells": [
  {
   "cell_type": "markdown",
   "source": [
    "# Zadanie 5\n",
    "Analiza zbioru danych Titanic:\n",
    "o Wczytaj zbiór danych Titanic zawierający informacje o pasażerach statku.\n",
    "o Przeprowadź analizę eksploracyjną danych, identyfikując istotne cechy dla przewidywania przeżycia.\n",
    "o Przygotuj dane do budowy modeli klasyfikacji, usuwając brakujące wartości i kodując zmienne kategoryczne.\n",
    "o Zbuduj modele klasyfikacji, takie jak regresja logistyczna lub drzewo decyzyjne, do\n",
    "przewidywania przeżycia pasażerów.\n",
    "o Oceń jakość klasyfikatorów za pomocą metryk oceny, takich jak dokładność i\n",
    "krzywa ROC-AUC.\n",
    "o Zinterpretuj wyniki i zidentyfikuj czynniki mające największy wpływ na przeżycie."
   ],
   "metadata": {
    "collapsed": false
   },
   "id": "4b319580137529e8"
  },
  {
   "cell_type": "code",
   "execution_count": 27,
   "outputs": [],
   "source": [
    "from sklearn.datasets import load_digits\n",
    "import matplotlib.pyplot as plt\n",
    "import matplotlib.pyplot as plt\n",
    "from sklearn.datasets import load_iris\n",
    "from sklearn.model_selection import train_test_split\n",
    "from sklearn.metrics import accuracy_score\n",
    "from sklearn.neighbors import KNeighborsClassifier\n",
    "from sklearn.metrics import precision_score\n",
    "from sklearn.metrics import recall_score\n",
    "from sklearn.metrics import confusion_matrix, ConfusionMatrixDisplay\n",
    "from sklearn.datasets import load_breast_cancer\n",
    "from sklearn.linear_model import LogisticRegression\n",
    "import numpy as np \n",
    "from sklearn.svm import SVC\n",
    "from sklearn.datasets import fetch_openml\n",
    "import pandas as pd\n",
    "import seaborn as sns\n",
    "from sklearn.tree import DecisionTreeClassifier\n",
    "from sklearn.preprocessing import LabelEncoder, StandardScaler"
   ],
   "metadata": {
    "collapsed": false,
    "ExecuteTime": {
     "end_time": "2024-04-19T17:39:22.389575Z",
     "start_time": "2024-04-19T17:39:22.334216500Z"
    }
   },
   "id": "bd3cde59d95b011b"
  },
  {
   "cell_type": "code",
   "execution_count": 28,
   "outputs": [
    {
     "name": "stderr",
     "output_type": "stream",
     "text": [
      "C:\\Users\\jakub\\AppData\\Local\\Programs\\Python\\Python39\\lib\\site-packages\\sklearn\\datasets\\_openml.py:1022: FutureWarning: The default value of `parser` will change from `'liac-arff'` to `'auto'` in 1.4. You can set `parser='auto'` to silence this warning. Therefore, an `ImportError` will be raised from 1.4 if the dataset is dense and pandas is not installed. Note that the pandas parser may return different data types. See the Notes Section in fetch_openml's API doc for details.\n",
      "  warn(\n"
     ]
    },
    {
     "data": {
      "text/plain": "      pclass                                             name     sex  \\\n0        1.0                    Allen, Miss. Elisabeth Walton  female   \n1        1.0                   Allison, Master. Hudson Trevor    male   \n2        1.0                     Allison, Miss. Helen Loraine  female   \n3        1.0             Allison, Mr. Hudson Joshua Creighton    male   \n4        1.0  Allison, Mrs. Hudson J C (Bessie Waldo Daniels)  female   \n...      ...                                              ...     ...   \n1304     3.0                             Zabour, Miss. Hileni  female   \n1305     3.0                            Zabour, Miss. Thamine  female   \n1306     3.0                        Zakarian, Mr. Mapriededer    male   \n1307     3.0                              Zakarian, Mr. Ortin    male   \n1308     3.0                               Zimmerman, Mr. Leo    male   \n\n          age  sibsp  parch  ticket      fare    cabin embarked boat   body  \\\n0     29.0000    0.0    0.0   24160  211.3375       B5        S    2    NaN   \n1      0.9167    1.0    2.0  113781  151.5500  C22 C26        S   11    NaN   \n2      2.0000    1.0    2.0  113781  151.5500  C22 C26        S  NaN    NaN   \n3     30.0000    1.0    2.0  113781  151.5500  C22 C26        S  NaN  135.0   \n4     25.0000    1.0    2.0  113781  151.5500  C22 C26        S  NaN    NaN   \n...       ...    ...    ...     ...       ...      ...      ...  ...    ...   \n1304  14.5000    1.0    0.0    2665   14.4542      NaN        C  NaN  328.0   \n1305      NaN    1.0    0.0    2665   14.4542      NaN        C  NaN    NaN   \n1306  26.5000    0.0    0.0    2656    7.2250      NaN        C  NaN  304.0   \n1307  27.0000    0.0    0.0    2670    7.2250      NaN        C  NaN    NaN   \n1308  29.0000    0.0    0.0  315082    7.8750      NaN        S  NaN    NaN   \n\n                            home.dest  \n0                        St Louis, MO  \n1     Montreal, PQ / Chesterville, ON  \n2     Montreal, PQ / Chesterville, ON  \n3     Montreal, PQ / Chesterville, ON  \n4     Montreal, PQ / Chesterville, ON  \n...                               ...  \n1304                              NaN  \n1305                              NaN  \n1306                              NaN  \n1307                              NaN  \n1308                              NaN  \n\n[1309 rows x 13 columns]",
      "text/html": "<div>\n<style scoped>\n    .dataframe tbody tr th:only-of-type {\n        vertical-align: middle;\n    }\n\n    .dataframe tbody tr th {\n        vertical-align: top;\n    }\n\n    .dataframe thead th {\n        text-align: right;\n    }\n</style>\n<table border=\"1\" class=\"dataframe\">\n  <thead>\n    <tr style=\"text-align: right;\">\n      <th></th>\n      <th>pclass</th>\n      <th>name</th>\n      <th>sex</th>\n      <th>age</th>\n      <th>sibsp</th>\n      <th>parch</th>\n      <th>ticket</th>\n      <th>fare</th>\n      <th>cabin</th>\n      <th>embarked</th>\n      <th>boat</th>\n      <th>body</th>\n      <th>home.dest</th>\n    </tr>\n  </thead>\n  <tbody>\n    <tr>\n      <th>0</th>\n      <td>1.0</td>\n      <td>Allen, Miss. Elisabeth Walton</td>\n      <td>female</td>\n      <td>29.0000</td>\n      <td>0.0</td>\n      <td>0.0</td>\n      <td>24160</td>\n      <td>211.3375</td>\n      <td>B5</td>\n      <td>S</td>\n      <td>2</td>\n      <td>NaN</td>\n      <td>St Louis, MO</td>\n    </tr>\n    <tr>\n      <th>1</th>\n      <td>1.0</td>\n      <td>Allison, Master. Hudson Trevor</td>\n      <td>male</td>\n      <td>0.9167</td>\n      <td>1.0</td>\n      <td>2.0</td>\n      <td>113781</td>\n      <td>151.5500</td>\n      <td>C22 C26</td>\n      <td>S</td>\n      <td>11</td>\n      <td>NaN</td>\n      <td>Montreal, PQ / Chesterville, ON</td>\n    </tr>\n    <tr>\n      <th>2</th>\n      <td>1.0</td>\n      <td>Allison, Miss. Helen Loraine</td>\n      <td>female</td>\n      <td>2.0000</td>\n      <td>1.0</td>\n      <td>2.0</td>\n      <td>113781</td>\n      <td>151.5500</td>\n      <td>C22 C26</td>\n      <td>S</td>\n      <td>NaN</td>\n      <td>NaN</td>\n      <td>Montreal, PQ / Chesterville, ON</td>\n    </tr>\n    <tr>\n      <th>3</th>\n      <td>1.0</td>\n      <td>Allison, Mr. Hudson Joshua Creighton</td>\n      <td>male</td>\n      <td>30.0000</td>\n      <td>1.0</td>\n      <td>2.0</td>\n      <td>113781</td>\n      <td>151.5500</td>\n      <td>C22 C26</td>\n      <td>S</td>\n      <td>NaN</td>\n      <td>135.0</td>\n      <td>Montreal, PQ / Chesterville, ON</td>\n    </tr>\n    <tr>\n      <th>4</th>\n      <td>1.0</td>\n      <td>Allison, Mrs. Hudson J C (Bessie Waldo Daniels)</td>\n      <td>female</td>\n      <td>25.0000</td>\n      <td>1.0</td>\n      <td>2.0</td>\n      <td>113781</td>\n      <td>151.5500</td>\n      <td>C22 C26</td>\n      <td>S</td>\n      <td>NaN</td>\n      <td>NaN</td>\n      <td>Montreal, PQ / Chesterville, ON</td>\n    </tr>\n    <tr>\n      <th>...</th>\n      <td>...</td>\n      <td>...</td>\n      <td>...</td>\n      <td>...</td>\n      <td>...</td>\n      <td>...</td>\n      <td>...</td>\n      <td>...</td>\n      <td>...</td>\n      <td>...</td>\n      <td>...</td>\n      <td>...</td>\n      <td>...</td>\n    </tr>\n    <tr>\n      <th>1304</th>\n      <td>3.0</td>\n      <td>Zabour, Miss. Hileni</td>\n      <td>female</td>\n      <td>14.5000</td>\n      <td>1.0</td>\n      <td>0.0</td>\n      <td>2665</td>\n      <td>14.4542</td>\n      <td>NaN</td>\n      <td>C</td>\n      <td>NaN</td>\n      <td>328.0</td>\n      <td>NaN</td>\n    </tr>\n    <tr>\n      <th>1305</th>\n      <td>3.0</td>\n      <td>Zabour, Miss. Thamine</td>\n      <td>female</td>\n      <td>NaN</td>\n      <td>1.0</td>\n      <td>0.0</td>\n      <td>2665</td>\n      <td>14.4542</td>\n      <td>NaN</td>\n      <td>C</td>\n      <td>NaN</td>\n      <td>NaN</td>\n      <td>NaN</td>\n    </tr>\n    <tr>\n      <th>1306</th>\n      <td>3.0</td>\n      <td>Zakarian, Mr. Mapriededer</td>\n      <td>male</td>\n      <td>26.5000</td>\n      <td>0.0</td>\n      <td>0.0</td>\n      <td>2656</td>\n      <td>7.2250</td>\n      <td>NaN</td>\n      <td>C</td>\n      <td>NaN</td>\n      <td>304.0</td>\n      <td>NaN</td>\n    </tr>\n    <tr>\n      <th>1307</th>\n      <td>3.0</td>\n      <td>Zakarian, Mr. Ortin</td>\n      <td>male</td>\n      <td>27.0000</td>\n      <td>0.0</td>\n      <td>0.0</td>\n      <td>2670</td>\n      <td>7.2250</td>\n      <td>NaN</td>\n      <td>C</td>\n      <td>NaN</td>\n      <td>NaN</td>\n      <td>NaN</td>\n    </tr>\n    <tr>\n      <th>1308</th>\n      <td>3.0</td>\n      <td>Zimmerman, Mr. Leo</td>\n      <td>male</td>\n      <td>29.0000</td>\n      <td>0.0</td>\n      <td>0.0</td>\n      <td>315082</td>\n      <td>7.8750</td>\n      <td>NaN</td>\n      <td>S</td>\n      <td>NaN</td>\n      <td>NaN</td>\n      <td>NaN</td>\n    </tr>\n  </tbody>\n</table>\n<p>1309 rows × 13 columns</p>\n</div>"
     },
     "execution_count": 28,
     "metadata": {},
     "output_type": "execute_result"
    }
   ],
   "source": [
    "X, y = fetch_openml(\"titanic\", version=1, as_frame=True, return_X_y=True)\n",
    "X"
   ],
   "metadata": {
    "collapsed": false,
    "ExecuteTime": {
     "end_time": "2024-04-19T17:39:22.672840300Z",
     "start_time": "2024-04-19T17:39:22.515168600Z"
    }
   },
   "id": "2d2081297f249ab5"
  },
  {
   "cell_type": "code",
   "execution_count": 29,
   "outputs": [
    {
     "name": "stdout",
     "output_type": "stream",
     "text": [
      "<class 'pandas.core.frame.DataFrame'>\n",
      "RangeIndex: 1309 entries, 0 to 1308\n",
      "Data columns (total 13 columns):\n",
      " #   Column     Non-Null Count  Dtype   \n",
      "---  ------     --------------  -----   \n",
      " 0   pclass     1309 non-null   float64 \n",
      " 1   name       1309 non-null   object  \n",
      " 2   sex        1309 non-null   category\n",
      " 3   age        1046 non-null   float64 \n",
      " 4   sibsp      1309 non-null   float64 \n",
      " 5   parch      1309 non-null   float64 \n",
      " 6   ticket     1309 non-null   object  \n",
      " 7   fare       1308 non-null   float64 \n",
      " 8   cabin      295 non-null    object  \n",
      " 9   embarked   1307 non-null   category\n",
      " 10  boat       486 non-null    object  \n",
      " 11  body       121 non-null    float64 \n",
      " 12  home.dest  745 non-null    object  \n",
      "dtypes: category(2), float64(6), object(5)\n",
      "memory usage: 115.4+ KB\n"
     ]
    }
   ],
   "source": [
    "X.info()"
   ],
   "metadata": {
    "collapsed": false,
    "ExecuteTime": {
     "end_time": "2024-04-19T17:39:22.832563600Z",
     "start_time": "2024-04-19T17:39:22.779890Z"
    }
   },
   "id": "cd44ff468761a3e4"
  },
  {
   "cell_type": "code",
   "execution_count": 30,
   "outputs": [
    {
     "data": {
      "text/plain": "      pclass                                             name  sex      age  \\\n0        1.0                    Allen, Miss. Elisabeth Walton    0  29.0000   \n1        1.0                   Allison, Master. Hudson Trevor    1   0.9167   \n2        1.0                     Allison, Miss. Helen Loraine    0   2.0000   \n3        1.0             Allison, Mr. Hudson Joshua Creighton    1  30.0000   \n4        1.0  Allison, Mrs. Hudson J C (Bessie Waldo Daniels)    0  25.0000   \n...      ...                                              ...  ...      ...   \n1304     3.0                             Zabour, Miss. Hileni    0  14.5000   \n1305     3.0                            Zabour, Miss. Thamine    0      NaN   \n1306     3.0                        Zakarian, Mr. Mapriededer    1  26.5000   \n1307     3.0                              Zakarian, Mr. Ortin    1  27.0000   \n1308     3.0                               Zimmerman, Mr. Leo    1  29.0000   \n\n      sibsp  parch  ticket      fare    cabin embarked boat   body  \\\n0       0.0    0.0   24160  211.3375       B5        S    2    NaN   \n1       1.0    2.0  113781  151.5500  C22 C26        S   11    NaN   \n2       1.0    2.0  113781  151.5500  C22 C26        S  NaN    NaN   \n3       1.0    2.0  113781  151.5500  C22 C26        S  NaN  135.0   \n4       1.0    2.0  113781  151.5500  C22 C26        S  NaN    NaN   \n...     ...    ...     ...       ...      ...      ...  ...    ...   \n1304    1.0    0.0    2665   14.4542      NaN        C  NaN  328.0   \n1305    1.0    0.0    2665   14.4542      NaN        C  NaN    NaN   \n1306    0.0    0.0    2656    7.2250      NaN        C  NaN  304.0   \n1307    0.0    0.0    2670    7.2250      NaN        C  NaN    NaN   \n1308    0.0    0.0  315082    7.8750      NaN        S  NaN    NaN   \n\n                            home.dest  \n0                        St Louis, MO  \n1     Montreal, PQ / Chesterville, ON  \n2     Montreal, PQ / Chesterville, ON  \n3     Montreal, PQ / Chesterville, ON  \n4     Montreal, PQ / Chesterville, ON  \n...                               ...  \n1304                              NaN  \n1305                              NaN  \n1306                              NaN  \n1307                              NaN  \n1308                              NaN  \n\n[1309 rows x 13 columns]",
      "text/html": "<div>\n<style scoped>\n    .dataframe tbody tr th:only-of-type {\n        vertical-align: middle;\n    }\n\n    .dataframe tbody tr th {\n        vertical-align: top;\n    }\n\n    .dataframe thead th {\n        text-align: right;\n    }\n</style>\n<table border=\"1\" class=\"dataframe\">\n  <thead>\n    <tr style=\"text-align: right;\">\n      <th></th>\n      <th>pclass</th>\n      <th>name</th>\n      <th>sex</th>\n      <th>age</th>\n      <th>sibsp</th>\n      <th>parch</th>\n      <th>ticket</th>\n      <th>fare</th>\n      <th>cabin</th>\n      <th>embarked</th>\n      <th>boat</th>\n      <th>body</th>\n      <th>home.dest</th>\n    </tr>\n  </thead>\n  <tbody>\n    <tr>\n      <th>0</th>\n      <td>1.0</td>\n      <td>Allen, Miss. Elisabeth Walton</td>\n      <td>0</td>\n      <td>29.0000</td>\n      <td>0.0</td>\n      <td>0.0</td>\n      <td>24160</td>\n      <td>211.3375</td>\n      <td>B5</td>\n      <td>S</td>\n      <td>2</td>\n      <td>NaN</td>\n      <td>St Louis, MO</td>\n    </tr>\n    <tr>\n      <th>1</th>\n      <td>1.0</td>\n      <td>Allison, Master. Hudson Trevor</td>\n      <td>1</td>\n      <td>0.9167</td>\n      <td>1.0</td>\n      <td>2.0</td>\n      <td>113781</td>\n      <td>151.5500</td>\n      <td>C22 C26</td>\n      <td>S</td>\n      <td>11</td>\n      <td>NaN</td>\n      <td>Montreal, PQ / Chesterville, ON</td>\n    </tr>\n    <tr>\n      <th>2</th>\n      <td>1.0</td>\n      <td>Allison, Miss. Helen Loraine</td>\n      <td>0</td>\n      <td>2.0000</td>\n      <td>1.0</td>\n      <td>2.0</td>\n      <td>113781</td>\n      <td>151.5500</td>\n      <td>C22 C26</td>\n      <td>S</td>\n      <td>NaN</td>\n      <td>NaN</td>\n      <td>Montreal, PQ / Chesterville, ON</td>\n    </tr>\n    <tr>\n      <th>3</th>\n      <td>1.0</td>\n      <td>Allison, Mr. Hudson Joshua Creighton</td>\n      <td>1</td>\n      <td>30.0000</td>\n      <td>1.0</td>\n      <td>2.0</td>\n      <td>113781</td>\n      <td>151.5500</td>\n      <td>C22 C26</td>\n      <td>S</td>\n      <td>NaN</td>\n      <td>135.0</td>\n      <td>Montreal, PQ / Chesterville, ON</td>\n    </tr>\n    <tr>\n      <th>4</th>\n      <td>1.0</td>\n      <td>Allison, Mrs. Hudson J C (Bessie Waldo Daniels)</td>\n      <td>0</td>\n      <td>25.0000</td>\n      <td>1.0</td>\n      <td>2.0</td>\n      <td>113781</td>\n      <td>151.5500</td>\n      <td>C22 C26</td>\n      <td>S</td>\n      <td>NaN</td>\n      <td>NaN</td>\n      <td>Montreal, PQ / Chesterville, ON</td>\n    </tr>\n    <tr>\n      <th>...</th>\n      <td>...</td>\n      <td>...</td>\n      <td>...</td>\n      <td>...</td>\n      <td>...</td>\n      <td>...</td>\n      <td>...</td>\n      <td>...</td>\n      <td>...</td>\n      <td>...</td>\n      <td>...</td>\n      <td>...</td>\n      <td>...</td>\n    </tr>\n    <tr>\n      <th>1304</th>\n      <td>3.0</td>\n      <td>Zabour, Miss. Hileni</td>\n      <td>0</td>\n      <td>14.5000</td>\n      <td>1.0</td>\n      <td>0.0</td>\n      <td>2665</td>\n      <td>14.4542</td>\n      <td>NaN</td>\n      <td>C</td>\n      <td>NaN</td>\n      <td>328.0</td>\n      <td>NaN</td>\n    </tr>\n    <tr>\n      <th>1305</th>\n      <td>3.0</td>\n      <td>Zabour, Miss. Thamine</td>\n      <td>0</td>\n      <td>NaN</td>\n      <td>1.0</td>\n      <td>0.0</td>\n      <td>2665</td>\n      <td>14.4542</td>\n      <td>NaN</td>\n      <td>C</td>\n      <td>NaN</td>\n      <td>NaN</td>\n      <td>NaN</td>\n    </tr>\n    <tr>\n      <th>1306</th>\n      <td>3.0</td>\n      <td>Zakarian, Mr. Mapriededer</td>\n      <td>1</td>\n      <td>26.5000</td>\n      <td>0.0</td>\n      <td>0.0</td>\n      <td>2656</td>\n      <td>7.2250</td>\n      <td>NaN</td>\n      <td>C</td>\n      <td>NaN</td>\n      <td>304.0</td>\n      <td>NaN</td>\n    </tr>\n    <tr>\n      <th>1307</th>\n      <td>3.0</td>\n      <td>Zakarian, Mr. Ortin</td>\n      <td>1</td>\n      <td>27.0000</td>\n      <td>0.0</td>\n      <td>0.0</td>\n      <td>2670</td>\n      <td>7.2250</td>\n      <td>NaN</td>\n      <td>C</td>\n      <td>NaN</td>\n      <td>NaN</td>\n      <td>NaN</td>\n    </tr>\n    <tr>\n      <th>1308</th>\n      <td>3.0</td>\n      <td>Zimmerman, Mr. Leo</td>\n      <td>1</td>\n      <td>29.0000</td>\n      <td>0.0</td>\n      <td>0.0</td>\n      <td>315082</td>\n      <td>7.8750</td>\n      <td>NaN</td>\n      <td>S</td>\n      <td>NaN</td>\n      <td>NaN</td>\n      <td>NaN</td>\n    </tr>\n  </tbody>\n</table>\n<p>1309 rows × 13 columns</p>\n</div>"
     },
     "execution_count": 30,
     "metadata": {},
     "output_type": "execute_result"
    }
   ],
   "source": [
    "# Zamiany cechy płci z tekstowej female, male na binarną 1 - male 0 - female\n",
    "label_encoder = LabelEncoder()\n",
    "X['sex'] = label_encoder.fit_transform(X['sex'])\n",
    "X"
   ],
   "metadata": {
    "collapsed": false,
    "ExecuteTime": {
     "end_time": "2024-04-19T17:39:23.095538400Z",
     "start_time": "2024-04-19T17:39:22.909974700Z"
    }
   },
   "id": "4f48d22090036ccc"
  },
  {
   "cell_type": "code",
   "execution_count": 31,
   "outputs": [],
   "source": [
    "# Usuwamy kolumny które moim zdaniem nie zawierają informacji a będą one trudne do uzupełnienia ponieważ zawierają wiele nieprawidłowości\n",
    "X.drop(['boat', 'body', 'cabin', 'name', 'embarked', 'ticket', 'home.dest', 'pclass', 'name', ], axis=1, inplace=True)"
   ],
   "metadata": {
    "collapsed": false,
    "ExecuteTime": {
     "end_time": "2024-04-19T17:39:23.227912Z",
     "start_time": "2024-04-19T17:39:23.099615100Z"
    }
   },
   "id": "d681c5f4d2686eb3"
  },
  {
   "cell_type": "code",
   "execution_count": 32,
   "outputs": [
    {
     "name": "stdout",
     "output_type": "stream",
     "text": [
      "Macierz Korelacji:\n",
      "            age     sibsp     parch      fare       sex\n",
      "age    1.000000 -0.243699 -0.150917  0.178739  0.063646\n",
      "sibsp -0.243699  1.000000  0.373587  0.160238 -0.109609\n",
      "parch -0.150917  0.373587  1.000000  0.221539 -0.213125\n",
      "fare   0.178739  0.160238  0.221539  1.000000 -0.185523\n",
      "sex    0.063646 -0.109609 -0.213125 -0.185523  1.000000\n"
     ]
    }
   ],
   "source": [
    "# Wybieramy cechy by sprawdzić korelację\n",
    "matrix = X[['age', 'sibsp', 'parch', 'fare', 'sex']].corr()\n",
    "print(\"Macierz Korelacji:\")\n",
    "print(matrix)"
   ],
   "metadata": {
    "collapsed": false,
    "ExecuteTime": {
     "end_time": "2024-04-19T17:39:23.458456300Z",
     "start_time": "2024-04-19T17:39:23.254020500Z"
    }
   },
   "id": "c3bf42933fa587c7"
  },
  {
   "cell_type": "code",
   "execution_count": 33,
   "outputs": [
    {
     "data": {
      "text/plain": "      sex      age  sibsp  parch      fare\n0       0  29.0000    0.0    0.0  211.3375\n1       1   0.9167    1.0    2.0  151.5500\n2       0   2.0000    1.0    2.0  151.5500\n3       1  30.0000    1.0    2.0  151.5500\n4       0  25.0000    1.0    2.0  151.5500\n...   ...      ...    ...    ...       ...\n1304    0  14.5000    1.0    0.0   14.4542\n1305    0      NaN    1.0    0.0   14.4542\n1306    1  26.5000    0.0    0.0    7.2250\n1307    1  27.0000    0.0    0.0    7.2250\n1308    1  29.0000    0.0    0.0    7.8750\n\n[1309 rows x 5 columns]",
      "text/html": "<div>\n<style scoped>\n    .dataframe tbody tr th:only-of-type {\n        vertical-align: middle;\n    }\n\n    .dataframe tbody tr th {\n        vertical-align: top;\n    }\n\n    .dataframe thead th {\n        text-align: right;\n    }\n</style>\n<table border=\"1\" class=\"dataframe\">\n  <thead>\n    <tr style=\"text-align: right;\">\n      <th></th>\n      <th>sex</th>\n      <th>age</th>\n      <th>sibsp</th>\n      <th>parch</th>\n      <th>fare</th>\n    </tr>\n  </thead>\n  <tbody>\n    <tr>\n      <th>0</th>\n      <td>0</td>\n      <td>29.0000</td>\n      <td>0.0</td>\n      <td>0.0</td>\n      <td>211.3375</td>\n    </tr>\n    <tr>\n      <th>1</th>\n      <td>1</td>\n      <td>0.9167</td>\n      <td>1.0</td>\n      <td>2.0</td>\n      <td>151.5500</td>\n    </tr>\n    <tr>\n      <th>2</th>\n      <td>0</td>\n      <td>2.0000</td>\n      <td>1.0</td>\n      <td>2.0</td>\n      <td>151.5500</td>\n    </tr>\n    <tr>\n      <th>3</th>\n      <td>1</td>\n      <td>30.0000</td>\n      <td>1.0</td>\n      <td>2.0</td>\n      <td>151.5500</td>\n    </tr>\n    <tr>\n      <th>4</th>\n      <td>0</td>\n      <td>25.0000</td>\n      <td>1.0</td>\n      <td>2.0</td>\n      <td>151.5500</td>\n    </tr>\n    <tr>\n      <th>...</th>\n      <td>...</td>\n      <td>...</td>\n      <td>...</td>\n      <td>...</td>\n      <td>...</td>\n    </tr>\n    <tr>\n      <th>1304</th>\n      <td>0</td>\n      <td>14.5000</td>\n      <td>1.0</td>\n      <td>0.0</td>\n      <td>14.4542</td>\n    </tr>\n    <tr>\n      <th>1305</th>\n      <td>0</td>\n      <td>NaN</td>\n      <td>1.0</td>\n      <td>0.0</td>\n      <td>14.4542</td>\n    </tr>\n    <tr>\n      <th>1306</th>\n      <td>1</td>\n      <td>26.5000</td>\n      <td>0.0</td>\n      <td>0.0</td>\n      <td>7.2250</td>\n    </tr>\n    <tr>\n      <th>1307</th>\n      <td>1</td>\n      <td>27.0000</td>\n      <td>0.0</td>\n      <td>0.0</td>\n      <td>7.2250</td>\n    </tr>\n    <tr>\n      <th>1308</th>\n      <td>1</td>\n      <td>29.0000</td>\n      <td>0.0</td>\n      <td>0.0</td>\n      <td>7.8750</td>\n    </tr>\n  </tbody>\n</table>\n<p>1309 rows × 5 columns</p>\n</div>"
     },
     "execution_count": 33,
     "metadata": {},
     "output_type": "execute_result"
    }
   ],
   "source": [
    "X"
   ],
   "metadata": {
    "collapsed": false,
    "ExecuteTime": {
     "end_time": "2024-04-19T17:39:23.640745100Z",
     "start_time": "2024-04-19T17:39:23.484036600Z"
    }
   },
   "id": "b7109dffeff0ca74"
  },
  {
   "cell_type": "code",
   "execution_count": 34,
   "outputs": [],
   "source": [
    "# Podział na zestawy treningowe i testowe\n",
    "# Podział danych na zbiór treningowy i testowy\n",
    "X_train, X_test, y_train, y_test = train_test_split(X, y, test_size=0.2,\n",
    "random_state=42)"
   ],
   "metadata": {
    "collapsed": false,
    "ExecuteTime": {
     "end_time": "2024-04-19T17:39:23.683685900Z",
     "start_time": "2024-04-19T17:39:23.603337800Z"
    }
   },
   "id": "7a439b355bcabaca"
  },
  {
   "cell_type": "code",
   "execution_count": 39,
   "outputs": [],
   "source": [
    "# Budowa modelu drzewa decyzyjnego\n",
    "clf = DecisionTreeClassifier()\n",
    "clf.fit(X_train, y_train)\n",
    "y_pred = clf.predict(X_test)"
   ],
   "metadata": {
    "collapsed": false,
    "ExecuteTime": {
     "end_time": "2024-04-19T17:45:41.158779800Z",
     "start_time": "2024-04-19T17:45:41.105856Z"
    }
   },
   "id": "c27dab4688950fef"
  },
  {
   "cell_type": "code",
   "execution_count": 40,
   "outputs": [
    {
     "name": "stdout",
     "output_type": "stream",
     "text": [
      "Dokładność modelu SVM: 0.7519083969465649\n"
     ]
    }
   ],
   "source": [
    "# Obliczenie dokładności modelu\n",
    "accuracy = accuracy_score(y_test, y_pred)\n",
    "print(\"Dokładność modelu SVM:\", accuracy)"
   ],
   "metadata": {
    "collapsed": false,
    "ExecuteTime": {
     "end_time": "2024-04-19T17:46:08.237723700Z",
     "start_time": "2024-04-19T17:46:08.176548100Z"
    }
   },
   "id": "6fc5b445ef891be1"
  },
  {
   "cell_type": "code",
   "execution_count": 41,
   "outputs": [
    {
     "name": "stdout",
     "output_type": "stream",
     "text": [
      "Specyficzność: 0.8472222222222222\n"
     ]
    }
   ],
   "source": [
    "conf_matrix = confusion_matrix(y_test, y_pred)\n",
    "def specificity_score(y_true, y_pred):\n",
    " tn, fp, fn, tp = confusion_matrix(y_true, y_pred).ravel()\n",
    " specificity = tn / (tn + fp)\n",
    " return specificity\n",
    "# Obliczenie specyficzności\n",
    "specificity = specificity_score(y_test, y_pred)\n",
    "print(\"Specyficzność:\", specificity)"
   ],
   "metadata": {
    "collapsed": false,
    "ExecuteTime": {
     "end_time": "2024-04-19T17:46:41.621205400Z",
     "start_time": "2024-04-19T17:46:41.600785500Z"
    }
   },
   "id": "b93020a603067d10"
  },
  {
   "cell_type": "code",
   "execution_count": 42,
   "outputs": [
    {
     "data": {
      "text/plain": "<Figure size 640x480 with 2 Axes>",
      "image/png": "[encoded data removed]"
     },
     "metadata": {},
     "output_type": "display_data"
    }
   ],
   "source": [
    "disp = ConfusionMatrixDisplay(confusion_matrix=conf_matrix)\n",
    "disp.plot(cmap='BuPu')\n",
    "plt.show()"
   ],
   "metadata": {
    "collapsed": false,
    "ExecuteTime": {
     "end_time": "2024-04-19T17:46:50.481935800Z",
     "start_time": "2024-04-19T17:46:50.160078500Z"
    }
   },
   "id": "6c62c529140534e2"
  },
  {
   "cell_type": "code",
   "execution_count": 43,
   "outputs": [
    {
     "name": "stdout",
     "output_type": "stream",
     "text": [
      "Precyzja modelu: 75.19%\n"
     ]
    }
   ],
   "source": [
    "# Obliczenie precyzji\n",
    "precision = precision_score(y_test, y_pred, average='micro')\n",
    "print(\"Precyzja modelu: {:.2f}%\".format(precision * 100))"
   ],
   "metadata": {
    "collapsed": false,
    "ExecuteTime": {
     "end_time": "2024-04-19T17:59:33.426905900Z",
     "start_time": "2024-04-19T17:59:33.348739900Z"
    }
   },
   "id": "29226ef4514a8711"
  },
  {
   "cell_type": "code",
   "execution_count": null,
   "outputs": [],
   "source": [],
   "metadata": {
    "collapsed": false
   },
   "id": "9e23758df7eb7b26"
  }
 ],
 "metadata": {
  "kernelspec": {
   "display_name": "Python 3",
   "language": "python",
   "name": "python3"
  },
  "language_info": {
   "codemirror_mode": {
    "name": "ipython",
    "version": 2
   },
   "file_extension": ".py",
   "mimetype": "text/x-python",
   "name": "python",
   "nbconvert_exporter": "python",
   "pygments_lexer": "ipython2",
   "version": "2.7.6"
  }
 },
 "nbformat": 4,
 "nbformat_minor": 5
}
