{
 "cells": [
  {
   "cell_type": "markdown",
   "source": [
    "# Zadanie 6\n",
    "Analiza zbioru danych Heart Disease:\n",
    "o Wczytaj zbiór danych dotyczący chorób serca.\n",
    "o Przeprowadź analizę eksploracyjną danych, identyfikując czynniki ryzyka chorób\n",
    "serca.\n",
    "o Podziel zbiór danych na zestawy treningowy i testowy.\n",
    "o Zbuduj klasyfikator SVM do przewidywania obecności choroby serca.\n",
    "o Oceń jakość klasyfikatora za pomocą różnych metryk, takich jak precyzja, czułość i\n",
    "specyficzność.\n",
    "o Zinterpretuj wyniki, starając się zidentyfikować czynniki mające największy wpływ\n",
    "na ryzyko choroby serca."
   ],
   "metadata": {
    "collapsed": false
   },
   "id": "52cf80bd5d948883"
  },
  {
   "cell_type": "code",
   "execution_count": null,
   "outputs": [],
   "source": [],
   "metadata": {
    "collapsed": false
   },
   "id": "d51bc5789425ad52"
  }
 ],
 "metadata": {
  "kernelspec": {
   "display_name": "Python 3",
   "language": "python",
   "name": "python3"
  },
  "language_info": {
   "codemirror_mode": {
    "name": "ipython",
    "version": 2
   },
   "file_extension": ".py",
   "mimetype": "text/x-python",
   "name": "python",
   "nbconvert_exporter": "python",
   "pygments_lexer": "ipython2",
   "version": "2.7.6"
  }
 },
 "nbformat": 4,
 "nbformat_minor": 5
}
