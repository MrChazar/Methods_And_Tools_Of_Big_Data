{
 "cells": [
  {
   "cell_type": "markdown",
   "source": [
    "# Podpunkt 2:\n",
    "Wczytaj dane z biblioteki Keras, używając zbioru danych Fashion MNIST (from keras.datasets\n",
    "import fashion_mnist), który zawiera 60 000 obrazów treningowych i 10 000 obrazów testowych, każdy w 28x28 pikselach w odcieniach szarości."
   ],
   "metadata": {
    "collapsed": false
   },
   "id": "92c59a0620190a70"
  },
  {
   "cell_type": "code",
   "execution_count": 3,
   "outputs": [],
   "source": [
    "import tensorflow\n",
    "import keras\n",
    "from keras.datasets import cifar10\n",
    "from sklearn.metrics import classification_report\n",
    "from keras.models import Sequential\n",
    "from keras.layers import Conv2D, MaxPooling2D, Flatten, Dense\n",
    "from keras.datasets import fashion_mnist\n",
    "import matplotlib.pyplot as plt\n",
    "from sklearn.metrics import confusion_matrix\n",
    "import seaborn as sea\n",
    "import pandas as pd\n",
    "import numpy as np"
   ],
   "metadata": {
    "collapsed": false,
    "ExecuteTime": {
     "end_time": "2024-05-11T17:27:06.063020Z",
     "start_time": "2024-05-11T17:27:06.030734100Z"
    }
   },
   "id": "16fdcfa3118e878e"
  },
  {
   "cell_type": "code",
   "execution_count": 4,
   "outputs": [
    {
     "data": {
      "text/plain": "array([[[0, 0, 0, ..., 0, 0, 0],\n        [0, 0, 0, ..., 0, 0, 0],\n        [0, 0, 0, ..., 0, 0, 0],\n        ...,\n        [0, 0, 0, ..., 0, 0, 0],\n        [0, 0, 0, ..., 0, 0, 0],\n        [0, 0, 0, ..., 0, 0, 0]],\n\n       [[0, 0, 0, ..., 0, 0, 0],\n        [0, 0, 0, ..., 0, 0, 0],\n        [0, 0, 0, ..., 0, 0, 0],\n        ...,\n        [0, 0, 0, ..., 0, 0, 0],\n        [0, 0, 0, ..., 0, 0, 0],\n        [0, 0, 0, ..., 0, 0, 0]],\n\n       [[0, 0, 0, ..., 0, 0, 0],\n        [0, 0, 0, ..., 0, 0, 0],\n        [0, 0, 0, ..., 0, 0, 0],\n        ...,\n        [0, 0, 0, ..., 0, 0, 0],\n        [0, 0, 0, ..., 0, 0, 0],\n        [0, 0, 0, ..., 0, 0, 0]],\n\n       ...,\n\n       [[0, 0, 0, ..., 0, 0, 0],\n        [0, 0, 0, ..., 0, 0, 0],\n        [0, 0, 0, ..., 0, 0, 0],\n        ...,\n        [0, 0, 0, ..., 0, 0, 0],\n        [0, 0, 0, ..., 0, 0, 0],\n        [0, 0, 0, ..., 0, 0, 0]],\n\n       [[0, 0, 0, ..., 0, 0, 0],\n        [0, 0, 0, ..., 0, 0, 0],\n        [0, 0, 0, ..., 0, 0, 0],\n        ...,\n        [0, 0, 0, ..., 0, 0, 0],\n        [0, 0, 0, ..., 0, 0, 0],\n        [0, 0, 0, ..., 0, 0, 0]],\n\n       [[0, 0, 0, ..., 0, 0, 0],\n        [0, 0, 0, ..., 0, 0, 0],\n        [0, 0, 0, ..., 0, 0, 0],\n        ...,\n        [0, 0, 0, ..., 0, 0, 0],\n        [0, 0, 0, ..., 0, 0, 0],\n        [0, 0, 0, ..., 0, 0, 0]]], dtype=uint8)"
     },
     "execution_count": 4,
     "metadata": {},
     "output_type": "execute_result"
    }
   ],
   "source": [
    "# Wczytanie danych fashion mnist\n",
    "(x_train, y_train), (x_test, y_test) = fashion_mnist.load_data()\n",
    "# co jest w x_train\n",
    "x_train"
   ],
   "metadata": {
    "collapsed": false,
    "ExecuteTime": {
     "end_time": "2024-05-11T17:27:06.899027400Z",
     "start_time": "2024-05-11T17:27:06.218802600Z"
    }
   },
   "id": "6c6c45b4c3334b95"
  },
  {
   "cell_type": "code",
   "execution_count": 5,
   "outputs": [
    {
     "data": {
      "text/plain": "array([9, 0, 0, ..., 3, 0, 5], dtype=uint8)"
     },
     "execution_count": 5,
     "metadata": {},
     "output_type": "execute_result"
    }
   ],
   "source": [
    "# zawartość y_train\n",
    "y_train"
   ],
   "metadata": {
    "collapsed": false,
    "ExecuteTime": {
     "end_time": "2024-05-11T17:27:06.902543300Z",
     "start_time": "2024-05-11T17:27:06.809033300Z"
    }
   },
   "id": "760c1b63f6518786"
  },
  {
   "cell_type": "code",
   "execution_count": 6,
   "outputs": [
    {
     "data": {
      "text/plain": "<matplotlib.image.AxesImage at 0x2749c69fa60>"
     },
     "execution_count": 6,
     "metadata": {},
     "output_type": "execute_result"
    },
    {
     "data": {
      "text/plain": "<Figure size 640x480 with 1 Axes>",
      "image/png": "[encoded data removed]"
     },
     "metadata": {},
     "output_type": "display_data"
    }
   ],
   "source": [
    "# Przykładowe zdjęcie z naszego zbioru treningowego\n",
    "plt.imshow(x_train[6])"
   ],
   "metadata": {
    "collapsed": false,
    "ExecuteTime": {
     "end_time": "2024-05-11T17:27:07.370739900Z",
     "start_time": "2024-05-11T17:27:06.829270400Z"
    }
   },
   "id": "8a0bc1b6e8fddf1f"
  },
  {
   "cell_type": "markdown",
   "source": [
    "# Podpunkt 3:\n",
    "Przygotuj dane do trenowania modelu poprzez normalizację wartości pikseli do zakresu od 0 do\n",
    "1 oraz przekształcenie etykiet kategorii na postać one-hot encoding."
   ],
   "metadata": {
    "collapsed": false
   },
   "id": "4dc971f6ab6f5aa3"
  },
  {
   "cell_type": "code",
   "execution_count": 7,
   "outputs": [],
   "source": [
    "# Normalizacja danych\n",
    "x_train = x_train / 255.0\n",
    "x_test = x_test / 255.0"
   ],
   "metadata": {
    "collapsed": false,
    "ExecuteTime": {
     "end_time": "2024-05-11T17:27:07.654852400Z",
     "start_time": "2024-05-11T17:27:07.328894300Z"
    }
   },
   "id": "e419928c3a0026c3"
  },
  {
   "cell_type": "markdown",
   "source": [
    "# Podpunkt 4\n",
    "Zbuduj model sieci neuronowej w Keras, składający się z warstw konwolucyjnych, warstw poolingowych i warstw w pełni połączonych."
   ],
   "metadata": {
    "collapsed": false
   },
   "id": "4a92ca394d37ab7"
  },
  {
   "cell_type": "code",
   "execution_count": 8,
   "outputs": [
    {
     "name": "stdout",
     "output_type": "stream",
     "text": [
      "WARNING:tensorflow:From C:\\Users\\jakub\\AppData\\Local\\Programs\\Python\\Python39\\lib\\site-packages\\keras\\src\\backend.py:873: The name tf.get_default_graph is deprecated. Please use tf.compat.v1.get_default_graph instead.\n",
      "WARNING:tensorflow:From C:\\Users\\jakub\\AppData\\Local\\Programs\\Python\\Python39\\lib\\site-packages\\keras\\src\\layers\\pooling\\max_pooling2d.py:161: The name tf.nn.max_pool is deprecated. Please use tf.nn.max_pool2d instead.\n",
      "WARNING:tensorflow:From C:\\Users\\jakub\\AppData\\Local\\Programs\\Python\\Python39\\lib\\site-packages\\keras\\src\\optimizers\\__init__.py:309: The name tf.train.Optimizer is deprecated. Please use tf.compat.v1.train.Optimizer instead.\n"
     ]
    }
   ],
   "source": [
    "# Definicja modelu CNN\n",
    "model = Sequential([\n",
    " Conv2D(28, (3, 3), activation='relu', input_shape=(28, 28, 1)),\n",
    " MaxPooling2D((2, 2)),\n",
    " Conv2D(64, (3, 3), activation='relu'),\n",
    " MaxPooling2D((2, 2)),\n",
    " Conv2D(64, (3, 3), activation='relu'),\n",
    " Flatten(),\n",
    " Dense(64, activation='relu'),\n",
    " Dense(10, activation='softmax')\n",
    "])\n",
    "\n",
    "\n",
    "# Kompilacja modelu\n",
    "model.compile(optimizer='adam',\n",
    " loss='sparse_categorical_crossentropy',\n",
    " metrics=['accuracy'])"
   ],
   "metadata": {
    "collapsed": false,
    "ExecuteTime": {
     "end_time": "2024-05-11T17:27:08.587565700Z",
     "start_time": "2024-05-11T17:27:07.583946300Z"
    }
   },
   "id": "3f695fbf1fdded4a"
  },
  {
   "cell_type": "markdown",
   "source": [
    "# Podpunkt 5 i 6\n",
    "- Trenuj model na danych treningowych przez określoną liczbę epok (np. 10), określając także\n",
    "  dane walidacyjne do monitorowania wydajności modelu podczas trenowania.\n",
    "- Dokonaj oceny modelu poprzez ewaluacji jego wydajności na zbiorze testowym oraz wizualizację wyników"
   ],
   "metadata": {
    "collapsed": false
   },
   "id": "92d4603ade618e3"
  },
  {
   "cell_type": "code",
   "execution_count": 22,
   "outputs": [
    {
     "name": "stdout",
     "output_type": "stream",
     "text": [
      "Epoch 1/6\n",
      "1875/1875 [==============================] - 32s 17ms/step - loss: 0.0754 - accuracy: 0.9717 - val_loss: 0.3885 - val_accuracy: 0.9027\n",
      "Epoch 2/6\n",
      "1875/1875 [==============================] - 42s 22ms/step - loss: 0.0732 - accuracy: 0.9723 - val_loss: 0.4072 - val_accuracy: 0.9075\n",
      "Epoch 3/6\n",
      "1875/1875 [==============================] - 29s 15ms/step - loss: 0.0678 - accuracy: 0.9737 - val_loss: 0.4365 - val_accuracy: 0.9059\n",
      "Epoch 4/6\n",
      "1875/1875 [==============================] - 29s 16ms/step - loss: 0.0643 - accuracy: 0.9756 - val_loss: 0.4313 - val_accuracy: 0.9037\n",
      "Epoch 5/6\n",
      "1875/1875 [==============================] - 29s 15ms/step - loss: 0.0616 - accuracy: 0.9766 - val_loss: 0.4550 - val_accuracy: 0.9009\n",
      "Epoch 6/6\n",
      "1875/1875 [==============================] - 29s 15ms/step - loss: 0.0579 - accuracy: 0.9784 - val_loss: 0.4661 - val_accuracy: 0.9045\n",
      "313/313 [==============================] - 2s 6ms/step - loss: 0.4661 - accuracy: 0.9045\n",
      "Dokładność klasyfikacji: 0.9045000076293945\n"
     ]
    }
   ],
   "source": [
    "# Trenowanie modelu\n",
    "model.fit(x_train, y_train, epochs=6, validation_data=(x_test, y_test))\n",
    "\n",
    "# Ocena modelu\n",
    "test_loss, test_acc = model.evaluate(x_test, y_test)\n",
    "print('Dokładność klasyfikacji:', test_acc)"
   ],
   "metadata": {
    "collapsed": false,
    "ExecuteTime": {
     "end_time": "2024-05-11T17:45:08.544129900Z",
     "start_time": "2024-05-11T17:41:56.376142600Z"
    }
   },
   "id": "7366972ffc0e30d3"
  },
  {
   "cell_type": "markdown",
   "source": [
    "# Podpunkt 7\n",
    "Przeprowadzić predykcje na nowych danych i dokładniej zbadać wyniki za pomocą macierzy\n",
    "pomyłek oraz raportu klasyfikacji."
   ],
   "metadata": {
    "collapsed": false
   },
   "id": "f6586bf91d4d8aba"
  },
  {
   "cell_type": "code",
   "execution_count": 23,
   "outputs": [
    {
     "name": "stdout",
     "output_type": "stream",
     "text": [
      "313/313 [==============================] - 2s 7ms/step\n"
     ]
    }
   ],
   "source": [
    "y_pred = model.predict(x_test)"
   ],
   "metadata": {
    "collapsed": false,
    "ExecuteTime": {
     "end_time": "2024-05-11T17:45:21.362302700Z",
     "start_time": "2024-05-11T17:45:18.779629300Z"
    }
   },
   "id": "35df453c16b718d3"
  },
  {
   "cell_type": "code",
   "execution_count": 24,
   "outputs": [
    {
     "data": {
      "text/plain": "array([[3.3693214e-13, 1.6270478e-14, 1.1500433e-18, ..., 1.3674405e-07,\n        2.1515945e-14, 9.9999988e-01],\n       [4.4690214e-14, 8.8205809e-18, 9.9999940e-01, ..., 5.7398317e-27,\n        3.0603430e-13, 6.9628950e-26],\n       [5.5208896e-36, 1.0000000e+00, 0.0000000e+00, ..., 0.0000000e+00,\n        0.0000000e+00, 0.0000000e+00],\n       ...,\n       [2.6456043e-32, 0.0000000e+00, 1.0254679e-33, ..., 2.3642578e-34,\n        1.0000000e+00, 0.0000000e+00],\n       [2.6386035e-29, 1.0000000e+00, 5.0412502e-28, ..., 0.0000000e+00,\n        0.0000000e+00, 0.0000000e+00],\n       [7.6202667e-15, 2.4838007e-23, 8.1334644e-12, ..., 6.5732544e-11,\n        1.1621393e-12, 7.4675441e-16]], dtype=float32)"
     },
     "execution_count": 24,
     "metadata": {},
     "output_type": "execute_result"
    }
   ],
   "source": [
    "y_pred"
   ],
   "metadata": {
    "collapsed": false,
    "ExecuteTime": {
     "end_time": "2024-05-11T17:45:21.374609200Z",
     "start_time": "2024-05-11T17:45:21.362302700Z"
    }
   },
   "id": "28d40b892da317d1"
  },
  {
   "cell_type": "code",
   "execution_count": 25,
   "outputs": [
    {
     "data": {
      "text/plain": "array([9, 2, 1, ..., 8, 1, 5], dtype=int64)"
     },
     "execution_count": 25,
     "metadata": {},
     "output_type": "execute_result"
    }
   ],
   "source": [
    "y_pred = np.argmax(y_pred, axis=1)\n",
    "y_pred"
   ],
   "metadata": {
    "collapsed": false,
    "ExecuteTime": {
     "end_time": "2024-05-11T17:45:21.495633700Z",
     "start_time": "2024-05-11T17:45:21.374609200Z"
    }
   },
   "id": "68a46ecce3c55be4"
  },
  {
   "cell_type": "code",
   "execution_count": 26,
   "outputs": [
    {
     "name": "stdout",
     "output_type": "stream",
     "text": [
      "[792 976 854 894 880 977 768 960 979 965]\n"
     ]
    },
    {
     "data": {
      "text/plain": "<Figure size 1000x700 with 2 Axes>",
      "image/png": "[encoded data removed]"
     },
     "metadata": {},
     "output_type": "display_data"
    }
   ],
   "source": [
    "# Obliczenie confusion matrix\n",
    "\n",
    "cm = confusion_matrix(y_test, y_pred)\n",
    "\n",
    "print(cm.diagonal())\n",
    "\n",
    "# Tworzenie DataFrame z confusion matrix\n",
    "df_cm = pd.DataFrame(cm, index = [i for i in range(10)], columns = [i for i in range(10)])\n",
    "\n",
    "# Tworzenie heatmapy confusion matrix\n",
    "plt.figure(figsize = (10,7))\n",
    "sea.heatmap(df_cm, annot=True, fmt='d')\n",
    "plt.xlabel('Predicted')\n",
    "plt.ylabel('True')\n",
    "plt.show()"
   ],
   "metadata": {
    "collapsed": false,
    "ExecuteTime": {
     "end_time": "2024-05-11T17:45:22.297828100Z",
     "start_time": "2024-05-11T17:45:21.401878200Z"
    }
   },
   "id": "88f0720c3103ada4"
  },
  {
   "cell_type": "code",
   "execution_count": 27,
   "outputs": [
    {
     "data": {
      "text/plain": "'              precision    recall  f1-score   support\\n\\n           0       0.88      0.79      0.84      1000\\n           1       1.00      0.98      0.99      1000\\n           2       0.86      0.85      0.86      1000\\n           3       0.92      0.89      0.91      1000\\n           4       0.84      0.88      0.86      1000\\n           5       0.98      0.98      0.98      1000\\n           6       0.69      0.77      0.73      1000\\n           7       0.95      0.96      0.96      1000\\n           8       0.97      0.98      0.97      1000\\n           9       0.96      0.96      0.96      1000\\n\\n    accuracy                           0.90     10000\\n   macro avg       0.91      0.90      0.91     10000\\nweighted avg       0.91      0.90      0.91     10000\\n'"
     },
     "execution_count": 27,
     "metadata": {},
     "output_type": "execute_result"
    }
   ],
   "source": [
    "classification_report(y_test, y_pred)"
   ],
   "metadata": {
    "collapsed": false,
    "ExecuteTime": {
     "end_time": "2024-05-11T17:45:22.485853200Z",
     "start_time": "2024-05-11T17:45:22.266581Z"
    }
   },
   "id": "d7d2de78d943a947"
  },
  {
   "cell_type": "markdown",
   "source": [
    "# Wnioski\n",
    "Model który stworzyłem, sprawdzę się na poziomie klasyfikacji 0.9 co jest wynikiem zadowalającym dla mnie.\n"
   ],
   "metadata": {
    "collapsed": false
   },
   "id": "b1a6b382e491d7f5"
  },
  {
   "cell_type": "code",
   "execution_count": null,
   "outputs": [],
   "source": [],
   "metadata": {
    "collapsed": false
   },
   "id": "1ae3322cc10ebe5f"
  }
 ],
 "metadata": {
  "kernelspec": {
   "display_name": "Python 3",
   "language": "python",
   "name": "python3"
  },
  "language_info": {
   "codemirror_mode": {
    "name": "ipython",
    "version": 2
   },
   "file_extension": ".py",
   "mimetype": "text/x-python",
   "name": "python",
   "nbconvert_exporter": "python",
   "pygments_lexer": "ipython2",
   "version": "2.7.6"
  }
 },
 "nbformat": 4,
 "nbformat_minor": 5
}
