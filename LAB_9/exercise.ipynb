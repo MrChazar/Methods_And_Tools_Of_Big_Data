{
 "cells": [
  {
   "cell_type": "markdown",
   "source": [
    "# Podpunkt 2:\n",
    "Wczytaj dane z biblioteki Keras, używając zbioru danych Fashion MNIST (from keras.datasets\n",
    "import fashion_mnist), który zawiera 60 000 obrazów treningowych i 10 000 obrazów testowych, każdy w 28x28 pikselach w odcieniach szarości."
   ],
   "metadata": {
    "collapsed": false
   },
   "id": "92c59a0620190a70"
  },
  {
   "cell_type": "code",
   "execution_count": 1,
   "outputs": [
    {
     "name": "stdout",
     "output_type": "stream",
     "text": [
      "WARNING:tensorflow:From C:\\Users\\jakub\\AppData\\Local\\Programs\\Python\\Python39\\lib\\site-packages\\keras\\src\\losses.py:2976: The name tf.losses.sparse_softmax_cross_entropy is deprecated. Please use tf.compat.v1.losses.sparse_softmax_cross_entropy instead.\n"
     ]
    }
   ],
   "source": [
    "import tensorflow\n",
    "import keras\n",
    "from keras.datasets import cifar10\n",
    "from keras.models import Sequential\n",
    "from keras.layers import Conv2D, MaxPooling2D, Flatten, Dense\n",
    "from keras.datasets import fashion_mnist\n",
    "import matplotlib.pyplot as plt\n",
    "from sklearn.metrics import confusion_matrix\n",
    "import seaborn as sea\n",
    "import pandas as pd\n",
    "import numpy as np"
   ],
   "metadata": {
    "collapsed": false,
    "ExecuteTime": {
     "end_time": "2024-05-09T18:50:04.127648Z",
     "start_time": "2024-05-09T18:49:53.828918100Z"
    }
   },
   "id": "16fdcfa3118e878e"
  },
  {
   "cell_type": "code",
   "execution_count": 2,
   "outputs": [
    {
     "data": {
      "text/plain": "array([[[0, 0, 0, ..., 0, 0, 0],\n        [0, 0, 0, ..., 0, 0, 0],\n        [0, 0, 0, ..., 0, 0, 0],\n        ...,\n        [0, 0, 0, ..., 0, 0, 0],\n        [0, 0, 0, ..., 0, 0, 0],\n        [0, 0, 0, ..., 0, 0, 0]],\n\n       [[0, 0, 0, ..., 0, 0, 0],\n        [0, 0, 0, ..., 0, 0, 0],\n        [0, 0, 0, ..., 0, 0, 0],\n        ...,\n        [0, 0, 0, ..., 0, 0, 0],\n        [0, 0, 0, ..., 0, 0, 0],\n        [0, 0, 0, ..., 0, 0, 0]],\n\n       [[0, 0, 0, ..., 0, 0, 0],\n        [0, 0, 0, ..., 0, 0, 0],\n        [0, 0, 0, ..., 0, 0, 0],\n        ...,\n        [0, 0, 0, ..., 0, 0, 0],\n        [0, 0, 0, ..., 0, 0, 0],\n        [0, 0, 0, ..., 0, 0, 0]],\n\n       ...,\n\n       [[0, 0, 0, ..., 0, 0, 0],\n        [0, 0, 0, ..., 0, 0, 0],\n        [0, 0, 0, ..., 0, 0, 0],\n        ...,\n        [0, 0, 0, ..., 0, 0, 0],\n        [0, 0, 0, ..., 0, 0, 0],\n        [0, 0, 0, ..., 0, 0, 0]],\n\n       [[0, 0, 0, ..., 0, 0, 0],\n        [0, 0, 0, ..., 0, 0, 0],\n        [0, 0, 0, ..., 0, 0, 0],\n        ...,\n        [0, 0, 0, ..., 0, 0, 0],\n        [0, 0, 0, ..., 0, 0, 0],\n        [0, 0, 0, ..., 0, 0, 0]],\n\n       [[0, 0, 0, ..., 0, 0, 0],\n        [0, 0, 0, ..., 0, 0, 0],\n        [0, 0, 0, ..., 0, 0, 0],\n        ...,\n        [0, 0, 0, ..., 0, 0, 0],\n        [0, 0, 0, ..., 0, 0, 0],\n        [0, 0, 0, ..., 0, 0, 0]]], dtype=uint8)"
     },
     "execution_count": 2,
     "metadata": {},
     "output_type": "execute_result"
    }
   ],
   "source": [
    "# Wczytanie danych fashion mnist\n",
    "(x_train, y_train), (x_test, y_test) = fashion_mnist.load_data()\n",
    "# co jest w x_train\n",
    "x_train"
   ],
   "metadata": {
    "collapsed": false,
    "ExecuteTime": {
     "end_time": "2024-05-09T18:50:04.552478Z",
     "start_time": "2024-05-09T18:50:04.127648Z"
    }
   },
   "id": "6c6c45b4c3334b95"
  },
  {
   "cell_type": "code",
   "execution_count": 3,
   "outputs": [
    {
     "data": {
      "text/plain": "array([9, 0, 0, ..., 3, 0, 5], dtype=uint8)"
     },
     "execution_count": 3,
     "metadata": {},
     "output_type": "execute_result"
    }
   ],
   "source": [
    "# zawartość y_train\n",
    "y_train"
   ],
   "metadata": {
    "collapsed": false,
    "ExecuteTime": {
     "end_time": "2024-05-09T18:50:04.583710400Z",
     "start_time": "2024-05-09T18:50:04.552478Z"
    }
   },
   "id": "760c1b63f6518786"
  },
  {
   "cell_type": "code",
   "execution_count": 4,
   "outputs": [
    {
     "data": {
      "text/plain": "<matplotlib.image.AxesImage at 0x221e9c1ed90>"
     },
     "execution_count": 4,
     "metadata": {},
     "output_type": "execute_result"
    },
    {
     "data": {
      "text/plain": "<Figure size 640x480 with 1 Axes>",
      "image/png": "[encoded data removed]"
     },
     "metadata": {},
     "output_type": "display_data"
    }
   ],
   "source": [
    "# Przykładowe zdjęcie z naszego zbioru treningowego\n",
    "plt.imshow(x_train[6])"
   ],
   "metadata": {
    "collapsed": false,
    "ExecuteTime": {
     "end_time": "2024-05-09T18:50:05.020878800Z",
     "start_time": "2024-05-09T18:50:04.568092500Z"
    }
   },
   "id": "8a0bc1b6e8fddf1f"
  },
  {
   "cell_type": "markdown",
   "source": [
    "# Podpunkt 3:\n",
    "Przygotuj dane do trenowania modelu poprzez normalizację wartości pikseli do zakresu od 0 do\n",
    "1 oraz przekształcenie etykiet kategorii na postać one-hot encoding."
   ],
   "metadata": {
    "collapsed": false
   },
   "id": "4dc971f6ab6f5aa3"
  },
  {
   "cell_type": "code",
   "execution_count": 5,
   "outputs": [],
   "source": [
    "# Normalizacja danych\n",
    "x_train = x_train / 255.0\n",
    "x_test = x_test / 255.0"
   ],
   "metadata": {
    "collapsed": false,
    "ExecuteTime": {
     "end_time": "2024-05-09T18:50:05.233628200Z",
     "start_time": "2024-05-09T18:50:04.973072500Z"
    }
   },
   "id": "e419928c3a0026c3"
  },
  {
   "cell_type": "markdown",
   "source": [
    "# Podpunkt 4\n",
    "Zbuduj model sieci neuronowej w Keras, składający się z warstw konwolucyjnych, warstw poolingowych i warstw w pełni połączonych."
   ],
   "metadata": {
    "collapsed": false
   },
   "id": "4a92ca394d37ab7"
  },
  {
   "cell_type": "code",
   "execution_count": 12,
   "outputs": [],
   "source": [
    "# Definicja modelu CNN\n",
    "model = Sequential([\n",
    " Conv2D(28, (3, 3), activation='relu', input_shape=(28, 28, 1)),\n",
    " MaxPooling2D((2, 2)),\n",
    " Conv2D(64, (3, 3), activation='relu'),\n",
    " MaxPooling2D((2, 2)),\n",
    " Conv2D(64, (3, 3), activation='relu'),\n",
    " Flatten(),\n",
    " Dense(64, activation='relu'),\n",
    " Dense(10, activation='softmax')\n",
    "])\n",
    "\n",
    "\n",
    "# Kompilacja modelu\n",
    "model.compile(optimizer='adam',\n",
    " loss='sparse_categorical_crossentropy',\n",
    " metrics=['accuracy'])"
   ],
   "metadata": {
    "collapsed": false,
    "ExecuteTime": {
     "end_time": "2024-05-09T18:53:23.953665100Z",
     "start_time": "2024-05-09T18:53:23.477168800Z"
    }
   },
   "id": "3f695fbf1fdded4a"
  },
  {
   "cell_type": "markdown",
   "source": [
    "# Podpunkt 5 i 6\n",
    "- Trenuj model na danych treningowych przez określoną liczbę epok (np. 10), określając także\n",
    "  dane walidacyjne do monitorowania wydajności modelu podczas trenowania.\n",
    "- Dokonaj oceny modelu poprzez ewaluacji jego wydajności na zbiorze testowym oraz wizualizację wyników"
   ],
   "metadata": {
    "collapsed": false
   },
   "id": "92d4603ade618e3"
  },
  {
   "cell_type": "code",
   "execution_count": 13,
   "outputs": [
    {
     "name": "stdout",
     "output_type": "stream",
     "text": [
      "Epoch 1/5\n",
      "1875/1875 [==============================] - 28s 15ms/step - loss: 0.4957 - accuracy: 0.8187 - val_loss: 0.3760 - val_accuracy: 0.8630\n",
      "Epoch 2/5\n",
      "1875/1875 [==============================] - 29s 16ms/step - loss: 0.3159 - accuracy: 0.8839 - val_loss: 0.3184 - val_accuracy: 0.8860\n",
      "Epoch 3/5\n",
      "1875/1875 [==============================] - 29s 16ms/step - loss: 0.2692 - accuracy: 0.9012 - val_loss: 0.3021 - val_accuracy: 0.8866\n",
      "Epoch 4/5\n",
      "1875/1875 [==============================] - 28s 15ms/step - loss: 0.2419 - accuracy: 0.9105 - val_loss: 0.2859 - val_accuracy: 0.8964\n",
      "Epoch 5/5\n",
      "1875/1875 [==============================] - 29s 15ms/step - loss: 0.2170 - accuracy: 0.9192 - val_loss: 0.2808 - val_accuracy: 0.9012\n",
      "313/313 [==============================] - 2s 7ms/step - loss: 0.2808 - accuracy: 0.9012\n",
      "Dokładność klasyfikacji: 0.901199996471405\n"
     ]
    }
   ],
   "source": [
    "# Trenowanie modelu\n",
    "model.fit(x_train, y_train, epochs=5, validation_data=(x_test, y_test))\n",
    "\n",
    "# Ocena modelu\n",
    "test_loss, test_acc = model.evaluate(x_test, y_test)\n",
    "print('Dokładność klasyfikacji:', test_acc)"
   ],
   "metadata": {
    "collapsed": false,
    "ExecuteTime": {
     "end_time": "2024-05-09T18:55:51.643436600Z",
     "start_time": "2024-05-09T18:53:25.068212Z"
    }
   },
   "id": "7366972ffc0e30d3"
  },
  {
   "cell_type": "markdown",
   "source": [
    "# Podpunkt 7\n",
    "Przeprowadzić predykcje na nowych danych i dokładniej zbadać wyniki za pomocą macierzy\n",
    "pomyłek oraz raportu klasyfikacji."
   ],
   "metadata": {
    "collapsed": false
   },
   "id": "f6586bf91d4d8aba"
  },
  {
   "cell_type": "code",
   "execution_count": 14,
   "outputs": [
    {
     "name": "stdout",
     "output_type": "stream",
     "text": [
      "313/313 [==============================] - 2s 7ms/step\n"
     ]
    }
   ],
   "source": [
    "y_pred = model.predict(x_test)"
   ],
   "metadata": {
    "collapsed": false,
    "ExecuteTime": {
     "end_time": "2024-05-09T18:56:08.876188Z",
     "start_time": "2024-05-09T18:56:06.114028800Z"
    }
   },
   "id": "35df453c16b718d3"
  },
  {
   "cell_type": "code",
   "execution_count": 15,
   "outputs": [
    {
     "data": {
      "text/plain": "array([[4.5400796e-08, 2.4143001e-09, 1.0149941e-07, ..., 7.6732235e-03,\n        1.4672167e-07, 9.9215877e-01],\n       [1.5671327e-04, 1.8788396e-10, 9.9950647e-01, ..., 5.2508352e-14,\n        1.0333487e-06, 2.0286226e-09],\n       [6.8457994e-06, 9.9999046e-01, 1.6706167e-08, ..., 3.4785103e-13,\n        1.9983078e-08, 3.9278164e-12],\n       ...,\n       [2.6038693e-08, 1.6549912e-15, 1.2485517e-09, ..., 7.0606971e-12,\n        1.0000000e+00, 1.7266988e-11],\n       [4.2612246e-06, 9.9996614e-01, 7.9847247e-08, ..., 9.6327959e-11,\n        8.1130753e-07, 3.5092467e-09],\n       [2.0011600e-04, 1.8763809e-07, 3.1658419e-05, ..., 9.0769060e-02,\n        7.1745535e-04, 8.3176412e-05]], dtype=float32)"
     },
     "execution_count": 15,
     "metadata": {},
     "output_type": "execute_result"
    }
   ],
   "source": [
    "y_pred"
   ],
   "metadata": {
    "collapsed": false,
    "ExecuteTime": {
     "end_time": "2024-05-09T18:56:08.891840300Z",
     "start_time": "2024-05-09T18:56:08.876188Z"
    }
   },
   "id": "28d40b892da317d1"
  },
  {
   "cell_type": "code",
   "execution_count": 16,
   "outputs": [
    {
     "data": {
      "text/plain": "array([9, 2, 1, ..., 8, 1, 5], dtype=int64)"
     },
     "execution_count": 16,
     "metadata": {},
     "output_type": "execute_result"
    }
   ],
   "source": [
    "y_pred = np.argmax(y_pred, axis=1)\n",
    "y_pred"
   ],
   "metadata": {
    "collapsed": false,
    "ExecuteTime": {
     "end_time": "2024-05-09T18:56:08.980234Z",
     "start_time": "2024-05-09T18:56:08.891840300Z"
    }
   },
   "id": "68a46ecce3c55be4"
  },
  {
   "cell_type": "code",
   "execution_count": 17,
   "outputs": [
    {
     "name": "stdout",
     "output_type": "stream",
     "text": [
      "[887 966 885 913 830 960 683 989 975 924]\n"
     ]
    },
    {
     "data": {
      "text/plain": "<Figure size 1000x700 with 2 Axes>",
      "image/png": "[encoded data removed]"
     },
     "metadata": {},
     "output_type": "display_data"
    }
   ],
   "source": [
    "# Obliczenie confusion matrix\n",
    "\n",
    "cm = confusion_matrix(y_test, y_pred)\n",
    "\n",
    "print(cm.diagonal())\n",
    "\n",
    "# Tworzenie DataFrame z confusion matrix\n",
    "df_cm = pd.DataFrame(cm, index = [i for i in range(10)], columns = [i for i in range(10)])\n",
    "\n",
    "# Tworzenie heatmapy confusion matrix\n",
    "plt.figure(figsize = (10,7))\n",
    "sea.heatmap(df_cm, annot=True, fmt='d')\n",
    "plt.xlabel('Predicted')\n",
    "plt.ylabel('True')\n",
    "plt.show()"
   ],
   "metadata": {
    "collapsed": false,
    "ExecuteTime": {
     "end_time": "2024-05-09T18:56:09.712079400Z",
     "start_time": "2024-05-09T18:56:08.923081200Z"
    }
   },
   "id": "88f0720c3103ada4"
  },
  {
   "cell_type": "markdown",
   "source": [
    "# Wnioski\n",
    "Moja sieć jest zajebista :)"
   ],
   "metadata": {
    "collapsed": false
   },
   "id": "a2bc4147d5cf0e95"
  },
  {
   "cell_type": "code",
   "execution_count": 75,
   "outputs": [],
   "source": [],
   "metadata": {
    "collapsed": false,
    "ExecuteTime": {
     "end_time": "2024-05-09T18:09:45.730207200Z",
     "start_time": "2024-05-09T18:09:45.661173400Z"
    }
   },
   "id": "d7d2de78d943a947"
  },
  {
   "cell_type": "code",
   "execution_count": null,
   "outputs": [],
   "source": [],
   "metadata": {
    "collapsed": false
   },
   "id": "7d74e09cdcc6f121"
  }
 ],
 "metadata": {
  "kernelspec": {
   "display_name": "Python 3",
   "language": "python",
   "name": "python3"
  },
  "language_info": {
   "codemirror_mode": {
    "name": "ipython",
    "version": 2
   },
   "file_extension": ".py",
   "mimetype": "text/x-python",
   "name": "python",
   "nbconvert_exporter": "python",
   "pygments_lexer": "ipython2",
   "version": "2.7.6"
  }
 },
 "nbformat": 4,
 "nbformat_minor": 5
}
