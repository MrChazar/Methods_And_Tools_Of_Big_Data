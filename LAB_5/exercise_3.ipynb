{
 "cells": [
  {
   "cell_type": "markdown",
   "source": [
    "# Zadanie 4\n",
    "Wykorzystaj bibliotekę NumPy do implementacji wybranych dwóch niestandardowych metod ekstrakcji cech (np. transofrmata Fouriera, analiza falowa, spektralna analiza gęstości\n",
    "mocy, analiza harmoniczna, autokorelacja, metody nieliniowe), które nie są dostępne w bibliotece pandas. Przeprowadź analizę wydajnościową różnych metod ekstrakcji cech dla dużych zbiorów danych szeregów czasowych. Porównaj wydajność niestandardowych metod z\n",
    "metodami dostępnymi w bibliotece pandas pod kątem czasu obliczeń."
   ],
   "metadata": {
    "collapsed": false
   },
   "id": "746cc9415d85fd81"
  },
  {
   "cell_type": "code",
   "execution_count": null,
   "outputs": [],
   "source": [
    "import pandas as pd\n",
    "import numpy as np\n",
    "import matplotlib.pyplot as plt\n",
    "import yfinance as yf\n",
    "import statsmodels as sts"
   ],
   "metadata": {
    "collapsed": false
   },
   "id": "8197739ecafe5060"
  }
 ],
 "metadata": {
  "kernelspec": {
   "display_name": "Python 3",
   "language": "python",
   "name": "python3"
  },
  "language_info": {
   "codemirror_mode": {
    "name": "ipython",
    "version": 2
   },
   "file_extension": ".py",
   "mimetype": "text/x-python",
   "name": "python",
   "nbconvert_exporter": "python",
   "pygments_lexer": "ipython2",
   "version": "2.7.6"
  }
 },
 "nbformat": 4,
 "nbformat_minor": 5
}
