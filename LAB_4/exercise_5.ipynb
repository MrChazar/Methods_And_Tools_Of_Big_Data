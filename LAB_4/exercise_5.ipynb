{
 "cells": [
  {
   "cell_type": "code",
   "execution_count": 1,
   "id": "initial_id",
   "metadata": {
    "collapsed": true,
    "ExecuteTime": {
     "end_time": "2024-03-22T19:16:17.354909500Z",
     "start_time": "2024-03-22T19:16:15.751627800Z"
    }
   },
   "outputs": [],
   "source": [
    "import pandas as pd\n",
    "import numpy as np\n",
    "import matplotlib.pyplot as plt\n",
    "import yfinance as yf"
   ]
  },
  {
   "cell_type": "markdown",
   "source": [
    "# Zadanie 6\n",
    "Prognozowanie ruchu ulicznego. Wykorzystaj dane z czujników ruchu ulicznego do prognozowania przyszłego ruchu na drogach. Zastosuj metodę interpolacji do analizy trendów\n",
    "w ruchu ulicznym i przewidywania przyszłych wzorców ruchu. Przeprowadź analizę porównawczą różnych metod interpolacji w kontekście prognozowania."
   ],
   "metadata": {
    "collapsed": false
   },
   "id": "139c0b2db56f62ea"
  },
  {
   "cell_type": "code",
   "execution_count": null,
   "outputs": [],
   "source": [],
   "metadata": {
    "collapsed": false
   },
   "id": "4c829e163d4e5b5f"
  }
 ],
 "metadata": {
  "kernelspec": {
   "display_name": "Python 3",
   "language": "python",
   "name": "python3"
  },
  "language_info": {
   "codemirror_mode": {
    "name": "ipython",
    "version": 2
   },
   "file_extension": ".py",
   "mimetype": "text/x-python",
   "name": "python",
   "nbconvert_exporter": "python",
   "pygments_lexer": "ipython2",
   "version": "2.7.6"
  }
 },
 "nbformat": 4,
 "nbformat_minor": 5
}
