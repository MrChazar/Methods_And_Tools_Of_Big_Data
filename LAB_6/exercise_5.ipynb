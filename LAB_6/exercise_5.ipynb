{
 "cells": [
  {
   "cell_type": "markdown",
   "source": [
    "# Zadanie 6\n",
    "Wczytaj zbiór danych \"20 Newsgroups\" dostępny w bibliotece scikit-learn. Wykonaj przetwarzanie tekstu, aby oczyścić i przekształcić dokumenty na wektory cech, na przykład używając\n",
    "technik takich jak tokenizacja, usuwanie stop words, stemming itp. Zastosuj metodę LDA do\n",
    "zredukowania wymiarowości danych. Przeprowadź analizę wyników, aby zidentyfikować\n",
    "główne tematy lub kategorie w zbiorze danych. Przedstaw wyniki na wykresie, pokazując przyporządkowanie dokumentów do poszczególnych tematów wyodrębnionych za pomocą LDA.\n",
    "20 newsgroups dataset to zestaw danych zawierający zbiór artykułów z 20 różnych grup dyskusyjnych online, z etykietami kategorii, do których należy każdy artykuł. Może być wykorzystywany do redukcji wymiarowości tekstu."
   ],
   "metadata": {
    "collapsed": false
   },
   "id": "1e0a5aa2eb5dc701"
  },
  {
   "cell_type": "code",
   "execution_count": 1,
   "outputs": [],
   "source": [
    "from sklearn.datasets import fetch_20newsgroups\n",
    "import pandas as pd\n",
    "import numpy as np\n",
    "from sklearn.feature_extraction.text import TfidfVectorizer\n",
    "from sklearn.decomposition import LatentDirichletAllocation as LDA\n",
    "import matplotlib.pyplot as plt"
   ],
   "metadata": {
    "collapsed": false,
    "ExecuteTime": {
     "end_time": "2024-04-17T19:25:56.818816700Z",
     "start_time": "2024-04-17T19:25:52.196829800Z"
    }
   },
   "id": "4b8b440a947f1d91"
  },
  {
   "cell_type": "code",
   "execution_count": null,
   "outputs": [
    {
     "name": "stderr",
     "output_type": "stream",
     "text": [
      "C:\\Users\\jakub\\AppData\\Local\\Programs\\Python\\Python39\\lib\\site-packages\\IPython\\core\\pylabtools.py:152: UserWarning: Creating legend with loc=\"best\" can be slow with large amounts of data.\n",
      "  fig.canvas.print_figure(bytes_io, **kw)\n"
     ]
    }
   ],
   "source": [
    "# Wczytanie danych\n",
    "news = fetch_20newsgroups()\n",
    "\n",
    "# Przetwarzanie tekstu\n",
    "vectorizer = TfidfVectorizer(max_features=1000, stop_words='english')\n",
    "X = vectorizer.fit_transform(news.data)\n",
    "\n",
    "# Redukcja wymiarów za pomocą LDA\n",
    "lda = LDA(n_components=20)  # Zakładamy, że chcemy znaleźć 20 tematów\n",
    "X_lda = lda.fit_transform(X)\n",
    "\n",
    "# Analiza wyników\n",
    "plt.figure(figsize=(10, 8))\n",
    "for i in range(X_lda.shape[1]):\n",
    "    plt.scatter(X_lda[:, i], np.zeros_like(X_lda[:, i]) + i, alpha=0.5, label=f'Temat {i+1}')\n",
    "    \n",
    "\n",
    "plt.xlabel('Wymiar 1')\n",
    "plt.title('Przyporządkowanie dokumentów do tematów za pomocą LDA')\n",
    "plt.legend()\n",
    "plt.show()"
   ],
   "metadata": {
    "collapsed": false,
    "is_executing": true,
    "ExecuteTime": {
     "start_time": "2024-04-17T19:25:56.818816700Z"
    }
   },
   "id": "2bd1ebd0b3b09ac9"
  },
  {
   "cell_type": "markdown",
   "source": [],
   "metadata": {
    "collapsed": false
   },
   "id": "e42f218582f94499"
  },
  {
   "cell_type": "markdown",
   "source": [
    "# Wnioski\n",
    "Możemy zauważyć że po zastosowaniu metody LDA dostaliśmy wyraźny podział wiadomości na tematy."
   ],
   "metadata": {
    "collapsed": false
   },
   "id": "cc8d53b95546f06c"
  }
 ],
 "metadata": {
  "kernelspec": {
   "display_name": "Python 3",
   "language": "python",
   "name": "python3"
  },
  "language_info": {
   "codemirror_mode": {
    "name": "ipython",
    "version": 2
   },
   "file_extension": ".py",
   "mimetype": "text/x-python",
   "name": "python",
   "nbconvert_exporter": "python",
   "pygments_lexer": "ipython2",
   "version": "2.7.6"
  }
 },
 "nbformat": 4,
 "nbformat_minor": 5
}
