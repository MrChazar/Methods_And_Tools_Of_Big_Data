{
 "cells": [
  {
   "cell_type": "markdown",
   "source": [
    "# Zadanie 4\n",
    "Wczytaj zbiór danych o obrazach twarzy, np. zbiór danych Labeled Faces in the Wild (LFW).\n",
    "Wykonaj redukcję wymiarowości danych za pomocą metody NMF. Wybierz kilka cech (składających się na macierz bazową) i wyświetl je w postaci obrazów, aby zobaczyć, jakie cechy\n",
    "zostały wykryte przez algorytm.\n",
    "Zbiór danych LFW z biblioteki sikit-learn zawiera tysiące zdjęć twarzy różnych osób, z etykietami określającymi tożsamość każdej osoby. Może być wykorzystywany do zadań redukcji\n",
    "wymiarowości w celu wizualizacji przestrzeni cech twarzy."
   ],
   "metadata": {
    "collapsed": false
   },
   "id": "ac1f47f1a30198b4"
  },
  {
   "cell_type": "code",
   "execution_count": 4,
   "outputs": [],
   "source": [
    "import  pandas as pd\n",
    "import  numpy as np\n",
    "from sklearn.decomposition import PCA\n",
    "from sklearn.datasets import fetch_lfw_people\n",
    "import matplotlib.pyplot as plt"
   ],
   "metadata": {
    "collapsed": false,
    "ExecuteTime": {
     "end_time": "2024-04-12T22:00:28.697398700Z",
     "start_time": "2024-04-12T22:00:28.674650900Z"
    }
   },
   "id": "410109879ce1154"
  },
  {
   "cell_type": "code",
   "execution_count": 8,
   "outputs": [
    {
     "data": {
      "text/plain": "{'data': array([[0.17385621, 0.1385621 , 0.11764706, ..., 0.09019608, 0.10196079,\n         0.09803922],\n        [0.61960787, 0.6418301 , 0.675817  , ..., 0.5320261 , 0.5411765 ,\n         0.5111111 ],\n        [0.3124183 , 0.33594772, 0.40392157, ..., 0.7738562 , 0.6732026 ,\n         0.29934642],\n        ...,\n        [0.14901961, 0.17777778, 0.26143792, ..., 0.2522876 , 0.26013073,\n         0.21699347],\n        [0.06797386, 0.13071896, 0.39215687, ..., 0.9490196 , 0.7045751 ,\n         0.2875817 ],\n        [0.23921569, 0.12941177, 0.06797386, ..., 0.46666667, 0.41568628,\n         0.5294118 ]], dtype=float32),\n 'images': array([[[0.17385621, 0.1385621 , 0.11764706, ..., 0.1006536 ,\n          0.12810458, 0.15555556],\n         [0.17777778, 0.14901961, 0.16732027, ..., 0.11633987,\n          0.13594772, 0.16601308],\n         [0.16078432, 0.19346406, 0.24052288, ..., 0.1503268 ,\n          0.14248367, 0.17385621],\n         ...,\n         [0.85098046, 0.5019608 , 0.17777778, ..., 0.07320262,\n          0.07843138, 0.07843138],\n         [0.3751634 , 0.1764706 , 0.14379086, ..., 0.075817  ,\n          0.1006536 , 0.09411765],\n         [0.14509805, 0.14509805, 0.13464053, ..., 0.09019608,\n          0.10196079, 0.09803922]],\n \n        [[0.61960787, 0.6418301 , 0.675817  , ..., 0.4993464 ,\n          0.151634  , 0.05751634],\n         [0.6026144 , 0.5908497 , 0.6562092 , ..., 0.5503268 ,\n          0.15555556, 0.05098039],\n         [0.5673203 , 0.5176471 , 0.5633987 , ..., 0.52287585,\n          0.13986929, 0.04575163],\n         ...,\n         [0.43006536, 0.5934641 , 0.7764706 , ..., 0.5189543 ,\n          0.49803922, 0.49150327],\n         [0.47320262, 0.47843137, 0.7372549 , ..., 0.5163399 ,\n          0.5176471 , 0.50326794],\n         [0.5045752 , 0.4509804 , 0.6169935 , ..., 0.5320261 ,\n          0.5411765 , 0.5111111 ]],\n \n        [[0.3124183 , 0.33594772, 0.40392157, ..., 0.32941177,\n          0.303268  , 0.2888889 ],\n         [0.3281046 , 0.39084968, 0.49411765, ..., 0.3647059 ,\n          0.29934642, 0.28496733],\n         [0.3398693 , 0.43137255, 0.5529412 , ..., 0.3137255 ,\n          0.32418302, 0.29411766],\n         ...,\n         [0.08104575, 0.07320262, 0.12026144, ..., 0.74771243,\n          0.59738564, 0.2379085 ],\n         [0.12026144, 0.22222222, 0.38039216, ..., 0.76209146,\n          0.6522876 , 0.28496733],\n         [0.44052288, 0.48758173, 0.47712418, ..., 0.7738562 ,\n          0.6732026 , 0.29934642]],\n \n        ...,\n \n        [[0.14901961, 0.17777778, 0.26143792, ..., 0.1267974 ,\n          0.1006536 , 0.1124183 ],\n         [0.19477125, 0.21176471, 0.28366014, ..., 0.15686275,\n          0.10196079, 0.12026144],\n         [0.1882353 , 0.21699347, 0.2888889 , ..., 0.17124183,\n          0.11372549, 0.14771242],\n         ...,\n         [0.30980393, 0.7542484 , 0.90457517, ..., 0.23267974,\n          0.1764706 , 0.13333334],\n         [0.2653595 , 0.4666667 , 0.8496732 , ..., 0.25620916,\n          0.23006536, 0.17254902],\n         [0.27189544, 0.28366014, 0.59607846, ..., 0.2522876 ,\n          0.26013073, 0.21699347]],\n \n        [[0.06797386, 0.13071896, 0.39215687, ..., 0.7019608 ,\n          0.6928105 , 0.6875817 ],\n         [0.06928105, 0.12810458, 0.38039216, ..., 0.69673204,\n          0.6901961 , 0.68496734],\n         [0.06928105, 0.13725491, 0.40653595, ..., 0.68888897,\n          0.6810458 , 0.6732027 ],\n         ...,\n         [0.09019608, 0.09150327, 0.10196079, ..., 0.9594771 ,\n          0.6941177 , 0.21437909],\n         [0.09411765, 0.09281046, 0.1006536 , ..., 0.951634  ,\n          0.68888885, 0.23660131],\n         [0.09411765, 0.09411765, 0.1006536 , ..., 0.9490196 ,\n          0.7045751 , 0.2875817 ]],\n \n        [[0.23921569, 0.12941177, 0.06797386, ..., 0.16470589,\n          0.35424837, 0.3869281 ],\n         [0.22222222, 0.08627451, 0.2       , ..., 0.18431373,\n          0.2640523 , 0.41830066],\n         [0.18562092, 0.14379086, 0.34248367, ..., 0.23398693,\n          0.2379085 , 0.3882353 ],\n         ...,\n         [0.4496732 , 0.4039216 , 0.3385621 , ..., 0.41437912,\n          0.41176474, 0.3254902 ],\n         [0.45620915, 0.39477125, 0.3503268 , ..., 0.44575164,\n          0.43006536, 0.3895425 ],\n         [0.45228758, 0.38431373, 0.38039216, ..., 0.46666667,\n          0.41568628, 0.5294118 ]]], dtype=float32),\n 'target': array([5360, 3434, 3807, ..., 2175,  373, 2941], dtype=int64),\n 'target_names': array(['AJ Cook', 'AJ Lamas', 'Aaron Eckhart', ..., 'Zumrati Juma',\n        'Zurab Tsereteli', 'Zydrunas Ilgauskas'], dtype='<U35'),\n 'DESCR': \".. _labeled_faces_in_the_wild_dataset:\\n\\nThe Labeled Faces in the Wild face recognition dataset\\n------------------------------------------------------\\n\\nThis dataset is a collection of JPEG pictures of famous people collected\\nover the internet, all details are available on the official website:\\n\\n    http://vis-www.cs.umass.edu/lfw/\\n\\nEach picture is centered on a single face. The typical task is called\\nFace Verification: given a pair of two pictures, a binary classifier\\nmust predict whether the two images are from the same person.\\n\\nAn alternative task, Face Recognition or Face Identification is:\\ngiven the picture of the face of an unknown person, identify the name\\nof the person by referring to a gallery of previously seen pictures of\\nidentified persons.\\n\\nBoth Face Verification and Face Recognition are tasks that are typically\\nperformed on the output of a model trained to perform Face Detection. The\\nmost popular model for Face Detection is called Viola-Jones and is\\nimplemented in the OpenCV library. The LFW faces were extracted by this\\nface detector from various online websites.\\n\\n**Data Set Characteristics:**\\n\\n    =================   =======================\\n    Classes                                5749\\n    Samples total                         13233\\n    Dimensionality                         5828\\n    Features            real, between 0 and 255\\n    =================   =======================\\n\\n|details-start|\\n**Usage**\\n|details-split|\\n\\n``scikit-learn`` provides two loaders that will automatically download,\\ncache, parse the metadata files, decode the jpeg and convert the\\ninteresting slices into memmapped numpy arrays. This dataset size is more\\nthan 200 MB. The first load typically takes more than a couple of minutes\\nto fully decode the relevant part of the JPEG files into numpy arrays. If\\nthe dataset has  been loaded once, the following times the loading times\\nless than 200ms by using a memmapped version memoized on the disk in the\\n``~/scikit_learn_data/lfw_home/`` folder using ``joblib``.\\n\\nThe first loader is used for the Face Identification task: a multi-class\\nclassification task (hence supervised learning)::\\n\\n  >>> from sklearn.datasets import fetch_lfw_people\\n  >>> lfw_people = fetch_lfw_people(min_faces_per_person=70, resize=0.4)\\n\\n  >>> for name in lfw_people.target_names:\\n  ...     print(name)\\n  ...\\n  Ariel Sharon\\n  Colin Powell\\n  Donald Rumsfeld\\n  George W Bush\\n  Gerhard Schroeder\\n  Hugo Chavez\\n  Tony Blair\\n\\nThe default slice is a rectangular shape around the face, removing\\nmost of the background::\\n\\n  >>> lfw_people.data.dtype\\n  dtype('float32')\\n\\n  >>> lfw_people.data.shape\\n  (1288, 1850)\\n\\n  >>> lfw_people.images.shape\\n  (1288, 50, 37)\\n\\nEach of the ``1140`` faces is assigned to a single person id in the ``target``\\narray::\\n\\n  >>> lfw_people.target.shape\\n  (1288,)\\n\\n  >>> list(lfw_people.target[:10])\\n  [5, 6, 3, 1, 0, 1, 3, 4, 3, 0]\\n\\nThe second loader is typically used for the face verification task: each sample\\nis a pair of two picture belonging or not to the same person::\\n\\n  >>> from sklearn.datasets import fetch_lfw_pairs\\n  >>> lfw_pairs_train = fetch_lfw_pairs(subset='train')\\n\\n  >>> list(lfw_pairs_train.target_names)\\n  ['Different persons', 'Same person']\\n\\n  >>> lfw_pairs_train.pairs.shape\\n  (2200, 2, 62, 47)\\n\\n  >>> lfw_pairs_train.data.shape\\n  (2200, 5828)\\n\\n  >>> lfw_pairs_train.target.shape\\n  (2200,)\\n\\nBoth for the :func:`sklearn.datasets.fetch_lfw_people` and\\n:func:`sklearn.datasets.fetch_lfw_pairs` function it is\\npossible to get an additional dimension with the RGB color channels by\\npassing ``color=True``, in that case the shape will be\\n``(2200, 2, 62, 47, 3)``.\\n\\nThe :func:`sklearn.datasets.fetch_lfw_pairs` datasets is subdivided into\\n3 subsets: the development ``train`` set, the development ``test`` set and\\nan evaluation ``10_folds`` set meant to compute performance metrics using a\\n10-folds cross validation scheme.\\n\\n|details-end|\\n\\n.. topic:: References:\\n\\n * `Labeled Faces in the Wild: A Database for Studying Face Recognition\\n   in Unconstrained Environments.\\n   <http://vis-www.cs.umass.edu/lfw/lfw.pdf>`_\\n   Gary B. Huang, Manu Ramesh, Tamara Berg, and Erik Learned-Miller.\\n   University of Massachusetts, Amherst, Technical Report 07-49, October, 2007.\\n\\n\\n.. topic:: Examples:\\n\\n   * :ref:`sphx_glr_auto_examples_applications_plot_face_recognition.py`\\n\"}"
     },
     "execution_count": 8,
     "metadata": {},
     "output_type": "execute_result"
    }
   ],
   "source": [
    "lfw_people = fetch_lfw_people(min_faces_per_person=1, resize=0.4)\n",
    "lfw_people"
   ],
   "metadata": {
    "collapsed": false,
    "ExecuteTime": {
     "end_time": "2024-04-12T22:04:55.676032Z",
     "start_time": "2024-04-12T22:04:54.988851900Z"
    }
   },
   "id": "1d5f9b9c50b24d40"
  },
  {
   "cell_type": "code",
   "execution_count": null,
   "outputs": [],
   "source": [],
   "metadata": {
    "collapsed": false
   },
   "id": "a47d4f0b56d4dc71"
  }
 ],
 "metadata": {
  "kernelspec": {
   "display_name": "Python 3",
   "language": "python",
   "name": "python3"
  },
  "language_info": {
   "codemirror_mode": {
    "name": "ipython",
    "version": 2
   },
   "file_extension": ".py",
   "mimetype": "text/x-python",
   "name": "python",
   "nbconvert_exporter": "python",
   "pygments_lexer": "ipython2",
   "version": "2.7.6"
  }
 },
 "nbformat": 4,
 "nbformat_minor": 5
}
